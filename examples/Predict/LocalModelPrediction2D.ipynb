{
 "cells": [
  {
   "cell_type": "code",
   "execution_count": null,
   "metadata": {
    "colab": {
     "base_uri": "https://localhost:8080/"
    },
    "id": "uh2wPuymiDmT",
    "outputId": "fc1dda47-aad4-4af7-a08e-b62fbe0df5de"
   },
   "outputs": [],
   "source": [
    "import os\n",
    "import glob\n",
    "import sys\n",
    "import numpy as np\n",
    "from tqdm import tqdm\n",
    "from tifffile import imread, imwrite\n",
    "from csbdeep.models import Config, CARE\n",
    "from vollseg import StarDist2D, UNET, VollSeg2D\n",
    "os.environ[\"CUDA_VISIBLE_DEVICES\"]=\"1\"\n",
    "os.environ[\"HDF5_USE_FILE_LOCKING\"] = \"FALSE\"\n",
    "from pathlib import Path\n"
   ]
  },
  {
   "cell_type": "code",
   "execution_count": null,
   "metadata": {
    "colab": {
     "base_uri": "https://localhost:8080/"
    },
    "id": "ODBQtQoqiDmT",
    "outputId": "146edc6f-4616-4fed-af0e-daa4d99d4bc2",
    "scrolled": true
   },
   "outputs": [],
   "source": [
    "image_dir = '/home/sancere/Kepler/WildTypeTest/wt_mov12_SW30/'\n",
    "\n",
    "model_dir = '/home/sancere/Kepler/CurieDeepLearningModels/'\n",
    "\n",
    "save_dir = image_dir + 'Resultsd3f48/'\n",
    "\n",
    "\n",
    "UNETModelName = 'UNETWildTypeDrosd3f48'\n",
    "StarModelName = 'WildTypeDrosd3f48'\n",
    "\n",
    "unet_model = UNET(config = None, name = UNETModelName, basedir = model_dir)\n",
    "star_model = StarDist2D(config = None, name = StarModelName, basedir = model_dir)"
   ]
  },
  {
   "cell_type": "code",
   "execution_count": null,
   "metadata": {
    "colab": {
     "base_uri": "https://localhost:8080/",
     "height": 1000
    },
    "id": "WCJlUdyIiDmT",
    "outputId": "61a99db1-f409-48db-8552-66e4e362e4d5",
    "scrolled": false
   },
   "outputs": [],
   "source": [
    "Raw_path = os.path.join(ImageDir, '*.tif')\n",
    "filesRaw = glob.glob(Raw_path)\n",
    "filesRaw.sort\n",
    "min_size = 5\n",
    "n_tiles = (2,2)\n",
    "\n",
    "for fname in filesRaw:\n",
    "     \n",
    "     image = imread(fname)\n",
    "     Name = os.path.basename(os.path.splitext(fname)[0])\n",
    "     VollSeg2D( image, unet_model, star_model,  min_size = min_size,  n_tiles = n_tiles, UseProbability = True, save_dir = save_dir, Name = Name)\n",
    "       \n",
    "    "
   ]
  },
  {
   "cell_type": "code",
   "execution_count": null,
   "metadata": {
    "id": "IJzQ43hSJaXX"
   },
   "outputs": [],
   "source": []
  },
  {
   "cell_type": "code",
   "execution_count": null,
   "metadata": {},
   "outputs": [],
   "source": []
  }
 ],
 "metadata": {
  "accelerator": "GPU",
  "colab": {
   "collapsed_sections": [],
   "machine_shape": "hm",
   "name": "Copy of Copy of GreenCellsSmartSeeds.ipynb",
   "provenance": []
  },
  "kernelspec": {
   "display_name": "Python 3 (ipykernel)",
   "language": "python",
   "name": "python3"
  },
  "language_info": {
   "codemirror_mode": {
    "name": "ipython",
    "version": 3
   },
   "file_extension": ".py",
   "mimetype": "text/x-python",
   "name": "python",
   "nbconvert_exporter": "python",
   "pygments_lexer": "ipython3",
   "version": "3.9.0"
  }
 },
 "nbformat": 4,
 "nbformat_minor": 1
}
