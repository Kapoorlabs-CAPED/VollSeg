{
 "cells": [
  {
   "cell_type": "code",
   "execution_count": 1,
   "metadata": {
    "colab": {
     "base_uri": "https://localhost:8080/"
    },
    "id": "uh2wPuymiDmT",
    "outputId": "fc1dda47-aad4-4af7-a08e-b62fbe0df5de"
   },
   "outputs": [
    {
     "name": "stdout",
     "output_type": "stream",
     "text": [
      "DIPlib -- a quantitative image analysis library\n",
      "Version 3.1.0 (Sep 24 2021)\n",
      "For more information see https://diplib.org\n"
     ]
    }
   ],
   "source": [
    "import os\n",
    "import glob\n",
    "from tifffile import imread\n",
    "from vollseg import StarDist3D, UNET, VollSeg, MASKUNET, CARE\n",
    "\n"
   ]
  },
  {
   "cell_type": "code",
   "execution_count": null,
   "metadata": {},
   "outputs": [],
   "source": []
  },
  {
   "cell_type": "code",
   "execution_count": 2,
   "metadata": {},
   "outputs": [
    {
     "name": "stdout",
     "output_type": "stream",
     "text": [
      "Thu Mar 17 12:00:16 2022       \n",
      "+-----------------------------------------------------------------------------+\n",
      "| NVIDIA-SMI 496.49       Driver Version: 496.49       CUDA Version: 11.5     |\n",
      "|-------------------------------+----------------------+----------------------+\n",
      "| GPU  Name            TCC/WDDM | Bus-Id        Disp.A | Volatile Uncorr. ECC |\n",
      "| Fan  Temp  Perf  Pwr:Usage/Cap|         Memory-Usage | GPU-Util  Compute M. |\n",
      "|                               |                      |               MIG M. |\n",
      "|===============================+======================+======================|\n",
      "|   0  NVIDIA GeForce ... WDDM  | 00000000:01:00.0  On |                  N/A |\n",
      "| N/A   44C    P5     7W /  N/A |    483MiB /  4096MiB |      2%      Default |\n",
      "|                               |                      |                  N/A |\n",
      "+-------------------------------+----------------------+----------------------+\n",
      "                                                                               \n",
      "+-----------------------------------------------------------------------------+\n",
      "| Processes:                                                                  |\n",
      "|  GPU   GI   CI        PID   Type   Process name                  GPU Memory |\n",
      "|        ID   ID                                                   Usage      |\n",
      "|=============================================================================|\n",
      "|    0   N/A  N/A      1968    C+G   Insufficient Permissions        N/A      |\n",
      "|    0   N/A  N/A     12340    C+G   Insufficient Permissions        N/A      |\n",
      "|    0   N/A  N/A     40012    C+G   ...\\ScreenRecorder.Clent.exe    N/A      |\n",
      "+-----------------------------------------------------------------------------+\n"
     ]
    }
   ],
   "source": [
    "!nvidia-smi"
   ]
  },
  {
   "cell_type": "code",
   "execution_count": 3,
   "metadata": {
    "colab": {
     "base_uri": "https://localhost:8080/"
    },
    "id": "ODBQtQoqiDmT",
    "outputId": "146edc6f-4616-4fed-af0e-daa4d99d4bc2"
   },
   "outputs": [
    {
     "name": "stdout",
     "output_type": "stream",
     "text": [
      "Loading network weights from 'weights_best.h5'.\n",
      "Loading network weights from 'weights_last.h5'.\n",
      "Loading thresholds from 'thresholds.json'.\n",
      "Using default values: prob_thresh=0.6, nms_thresh=0.3.\n",
      "Loading network weights from 'weights_best.h5'.\n"
     ]
    }
   ],
   "source": [
    "image_dir = 'G:\\My Drive/Mari_Analysis/Data/Dataset2/for_tracking_tiltcorrected_cropped/'\n",
    "model_dir = 'G:\\My Drive/Mari_Analysis/Models/'\n",
    "save_dir = image_dir + 'latest_varun_roi_Results/'\n",
    "\n",
    "noise_model_name = None\n",
    "unet_model_name = 'Unet3D/UNETlatest_nuclei_segmentation_f32_d3_r96_bresnet/'\n",
    "star_model_name = 'StarDist3D/latest_nuclei_segmentation_f16_d3_r96_bresnet/'\n",
    "roi_model_name = 'MASKUNET/UNETnuclei_mask_d3_f16/'\n",
    "\n",
    "if unet_model_name is not None:\n",
    "  unet_model = UNET(config = None, name = unet_model_name, basedir = model_dir)\n",
    "else:\n",
    "    unet_model = None\n",
    "if star_model_name is not None:\n",
    "  star_model = StarDist3D(config = None, name = star_model_name, basedir = model_dir)\n",
    "else:\n",
    "    star_model = None\n",
    "if noise_model_name is not None:\n",
    "  noise_model = CARE(config=None, name= noise_model_name, basedir = model_dir)\n",
    "else:\n",
    "    noise_model = None\n",
    "if roi_model_name is not None:\n",
    "  roi_model = MASKUNET(config = None, name = roi_model_name, basedir = model_dir)\n",
    "else:\n",
    "    roi_model = None"
   ]
  },
  {
   "cell_type": "code",
   "execution_count": 4,
   "metadata": {
    "colab": {
     "base_uri": "https://localhost:8080/",
     "height": 1000
    },
    "id": "WCJlUdyIiDmT",
    "outputId": "61a99db1-f409-48db-8552-66e4e362e4d5",
    "scrolled": false
   },
   "outputs": [
    {
     "name": "stdout",
     "output_type": "stream",
     "text": [
      "Generating VollSeg results\n"
     ]
    },
    {
     "name": "stderr",
     "output_type": "stream",
     "text": [
      "100%|████████████████████████████████████████████████████████████████████████████████| 256/256 [00:11<00:00, 22.22it/s]\n"
     ]
    },
    {
     "name": "stdout",
     "output_type": "stream",
     "text": [
      "UNET segmentation on Image (22, 1673, 1622)\n"
     ]
    },
    {
     "name": "stderr",
     "output_type": "stream",
     "text": [
      "100%|████████████████████████████████████████████████████████████████████████████████| 256/256 [00:52<00:00,  4.92it/s]\n"
     ]
    },
    {
     "name": "stdout",
     "output_type": "stream",
     "text": [
      "Stardist segmentation on Image\n",
      "Predicting Instances\n"
     ]
    },
    {
     "name": "stderr",
     "output_type": "stream",
     "text": [
      "100%|████████████████████████████████████████████████████████████████████████████████| 256/256 [01:12<00:00,  3.55it/s]\n"
     ]
    },
    {
     "ename": "MemoryError",
     "evalue": "Unable to allocate 22.6 GiB for an array with shape (22, 1728, 1664, 96) and data type float32",
     "output_type": "error",
     "traceback": [
      "\u001b[1;31m---------------------------------------------------------------------------\u001b[0m",
      "\u001b[1;31mMemoryError\u001b[0m                               Traceback (most recent call last)",
      "\u001b[1;32m~\\AppData\\Local\\Temp/ipykernel_30852/2242500128.py\u001b[0m in \u001b[0;36m<module>\u001b[1;34m\u001b[0m\n\u001b[0;32m     33\u001b[0m      \u001b[0mimage\u001b[0m \u001b[1;33m=\u001b[0m \u001b[0mimread\u001b[0m\u001b[1;33m(\u001b[0m\u001b[0mfname\u001b[0m\u001b[1;33m)\u001b[0m\u001b[1;33m\u001b[0m\u001b[1;33m\u001b[0m\u001b[0m\n\u001b[0;32m     34\u001b[0m      \u001b[0mName\u001b[0m \u001b[1;33m=\u001b[0m \u001b[0mos\u001b[0m\u001b[1;33m.\u001b[0m\u001b[0mpath\u001b[0m\u001b[1;33m.\u001b[0m\u001b[0mbasename\u001b[0m\u001b[1;33m(\u001b[0m\u001b[0mos\u001b[0m\u001b[1;33m.\u001b[0m\u001b[0mpath\u001b[0m\u001b[1;33m.\u001b[0m\u001b[0msplitext\u001b[0m\u001b[1;33m(\u001b[0m\u001b[0mfname\u001b[0m\u001b[1;33m)\u001b[0m\u001b[1;33m[\u001b[0m\u001b[1;36m0\u001b[0m\u001b[1;33m]\u001b[0m\u001b[1;33m)\u001b[0m\u001b[1;33m\u001b[0m\u001b[1;33m\u001b[0m\u001b[0m\n\u001b[1;32m---> 35\u001b[1;33m      VollSeg( image, \n\u001b[0m\u001b[0;32m     36\u001b[0m              \u001b[0munet_model\u001b[0m \u001b[1;33m=\u001b[0m \u001b[0munet_model\u001b[0m\u001b[1;33m,\u001b[0m\u001b[1;33m\u001b[0m\u001b[1;33m\u001b[0m\u001b[0m\n\u001b[0;32m     37\u001b[0m              \u001b[0mstar_model\u001b[0m \u001b[1;33m=\u001b[0m \u001b[0mstar_model\u001b[0m\u001b[1;33m,\u001b[0m\u001b[1;33m\u001b[0m\u001b[1;33m\u001b[0m\u001b[0m\n",
      "\u001b[1;32mc:\\users\\rando\\downloads\\vollseg\\vollseg\\helpers.py\u001b[0m in \u001b[0;36mVollSeg\u001b[1;34m(image, unet_model, star_model, roi_model, roi_image, axes, noise_model, prob_thresh, nms_thresh, min_size_mask, min_size, max_size, n_tiles, UseProbability, globalthreshold, extent, donormalize, lower_perc, upper_perc, dounet, seedpool, save_dir, Name, startZ, slice_merge, iou_threshold, RGB)\u001b[0m\n\u001b[0;32m   1055\u001b[0m         \u001b[1;31m# this is a 3D image and if stardist model is supplied we use this method\u001b[0m\u001b[1;33m\u001b[0m\u001b[1;33m\u001b[0m\u001b[1;33m\u001b[0m\u001b[0m\n\u001b[0;32m   1056\u001b[0m         \u001b[1;32mif\u001b[0m \u001b[0mstar_model\u001b[0m \u001b[1;32mis\u001b[0m \u001b[1;32mnot\u001b[0m \u001b[1;32mNone\u001b[0m\u001b[1;33m:\u001b[0m\u001b[1;33m\u001b[0m\u001b[1;33m\u001b[0m\u001b[0m\n\u001b[1;32m-> 1057\u001b[1;33m             res = VollSeg3D(image,  unet_model, star_model, roi_model=roi_model, roi_image=roi_image, axes=axes, noise_model=noise_model, prob_thresh=prob_thresh, nms_thresh=nms_thresh, donormalize=donormalize, lower_perc=lower_perc, upper_perc=upper_perc, min_size_mask=min_size_mask, min_size=min_size, max_size=max_size,\n\u001b[0m\u001b[0;32m   1058\u001b[0m                             n_tiles=n_tiles, UseProbability=UseProbability, globalthreshold=globalthreshold, extent=extent, dounet=dounet, seedpool=seedpool, startZ=startZ, slice_merge=slice_merge, iou_threshold=iou_threshold)\n\u001b[0;32m   1059\u001b[0m \u001b[1;33m\u001b[0m\u001b[0m\n",
      "\u001b[1;32mc:\\users\\rando\\downloads\\vollseg\\vollseg\\helpers.py\u001b[0m in \u001b[0;36mVollSeg3D\u001b[1;34m(image, unet_model, star_model, axes, noise_model, roi_model, roi_image, prob_thresh, nms_thresh, min_size_mask, min_size, max_size, n_tiles, UseProbability, globalthreshold, extent, dounet, seedpool, donormalize, lower_perc, upper_perc, startZ, slice_merge, iou_threshold)\u001b[0m\n\u001b[0;32m   1315\u001b[0m         \u001b[0mpatch_star\u001b[0m \u001b[1;33m=\u001b[0m \u001b[0mpatch\u001b[0m\u001b[1;33m\u001b[0m\u001b[1;33m\u001b[0m\u001b[0m\n\u001b[0;32m   1316\u001b[0m \u001b[1;33m\u001b[0m\u001b[0m\n\u001b[1;32m-> 1317\u001b[1;33m     smart_seeds, proabability_map, star_labels, Markers = STARPrediction3D(\n\u001b[0m\u001b[0;32m   1318\u001b[0m         patch_star, axes, star_model,  n_tiles, unet_mask=Mask_patch, UseProbability=UseProbability, globalthreshold=globalthreshold, extent=extent, seedpool=seedpool, prob_thresh=prob_thresh, nms_thresh=nms_thresh)\n\u001b[0;32m   1319\u001b[0m     \u001b[0mprint\u001b[0m\u001b[1;33m(\u001b[0m\u001b[1;34m'Removing small/large objects'\u001b[0m\u001b[1;33m)\u001b[0m\u001b[1;33m\u001b[0m\u001b[1;33m\u001b[0m\u001b[0m\n",
      "\u001b[1;32mc:\\users\\rando\\downloads\\vollseg\\vollseg\\helpers.py\u001b[0m in \u001b[0;36mSTARPrediction3D\u001b[1;34m(image, axes, model, n_tiles, unet_mask, UseProbability, globalthreshold, extent, seedpool, prob_thresh, nms_thresh)\u001b[0m\n\u001b[0;32m   1662\u001b[0m             image, axes = axes, n_tiles=n_tiles, prob_thresh=prob_thresh, nms_thresh=nms_thresh)\n\u001b[0;32m   1663\u001b[0m     \u001b[1;32melse\u001b[0m\u001b[1;33m:\u001b[0m\u001b[1;33m\u001b[0m\u001b[1;33m\u001b[0m\u001b[0m\n\u001b[1;32m-> 1664\u001b[1;33m         \u001b[0mres\u001b[0m \u001b[1;33m=\u001b[0m \u001b[0mmodel\u001b[0m\u001b[1;33m.\u001b[0m\u001b[0mpredict_vollseg\u001b[0m\u001b[1;33m(\u001b[0m\u001b[0mimage\u001b[0m\u001b[1;33m,\u001b[0m \u001b[0maxes\u001b[0m \u001b[1;33m=\u001b[0m \u001b[0maxes\u001b[0m\u001b[1;33m,\u001b[0m \u001b[0mn_tiles\u001b[0m\u001b[1;33m=\u001b[0m\u001b[0mn_tiles\u001b[0m\u001b[1;33m)\u001b[0m\u001b[1;33m\u001b[0m\u001b[1;33m\u001b[0m\u001b[0m\n\u001b[0m\u001b[0;32m   1665\u001b[0m     \u001b[0mMidImage\u001b[0m\u001b[1;33m,\u001b[0m \u001b[0mSmallProbability\u001b[0m\u001b[1;33m,\u001b[0m \u001b[0mSmallDistance\u001b[0m \u001b[1;33m=\u001b[0m \u001b[0mres\u001b[0m\u001b[1;33m\u001b[0m\u001b[1;33m\u001b[0m\u001b[0m\n\u001b[0;32m   1666\u001b[0m     \u001b[0mprint\u001b[0m\u001b[1;33m(\u001b[0m\u001b[1;34m'Predictions Done'\u001b[0m\u001b[1;33m)\u001b[0m\u001b[1;33m\u001b[0m\u001b[1;33m\u001b[0m\u001b[0m\n",
      "\u001b[1;32mc:\\users\\rando\\downloads\\vollseg\\vollseg\\StarDist3D.py\u001b[0m in \u001b[0;36mpredict_vollseg\u001b[1;34m(self, img, axes, normalizer, prob_thresh, nms_thresh, n_tiles, show_tile_progress, verbose, return_labels, predict_kwargs, nms_kwargs, overlap_label, return_predict)\u001b[0m\n\u001b[0;32m     95\u001b[0m         \u001b[0m_shape_inst\u001b[0m   \u001b[1;33m=\u001b[0m \u001b[0mtuple\u001b[0m\u001b[1;33m(\u001b[0m\u001b[0ms\u001b[0m \u001b[1;32mfor\u001b[0m \u001b[0ms\u001b[0m\u001b[1;33m,\u001b[0m\u001b[0ma\u001b[0m \u001b[1;32min\u001b[0m \u001b[0mzip\u001b[0m\u001b[1;33m(\u001b[0m\u001b[0m_permute_axes\u001b[0m\u001b[1;33m(\u001b[0m\u001b[0mimg\u001b[0m\u001b[1;33m)\u001b[0m\u001b[1;33m.\u001b[0m\u001b[0mshape\u001b[0m\u001b[1;33m,\u001b[0m \u001b[0m_axes_net\u001b[0m\u001b[1;33m)\u001b[0m \u001b[1;32mif\u001b[0m \u001b[0ma\u001b[0m \u001b[1;33m!=\u001b[0m \u001b[1;34m'C'\u001b[0m\u001b[1;33m)\u001b[0m\u001b[1;33m\u001b[0m\u001b[1;33m\u001b[0m\u001b[0m\n\u001b[0;32m     96\u001b[0m \u001b[1;33m\u001b[0m\u001b[0m\n\u001b[1;32m---> 97\u001b[1;33m         res = self.predict(img, axes=axes, normalizer=normalizer, n_tiles=n_tiles,\n\u001b[0m\u001b[0;32m     98\u001b[0m                                        show_tile_progress=show_tile_progress, **predict_kwargs)\n\u001b[0;32m     99\u001b[0m \u001b[1;33m\u001b[0m\u001b[0m\n",
      "\u001b[1;32m~\\anaconda3\\envs\\naparienv\\lib\\site-packages\\stardist\\models\\base.py\u001b[0m in \u001b[0;36mpredict\u001b[1;34m(self, img, axes, normalizer, n_tiles, show_tile_progress, **predict_kwargs)\u001b[0m\n\u001b[0;32m    503\u001b[0m         \u001b[0mresult\u001b[0m\u001b[1;33m[\u001b[0m\u001b[1;36m0\u001b[0m\u001b[1;33m]\u001b[0m \u001b[1;33m=\u001b[0m \u001b[0mnp\u001b[0m\u001b[1;33m.\u001b[0m\u001b[0mtake\u001b[0m\u001b[1;33m(\u001b[0m\u001b[0mresult\u001b[0m\u001b[1;33m[\u001b[0m\u001b[1;36m0\u001b[0m\u001b[1;33m]\u001b[0m\u001b[1;33m,\u001b[0m\u001b[1;36m0\u001b[0m\u001b[1;33m,\u001b[0m\u001b[0maxis\u001b[0m\u001b[1;33m=\u001b[0m\u001b[0mchannel\u001b[0m\u001b[1;33m)\u001b[0m\u001b[1;33m\u001b[0m\u001b[1;33m\u001b[0m\u001b[0m\n\u001b[0;32m    504\u001b[0m         \u001b[1;31m# dist\u001b[0m\u001b[1;33m\u001b[0m\u001b[1;33m\u001b[0m\u001b[1;33m\u001b[0m\u001b[0m\n\u001b[1;32m--> 505\u001b[1;33m         \u001b[0mresult\u001b[0m\u001b[1;33m[\u001b[0m\u001b[1;36m1\u001b[0m\u001b[1;33m]\u001b[0m \u001b[1;33m=\u001b[0m \u001b[0mnp\u001b[0m\u001b[1;33m.\u001b[0m\u001b[0mmaximum\u001b[0m\u001b[1;33m(\u001b[0m\u001b[1;36m1e-3\u001b[0m\u001b[1;33m,\u001b[0m \u001b[0mresult\u001b[0m\u001b[1;33m[\u001b[0m\u001b[1;36m1\u001b[0m\u001b[1;33m]\u001b[0m\u001b[1;33m)\u001b[0m \u001b[1;31m# avoid small dist values to prevent problems with Qhull\u001b[0m\u001b[1;33m\u001b[0m\u001b[1;33m\u001b[0m\u001b[0m\n\u001b[0m\u001b[0;32m    506\u001b[0m         \u001b[0mresult\u001b[0m\u001b[1;33m[\u001b[0m\u001b[1;36m1\u001b[0m\u001b[1;33m]\u001b[0m \u001b[1;33m=\u001b[0m \u001b[0mnp\u001b[0m\u001b[1;33m.\u001b[0m\u001b[0mmoveaxis\u001b[0m\u001b[1;33m(\u001b[0m\u001b[0mresult\u001b[0m\u001b[1;33m[\u001b[0m\u001b[1;36m1\u001b[0m\u001b[1;33m]\u001b[0m\u001b[1;33m,\u001b[0m\u001b[0mchannel\u001b[0m\u001b[1;33m,\u001b[0m\u001b[1;33m-\u001b[0m\u001b[1;36m1\u001b[0m\u001b[1;33m)\u001b[0m\u001b[1;33m\u001b[0m\u001b[1;33m\u001b[0m\u001b[0m\n\u001b[0;32m    507\u001b[0m \u001b[1;33m\u001b[0m\u001b[0m\n",
      "\u001b[1;31mMemoryError\u001b[0m: Unable to allocate 22.6 GiB for an array with shape (22, 1728, 1664, 96) and data type float32"
     ]
    }
   ],
   "source": [
    "Raw_path = os.path.join(image_dir, '*.tif')\n",
    "filesRaw = glob.glob(Raw_path)\n",
    "filesRaw.sort\n",
    "#Minimum size in pixels for the cells to be segmented\n",
    "min_size = 1\n",
    "#Minimum size in pixels for the mask region, regions below this threshold would be removed\n",
    "min_size_mask=10\n",
    "#maximum size of the region, set this to veto regions above a certain size\n",
    "max_size = 1000000\n",
    "#Adjust the number of tiles depending on how good your GPU is, tiling ensures that your image tiles fit into the runtime\n",
    "#memory \n",
    "n_tiles = (4,16,16)\n",
    "#If your Unet model is weak we will use the denoising model to obtain the semantic segmentation map, set this to False if this\n",
    "#is the case else set tit o TRUE if you are using Unet to obtain the semantic segmentation map.\n",
    "dounet = True\n",
    "#If you want to do seedpooling from unet and stardist set this to true else it will only take stardist seeds\n",
    "seedpool = True\n",
    "#Wether unet create labelling in 3D or slice by slice can be set by this parameter, if true it will merge neighbouring slices\n",
    "slice_merge = False\n",
    "#Use probability map for stardist to perform watershedding or use distance map\n",
    "UseProbability = True\n",
    "donormalize=True\n",
    "lower_perc= 5\n",
    "upper_perc=99.8\n",
    "#For 2D images we have the option of segmenting RGB->Greyscale, if so set this to true else let it be False\n",
    "RGB = False\n",
    "#Set up the axes keyword depending on the type of image you have, if it is a time lapse movie of XYZ images \n",
    "#your axes would be TZYX, if it is a timelapse of 2D images the axes would be TYX, for a directory of XYZ images\n",
    "#the axes is ZYX and for a directory of XY images the axes is YX\n",
    "axes = 'ZYX'\n",
    "for fname in filesRaw:\n",
    "     \n",
    "     image = imread(fname)\n",
    "     Name = os.path.basename(os.path.splitext(fname)[0])\n",
    "     VollSeg( image, \n",
    "             unet_model = unet_model, \n",
    "             star_model = star_model, \n",
    "             roi_model= roi_model, \n",
    "             noise_model = noise_model, \n",
    "             seedpool = seedpool, \n",
    "             axes = axes, \n",
    "             min_size = min_size,  \n",
    "             min_size_mask = min_size_mask,\n",
    "             max_size = max_size,\n",
    "             donormalize=donormalize,\n",
    "             lower_perc= lower_perc,\n",
    "             upper_perc=upper_perc,\n",
    "             n_tiles = n_tiles, \n",
    "             slice_merge = slice_merge, \n",
    "             UseProbability = UseProbability, \n",
    "             save_dir = save_dir, \n",
    "             Name = Name, \n",
    "             dounet = dounet,\n",
    "             RGB = RGB)"
   ]
  },
  {
   "cell_type": "code",
   "execution_count": null,
   "metadata": {
    "id": "IJzQ43hSJaXX"
   },
   "outputs": [],
   "source": []
  }
 ],
 "metadata": {
  "accelerator": "GPU",
  "colab": {
   "collapsed_sections": [],
   "machine_shape": "hm",
   "name": "Copy of Copy of GreenCellsSmartSeeds.ipynb",
   "provenance": []
  },
  "kernelspec": {
   "display_name": "Python 3 (ipykernel)",
   "language": "python",
   "name": "python3"
  },
  "language_info": {
   "codemirror_mode": {
    "name": "ipython",
    "version": 3
   },
   "file_extension": ".py",
   "mimetype": "text/x-python",
   "name": "python",
   "nbconvert_exporter": "python",
   "pygments_lexer": "ipython3",
   "version": "3.9.0"
  }
 },
 "nbformat": 4,
 "nbformat_minor": 1
}
