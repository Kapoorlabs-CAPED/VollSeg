{
 "cells": [
  {
   "cell_type": "code",
   "execution_count": 1,
   "metadata": {},
   "outputs": [],
   "source": [
    "import sys\n",
    "import numpy as np\n",
    "import glob\n",
    "import os\n",
    "from tifffile import imread, imwrite\n",
    "import napari\n",
    "from skimage.morphology import remove_small_objects, thin, skeletonize\n",
    "from skimage.segmentation import find_boundaries\n",
    "from pathlib import Path\n",
    "\n",
    "%gui qt\n"
   ]
  },
  {
   "cell_type": "code",
   "execution_count": 3,
   "metadata": {},
   "outputs": [
    {
     "name": "stderr",
     "output_type": "stream",
     "text": [
      "/Users/aimachine/opt/anaconda3/envs/testenv/lib/python3.9/weakref.py:459: RuntimeWarning: coroutine 'get_msg' was never awaited\n",
      "  with _IterationGuard(self):\n",
      "RuntimeWarning: Enable tracemalloc to get the object allocation traceback\n",
      "ERROR:tornado.general:Uncaught exception in ZMQStream callback\n",
      "Traceback (most recent call last):\n",
      "  File \"/Users/aimachine/opt/anaconda3/envs/testenv/lib/python3.9/site-packages/zmq/eventloop/zmqstream.py\", line 431, in _run_callback\n",
      "    callback(*args, **kwargs)\n",
      "  File \"/Users/aimachine/opt/anaconda3/envs/testenv/lib/python3.9/site-packages/jupyter_client/threaded.py\", line 121, in _handle_recv\n",
      "    msg_list = self.ioloop._asyncio_event_loop.run_until_complete(get_msg(future_msg))\n",
      "  File \"/Users/aimachine/opt/anaconda3/envs/testenv/lib/python3.9/asyncio/base_events.py\", line 618, in run_until_complete\n",
      "    self._check_running()\n",
      "  File \"/Users/aimachine/opt/anaconda3/envs/testenv/lib/python3.9/asyncio/base_events.py\", line 580, in _check_running\n",
      "    raise RuntimeError(\n",
      "RuntimeError: Cannot run the event loop while another loop is running\n",
      "ERROR:tornado.general:Uncaught exception in zmqstream callback\n",
      "Traceback (most recent call last):\n",
      "  File \"/Users/aimachine/opt/anaconda3/envs/testenv/lib/python3.9/site-packages/zmq/eventloop/zmqstream.py\", line 448, in _handle_events\n",
      "    self._handle_recv()\n",
      "  File \"/Users/aimachine/opt/anaconda3/envs/testenv/lib/python3.9/site-packages/zmq/eventloop/zmqstream.py\", line 477, in _handle_recv\n",
      "    self._run_callback(callback, msg)\n",
      "  File \"/Users/aimachine/opt/anaconda3/envs/testenv/lib/python3.9/site-packages/zmq/eventloop/zmqstream.py\", line 431, in _run_callback\n",
      "    callback(*args, **kwargs)\n",
      "  File \"/Users/aimachine/opt/anaconda3/envs/testenv/lib/python3.9/site-packages/jupyter_client/threaded.py\", line 121, in _handle_recv\n",
      "    msg_list = self.ioloop._asyncio_event_loop.run_until_complete(get_msg(future_msg))\n",
      "  File \"/Users/aimachine/opt/anaconda3/envs/testenv/lib/python3.9/asyncio/base_events.py\", line 618, in run_until_complete\n",
      "    self._check_running()\n",
      "  File \"/Users/aimachine/opt/anaconda3/envs/testenv/lib/python3.9/asyncio/base_events.py\", line 580, in _check_running\n",
      "    raise RuntimeError(\n",
      "RuntimeError: Cannot run the event loop while another loop is running\n",
      "Exception in callback BaseAsyncIOLoop._handle_events(160, 1)\n",
      "handle: <Handle BaseAsyncIOLoop._handle_events(160, 1)>\n",
      "Traceback (most recent call last):\n",
      "  File \"/Users/aimachine/opt/anaconda3/envs/testenv/lib/python3.9/asyncio/events.py\", line 80, in _run\n",
      "    self._context.run(self._callback, *self._args)\n",
      "  File \"/Users/aimachine/opt/anaconda3/envs/testenv/lib/python3.9/site-packages/tornado/platform/asyncio.py\", line 189, in _handle_events\n",
      "    handler_func(fileobj, events)\n",
      "  File \"/Users/aimachine/opt/anaconda3/envs/testenv/lib/python3.9/site-packages/zmq/eventloop/zmqstream.py\", line 448, in _handle_events\n",
      "    self._handle_recv()\n",
      "  File \"/Users/aimachine/opt/anaconda3/envs/testenv/lib/python3.9/site-packages/zmq/eventloop/zmqstream.py\", line 477, in _handle_recv\n",
      "    self._run_callback(callback, msg)\n",
      "  File \"/Users/aimachine/opt/anaconda3/envs/testenv/lib/python3.9/site-packages/zmq/eventloop/zmqstream.py\", line 431, in _run_callback\n",
      "    callback(*args, **kwargs)\n",
      "  File \"/Users/aimachine/opt/anaconda3/envs/testenv/lib/python3.9/site-packages/jupyter_client/threaded.py\", line 121, in _handle_recv\n",
      "    msg_list = self.ioloop._asyncio_event_loop.run_until_complete(get_msg(future_msg))\n",
      "  File \"/Users/aimachine/opt/anaconda3/envs/testenv/lib/python3.9/asyncio/base_events.py\", line 618, in run_until_complete\n",
      "    self._check_running()\n",
      "  File \"/Users/aimachine/opt/anaconda3/envs/testenv/lib/python3.9/asyncio/base_events.py\", line 580, in _check_running\n",
      "    raise RuntimeError(\n",
      "RuntimeError: Cannot run the event loop while another loop is running\n",
      "/Users/aimachine/opt/anaconda3/envs/testenv/lib/python3.9/collections/__init__.py:592: RuntimeWarning: coroutine 'get_msg' was never awaited\n",
      "  super().__init__()\n",
      "RuntimeWarning: Enable tracemalloc to get the object allocation traceback\n"
     ]
    },
    {
     "data": {
      "text/plain": [
       "<Labels layer 'Labels' at 0x7fe4d026b580>"
      ]
     },
     "execution_count": 3,
     "metadata": {},
     "output_type": "execute_result"
    }
   ],
   "source": [
    "image = imread('/Users/aimachine/Raw/wt_N10_SW30_0002-1.tif')\n",
    "labels = imread('/Users/aimachine/Labels/wt_N10_SW30_0002-1.tif')\n",
    "viewer = napari.view_image(image, name='Probabilities')\n",
    "viewer.add_labels(labels.astype('uint16'), name='Labels')"
   ]
  },
  {
   "cell_type": "code",
   "execution_count": null,
   "metadata": {},
   "outputs": [],
   "source": []
  }
 ],
 "metadata": {
  "kernelspec": {
   "display_name": "Python [conda env:testenv] *",
   "language": "python",
   "name": "conda-env-testenv-py"
  },
  "language_info": {
   "codemirror_mode": {
    "name": "ipython",
    "version": 3
   },
   "file_extension": ".py",
   "mimetype": "text/x-python",
   "name": "python",
   "nbconvert_exporter": "python",
   "pygments_lexer": "ipython3",
   "version": "3.9.0"
  }
 },
 "nbformat": 4,
 "nbformat_minor": 4
}
