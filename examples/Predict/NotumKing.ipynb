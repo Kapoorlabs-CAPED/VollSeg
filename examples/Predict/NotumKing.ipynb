{
 "cells": [
  {
   "cell_type": "code",
   "execution_count": null,
   "metadata": {},
   "outputs": [],
   "source": [
    "import os\n",
    "import glob\n",
    "import sys\n",
    "import numpy as np\n",
    "from tqdm import tqdm\n",
    "from tifffile import imread, imwrite\n",
    "from stardist.models import StarDist3D\n",
    "from csbdeep.models import Config, CARE\n",
    "from vollseg import NotumKing\n",
    "os.environ[\"HDF5_USE_FILE_LOCKING\"] = \"FALSE\"\n",
    "from pathlib import Path"
   ]
  },
  {
   "cell_type": "code",
   "execution_count": null,
   "metadata": {},
   "outputs": [],
   "source": [
    "image_dir = 'Raw/'\n",
    "model_dir = 'NotumModels/'\n",
    "save_dir = image_dir + 'Results/'\n",
    "\n",
    "\n",
    "DenoiseModelName = 'Denoise'\n",
    "ProjectionModelName = 'Project'\n",
    "MaskModelName = 'Mask'\n",
    "StarModelName = 'Star'\n",
    "\n",
    "\n",
    "mask_model = CARE(config = None, name = MaskModelName, basedir = model_dir)\n",
    "star_model = StarDist3D(config = None, name = StarModelName, basedir = model_dir)\n",
    "denoising_model = CARE(config= None, name= DenoiseModelName, basedir = model_dir)\n",
    "projection_model = CARE(config= None, name= ProjectionModelName, basedir = model_dir)"
   ]
  },
  {
   "cell_type": "code",
   "execution_count": null,
   "metadata": {},
   "outputs": [],
   "source": [
    "Raw_path = os.path.join(image_dir, '*.tif')\n",
    "filesRaw = glob.glob(Raw_path)\n",
    "filesRaw.sort\n",
    "min_size = 10\n",
    "n_tiles = (1,1,1)\n",
    "NotumKing(save_dir, filesRaw, denoising_model, projection_model, mask_model, star_model, n_tiles = n_tiles)"
   ]
  }
 ],
 "metadata": {
  "kernelspec": {
   "display_name": "Python [conda env:tensorflowGPU]",
   "language": "python",
   "name": "conda-env-tensorflowGPU-py"
  },
  "language_info": {
   "codemirror_mode": {
    "name": "ipython",
    "version": 3
   },
   "file_extension": ".py",
   "mimetype": "text/x-python",
   "name": "python",
   "nbconvert_exporter": "python",
   "pygments_lexer": "ipython3",
   "version": "3.8.5"
  }
 },
 "nbformat": 4,
 "nbformat_minor": 4
}
