{
 "cells": [
  {
   "cell_type": "code",
   "execution_count": null,
   "metadata": {},
   "outputs": [],
   "source": [
    "from google.colab import drive\n",
    "drive.mount('/content/drive', force_remount = True)\n",
    "%tensorflow_version 2.x\n",
    "\n"
   ]
  },
  {
   "cell_type": "code",
   "execution_count": null,
   "metadata": {},
   "outputs": [],
   "source": [
    "!pip uninstall keras -y\n",
    "!pip uninstall keras-nightly -y\n",
    "!pip uninstall keras-Preprocessing -y\n",
    "!pip uninstall keras-vis -y\n",
    "!pip uninstall tensorflow -y\n",
    "!pip install napari[all]\n",
    "!pip install tensorflow==2.2.0\n",
    "!pip install keras==2.3.0\n",
    "!pip install vollseg \n",
    "!pip install napari[all]\n"
   ]
  },
  {
   "cell_type": "code",
   "execution_count": null,
   "metadata": {
    "colab": {
     "base_uri": "https://localhost:8080/"
    },
    "executionInfo": {
     "elapsed": 4320,
     "status": "ok",
     "timestamp": 1621793995714,
     "user": {
      "displayName": "Varun Kapoor",
      "photoUrl": "https://lh3.googleusercontent.com/a-/AOh14GiqCnniCLExJES-Fu4_UKVqnr_f5QvFwiYQbkxVIYk=s64",
      "userId": "00394081441130681785"
     },
     "user_tz": -120
    },
    "id": "uh2wPuymiDmT",
    "outputId": "0227c450-9404-4a44-eba0-86094858ce2f"
   },
   "outputs": [],
   "source": [
    "import os\n",
    "import glob\n",
    "import sys\n",
    "import numpy as np\n",
    "from tqdm import tqdm\n",
    "from tifffile import imread, imwrite\n",
    "from csbdeep.models import Config, CARE\n",
    "from vollseg import StarDist3D, UNET, VollSeg, MASKUNET\n",
    "os.environ[\"HDF5_USE_FILE_LOCKING\"] = \"FALSE\"\n",
    "from pathlib import Path\n"
   ]
  },
  {
   "cell_type": "code",
   "execution_count": null,
   "metadata": {
    "colab": {
     "base_uri": "https://localhost:8080/"
    },
    "executionInfo": {
     "elapsed": 6742,
     "status": "ok",
     "timestamp": 1621798091520,
     "user": {
      "displayName": "Varun Kapoor",
      "photoUrl": "https://lh3.googleusercontent.com/a-/AOh14GiqCnniCLExJES-Fu4_UKVqnr_f5QvFwiYQbkxVIYk=s64",
      "userId": "00394081441130681785"
     },
     "user_tz": -120
    },
    "id": "ODBQtQoqiDmT",
    "outputId": "551f0960-b57b-433d-92ce-2d53f696ff6b"
   },
   "outputs": [],
   "source": [
    "image_dir = 'data/tiffiles/'\n",
    "model_dir = 'models/'\n",
    "save_dir = image_dir + 'Results/'\n",
    "\n",
    "noise_model_name = 'noise_model'\n",
    "star_model_name = 'star_model'\n",
    "\n",
    "star_model = StarDist3D(config = None, name = star_model_name, basedir = model_dir)\n",
    "noise_model = CARE(config=None, name= noise_model_name, basedir = model_dir)"
   ]
  },
  {
   "cell_type": "code",
   "execution_count": null,
   "metadata": {
    "colab": {
     "base_uri": "https://localhost:8080/"
    },
    "executionInfo": {
     "elapsed": 2356070,
     "status": "ok",
     "timestamp": 1621800447586,
     "user": {
      "displayName": "Varun Kapoor",
      "photoUrl": "https://lh3.googleusercontent.com/a-/AOh14GiqCnniCLExJES-Fu4_UKVqnr_f5QvFwiYQbkxVIYk=s64",
      "userId": "00394081441130681785"
     },
     "user_tz": -120
    },
    "id": "WCJlUdyIiDmT",
    "outputId": "5d892b95-c76d-4f2d-ea44-1c12117a867e"
   },
   "outputs": [],
   "source": [
    "Raw_path = os.path.join(image_dir, '*.tif')\n",
    "filesRaw = glob.glob(Raw_path)\n",
    "filesRaw.sort\n",
    "#Minimum size in pixels for the cells to be segmented\n",
    "min_size = 1\n",
    "#Minimum size in pixels for the mask region, regions below this threshold would be removed\n",
    "min_size_mask=10\n",
    "#maximum size of the region, set this to veto regions above a certain size\n",
    "max_size = 1000000\n",
    "#Adjust the number of tiles depending on how good your GPU is, tiling ensures that your image tiles fit into the runtime\n",
    "#memory \n",
    "n_tiles = (2,2,2)\n",
    "#If your Unet model is weak we will use the denoising model to obtain the semantic segmentation map, set this to False if this\n",
    "#is the case else set tit o TRUE if you are using Unet to obtain the semantic segmentation map.\n",
    "dounet = False\n",
    "#If you want to do seedpooling from unet and stardist set this to true else it will only take stardist seeds\n",
    "seedpool = True\n",
    "#Wether unet create labelling in 3D or slice by slice can be set by this parameter, if true it will merge neighbouring slices\n",
    "slice_merge = False\n",
    "#Use probability map for stardist to perform watershedding or use distance map\n",
    "UseProbability = True\n",
    "donormalize=True\n",
    "lower_perc=1 \n",
    "upper_perc=99.8\n",
    "#For 2D images we have the option of segmenting RGB->Greyscale, if so set this to true else let it be False\n",
    "RGB = False\n",
    "#Set up the axes keyword depending on the type of image you have, if it is a time lapse movie of XYZ images \n",
    "#your axes would be TZYX, if it is a timelapse of 2D images the axes would be TYX, for a directory of XYZ images\n",
    "#the axes is ZYX and for a directory of XY images the axes is YX\n",
    "axes = 'ZYX'\n",
    "for fname in filesRaw:\n",
    "     \n",
    "     image = imread(fname)\n",
    "     Name = os.path.basename(os.path.splitext(fname)[0])\n",
    "     VollSeg( image, \n",
    "             star_model = star_model, \n",
    "             noise_model = noise_model, \n",
    "             seedpool = seedpool, \n",
    "             axes = axes, \n",
    "             min_size = min_size,  \n",
    "             min_size_mask = min_size_mask,\n",
    "             max_size = max_size,\n",
    "             donormalize=donormalize,\n",
    "             lower_perc= lower_perc,\n",
    "             upper_perc=upper_perc\n",
    "             n_tiles = n_tiles, \n",
    "             slice_merge = slice_merge, \n",
    "             UseProbability = UseProbability, \n",
    "             save_dir = save_dir, \n",
    "             Name = Name, \n",
    "             dounet = dounet,\n",
    "             RGB = RGB)\n"
   ]
  }
 ],
 "metadata": {
  "accelerator": "GPU",
  "colab": {
   "collapsed_sections": [],
   "machine_shape": "hm",
   "name": "ColabModelPrediction.ipynb",
   "provenance": []
  },
  "kernelspec": {
   "display_name": "Python 3 (ipykernel)",
   "language": "python",
   "name": "python3"
  },
  "language_info": {
   "codemirror_mode": {
    "name": "ipython",
    "version": 3
   },
   "file_extension": ".py",
   "mimetype": "text/x-python",
   "name": "python",
   "nbconvert_exporter": "python",
   "pygments_lexer": "ipython3",
   "version": "3.9.0"
  }
 },
 "nbformat": 4,
 "nbformat_minor": 1
}
