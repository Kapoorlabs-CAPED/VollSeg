{
 "cells": [
  {
   "cell_type": "code",
   "execution_count": null,
   "metadata": {},
   "outputs": [],
   "source": [
    "from google.colab import drive\n",
    "drive.mount('/content/drive', force_remount = True)\n",
    "%tensorflow_version 2.x\n"
   ]
  },
  {
   "cell_type": "code",
   "execution_count": null,
   "metadata": {},
   "outputs": [],
   "source": [
    "!pip install tiffile\n",
    "\n",
    "\n",
    "!pip install gputools\n",
    "\n",
    "!pip install imagecodecs\n",
    "!pip install vollseg"
   ]
  },
  {
   "cell_type": "code",
   "execution_count": null,
   "metadata": {
    "colab": {
     "base_uri": "https://localhost:8080/"
    },
    "executionInfo": {
     "elapsed": 4320,
     "status": "ok",
     "timestamp": 1621793995714,
     "user": {
      "displayName": "Varun Kapoor",
      "photoUrl": "https://lh3.googleusercontent.com/a-/AOh14GiqCnniCLExJES-Fu4_UKVqnr_f5QvFwiYQbkxVIYk=s64",
      "userId": "00394081441130681785"
     },
     "user_tz": -120
    },
    "id": "uh2wPuymiDmT",
    "outputId": "0227c450-9404-4a44-eba0-86094858ce2f"
   },
   "outputs": [],
   "source": [
    "import os\n",
    "import glob\n",
    "import sys\n",
    "import numpy as np\n",
    "from tqdm import tqdm\n",
    "from tifffile import imread, imwrite\n",
    "from stardist.models import StarDist3D\n",
    "from csbdeep.models import Config, CARE\n",
    "from vollseg import SmartSeedPrediction3D\n",
    "os.environ[\"HDF5_USE_FILE_LOCKING\"] = \"FALSE\"\n",
    "from pathlib import Path\n"
   ]
  },
  {
   "cell_type": "code",
   "execution_count": null,
   "metadata": {
    "colab": {
     "base_uri": "https://localhost:8080/"
    },
    "executionInfo": {
     "elapsed": 6742,
     "status": "ok",
     "timestamp": 1621798091520,
     "user": {
      "displayName": "Varun Kapoor",
      "photoUrl": "https://lh3.googleusercontent.com/a-/AOh14GiqCnniCLExJES-Fu4_UKVqnr_f5QvFwiYQbkxVIYk=s64",
      "userId": "00394081441130681785"
     },
     "user_tz": -120
    },
    "id": "ODBQtQoqiDmT",
    "outputId": "551f0960-b57b-433d-92ce-2d53f696ff6b"
   },
   "outputs": [],
   "source": [
    "ImageDir = '/content/drive/My Drive/Jakub_Mari_Varun_Analysis/Movies_to_Segment/'\n",
    "Model_Dir = '/content/drive/My Drive/Jakub_Mari_Varun_Analysis/TrainedModels/'\n",
    "\n",
    "SaveDir = ImageDir + 'Results/'\n",
    "\n",
    "NoiseModelName = 'Marid3f48'\n",
    "UNETModelName = 'UNETMariNucleiSeg'\n",
    "StarModelName = 'MariNucleiSeg'\n",
    "UnetModel = CARE(config = None, name = UNETModelName, basedir = Model_Dir)\n",
    "StarModel = StarDist3D(config = None, name = StarModelName, basedir = Model_Dir)\n",
    "NoiseModel = CARE(config=None, name=NoiseModelName, basedir=Model_Dir)"
   ]
  },
  {
   "cell_type": "code",
   "execution_count": null,
   "metadata": {
    "colab": {
     "base_uri": "https://localhost:8080/"
    },
    "executionInfo": {
     "elapsed": 2356070,
     "status": "ok",
     "timestamp": 1621800447586,
     "user": {
      "displayName": "Varun Kapoor",
      "photoUrl": "https://lh3.googleusercontent.com/a-/AOh14GiqCnniCLExJES-Fu4_UKVqnr_f5QvFwiYQbkxVIYk=s64",
      "userId": "00394081441130681785"
     },
     "user_tz": -120
    },
    "id": "WCJlUdyIiDmT",
    "outputId": "5d892b95-c76d-4f2d-ea44-1c12117a867e"
   },
   "outputs": [],
   "source": [
    "Raw_path = os.path.join(ImageDir, '*.tif')\n",
    "filesRaw = glob.glob(Raw_path)\n",
    "filesRaw.sort\n",
    "min_size = 100\n",
    "n_tiles = (1,4,4)\n",
    "\n",
    "for fname in filesRaw:\n",
    "     \n",
    "     SmartSeedPrediction3D(SaveDir, fname, UnetModel, StarModel,NoiseModel, min_size = min_size,  n_tiles = n_tiles, UseProbability = True)"
   ]
  },
  {
   "cell_type": "code",
   "execution_count": null,
   "metadata": {
    "executionInfo": {
     "elapsed": 25,
     "status": "ok",
     "timestamp": 1621800447588,
     "user": {
      "displayName": "Varun Kapoor",
      "photoUrl": "https://lh3.googleusercontent.com/a-/AOh14GiqCnniCLExJES-Fu4_UKVqnr_f5QvFwiYQbkxVIYk=s64",
      "userId": "00394081441130681785"
     },
     "user_tz": -120
    },
    "id": "IJzQ43hSJaXX"
   },
   "outputs": [],
   "source": []
  }
 ],
 "metadata": {
  "accelerator": "GPU",
  "colab": {
   "collapsed_sections": [],
   "machine_shape": "hm",
   "name": "ColabModelPrediction.ipynb",
   "provenance": []
  },
  "kernelspec": {
   "display_name": "Python 3 (ipykernel)",
   "language": "python",
   "name": "python3"
  },
  "language_info": {
   "codemirror_mode": {
    "name": "ipython",
    "version": 3
   },
   "file_extension": ".py",
   "mimetype": "text/x-python",
   "name": "python",
   "nbconvert_exporter": "python",
   "pygments_lexer": "ipython3",
   "version": "3.7.10"
  }
 },
 "nbformat": 4,
 "nbformat_minor": 1
}
