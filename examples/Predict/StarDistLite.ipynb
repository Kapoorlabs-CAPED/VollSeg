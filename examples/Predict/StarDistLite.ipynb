{
 "cells": [
  {
   "cell_type": "markdown",
   "metadata": {},
   "source": [
    "# StarDistLite without distance map extension\n",
    "\n",
    "Modification of model.predict function to make it lighter"
   ]
  },
  {
   "cell_type": "code",
   "execution_count": 1,
   "metadata": {},
   "outputs": [],
   "source": [
    "from stardist.models.base import StarDistBase"
   ]
  },
  {
   "cell_type": "code",
   "execution_count": 2,
   "metadata": {},
   "outputs": [],
   "source": [
    "class StarDistBaseLite(StarDistBase):\n",
    "     def __init__(self, config, name=None, basedir='.'):\n",
    "        super().__init__(config=config, name=name, basedir=basedir)"
   ]
  },
  {
   "cell_type": "code",
   "execution_count": 3,
   "metadata": {},
   "outputs": [],
   "source": [
    "def predict_prob(self, img, axes=None, normalizer=None, n_tiles=None, show_tile_progress=True, **predict_kwargs):\n",
    "       \n",
    "\n",
    "        x, axes, axes_net, axes_net_div_by, _permute_axes, resizer, n_tiles, grid, grid_dict, channel, predict_direct, tiling_setup = \\\n",
    "            self._predict_setup(img, axes, normalizer, n_tiles, show_tile_progress, predict_kwargs)\n",
    "\n",
    "        if np.prod(n_tiles) > 1:\n",
    "            tile_generator, output_shape, create_empty_output = tiling_setup()\n",
    "\n",
    "            prob = create_empty_output(1)\n",
    "           \n",
    "            if self._is_multiclass():\n",
    "                prob_class = create_empty_output(self.config.n_classes+1)\n",
    "                result = (prob, prob_class)\n",
    "            else:\n",
    "                result = (prob)\n",
    "\n",
    "            for tile, s_src, s_dst in tile_generator:\n",
    "                # predict_direct -> prob, dist, [prob_class if multi_class]\n",
    "                result_tile = predict_direct(tile)\n",
    "                # account for grid\n",
    "                s_src = [slice(s.start//grid_dict.get(a,1),s.stop//grid_dict.get(a,1)) for s,a in zip(s_src,axes_net)]\n",
    "                s_dst = s_src\n",
    "                # prob and dist have different channel dimensionality than image x\n",
    "                s_src[channel] = slice(None)\n",
    "                s_dst[channel] = slice(None)\n",
    "                s_src, s_dst = tuple(s_src), tuple(s_dst)\n",
    "                # print(s_src,s_dst)\n",
    "                for part, part_tile in zip(result, result_tile):\n",
    "                    part[s_dst] = part_tile[s_src]\n",
    "        else:\n",
    "            # predict_direct -> prob, dist, [prob_class if multi_class]\n",
    "            result = predict_direct(x)\n",
    "\n",
    "        result = [resizer.after(part, axes_net) for part in result]\n",
    "\n",
    "     \n",
    "\n",
    "        # prob\n",
    "        result[0] = np.take(result[0],0,axis=channel)\n",
    "\n",
    "        if self._is_multiclass():\n",
    "            # prob_class\n",
    "            result[1] = np.moveaxis(result[1],channel,-1)\n",
    "\n",
    "        return tuple(result)"
   ]
  },
  {
   "cell_type": "code",
   "execution_count": null,
   "metadata": {},
   "outputs": [],
   "source": []
  },
  {
   "cell_type": "markdown",
   "metadata": {},
   "source": []
  },
  {
   "cell_type": "code",
   "execution_count": null,
   "metadata": {},
   "outputs": [],
   "source": []
  }
 ],
 "metadata": {
  "kernelspec": {
   "display_name": "Python 3 (ipykernel)",
   "language": "python",
   "name": "python3"
  },
  "language_info": {
   "codemirror_mode": {
    "name": "ipython",
    "version": 3
   },
   "file_extension": ".py",
   "mimetype": "text/x-python",
   "name": "python",
   "nbconvert_exporter": "python",
   "pygments_lexer": "ipython3",
   "version": "3.7.10"
  }
 },
 "nbformat": 4,
 "nbformat_minor": 2
}
