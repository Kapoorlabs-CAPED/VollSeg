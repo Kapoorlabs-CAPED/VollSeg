{
 "cells": [
  {
   "cell_type": "markdown",
   "metadata": {},
   "source": [
    "# VollSeg intermediate step visualizer\n",
    "\n",
    "Visualize the segmentation labels along with boundary and skeletons of the detected labels"
   ]
  },
  {
   "cell_type": "code",
   "execution_count": 1,
   "metadata": {},
   "outputs": [],
   "source": [
    "import sys\n",
    "import numpy as np\n",
    "import glob\n",
    "import os\n",
    "from tifffile import imread, imwrite\n",
    "import napari\n",
    "from skimage.morphology import remove_small_objects, thin, skeletonize\n",
    "from skimage.segmentation import find_boundaries\n",
    "from pathlib import Path\n",
    "from dask.array.image import imread as daskread\n",
    "%gui qt"
   ]
  },
  {
   "cell_type": "code",
   "execution_count": null,
   "metadata": {},
   "outputs": [],
   "source": []
  },
  {
   "cell_type": "code",
   "execution_count": 15,
   "metadata": {},
   "outputs": [],
   "source": [
    "Name = 'Green-148D_N1TOM_day4_FINAL38.tif'\n",
    "rawimage = daskread('/home/sancere/VKepler/ClaudiaData/148D_each10min/Greens/SplitTimelapse/' + Name)\n",
    "image = daskread('/home/sancere/VKepler/ClaudiaData/148D_each10min/Greens/SplitTimelapse/Results/Denoised/' + Name)\n",
    "Segimage = daskread('/home/sancere/VKepler/ClaudiaData/148D_each10min/Greens/SplitTimelapse/Results/SmartSeedsMask/' + Name)\n",
    "SegimageStar = daskread('/home/sancere/VKepler/ClaudiaData/148D_each10min/Greens/SplitTimelapse/Results/StarDist/' + Name)\n",
    "SegimageUnet = daskread('/home/sancere/VKepler/ClaudiaData/148D_each10min/Greens/SplitTimelapse/Results/BinaryMask/' + Name)"
   ]
  },
  {
   "cell_type": "markdown",
   "metadata": {},
   "source": [
    "Visualize VollSeg, StarDist and Unet results for a single 3D image "
   ]
  },
  {
   "cell_type": "code",
   "execution_count": 16,
   "metadata": {},
   "outputs": [
    {
     "data": {
      "text/plain": [
       "<Labels layer 'Unet' at 0x7f50a64aed30>"
      ]
     },
     "execution_count": 16,
     "metadata": {},
     "output_type": "execute_result"
    },
    {
     "name": "stderr",
     "output_type": "stream",
     "text": [
      "ERROR:tornado.general:Uncaught exception in ZMQStream callback\n",
      "Traceback (most recent call last):\n",
      "  File \"/home/sancere/anaconda3/envs/naparienv/lib/python3.9/site-packages/zmq/eventloop/zmqstream.py\", line 431, in _run_callback\n",
      "    callback(*args, **kwargs)\n",
      "  File \"/home/sancere/anaconda3/envs/naparienv/lib/python3.9/site-packages/jupyter_client/threaded.py\", line 121, in _handle_recv\n",
      "    msg_list = self.ioloop._asyncio_event_loop.run_until_complete(get_msg(future_msg))\n",
      "  File \"/home/sancere/anaconda3/envs/naparienv/lib/python3.9/asyncio/base_events.py\", line 618, in run_until_complete\n",
      "    self._check_running()\n",
      "  File \"/home/sancere/anaconda3/envs/naparienv/lib/python3.9/asyncio/base_events.py\", line 580, in _check_running\n",
      "    raise RuntimeError(\n",
      "RuntimeError: Cannot run the event loop while another loop is running\n",
      "ERROR:tornado.general:Uncaught exception in zmqstream callback\n",
      "Traceback (most recent call last):\n",
      "  File \"/home/sancere/anaconda3/envs/naparienv/lib/python3.9/site-packages/zmq/eventloop/zmqstream.py\", line 452, in _handle_events\n",
      "    self._handle_recv()\n",
      "  File \"/home/sancere/anaconda3/envs/naparienv/lib/python3.9/site-packages/zmq/eventloop/zmqstream.py\", line 481, in _handle_recv\n",
      "    self._run_callback(callback, msg)\n",
      "  File \"/home/sancere/anaconda3/envs/naparienv/lib/python3.9/site-packages/zmq/eventloop/zmqstream.py\", line 431, in _run_callback\n",
      "    callback(*args, **kwargs)\n",
      "  File \"/home/sancere/anaconda3/envs/naparienv/lib/python3.9/site-packages/jupyter_client/threaded.py\", line 121, in _handle_recv\n",
      "    msg_list = self.ioloop._asyncio_event_loop.run_until_complete(get_msg(future_msg))\n",
      "  File \"/home/sancere/anaconda3/envs/naparienv/lib/python3.9/asyncio/base_events.py\", line 618, in run_until_complete\n",
      "    self._check_running()\n",
      "  File \"/home/sancere/anaconda3/envs/naparienv/lib/python3.9/asyncio/base_events.py\", line 580, in _check_running\n",
      "    raise RuntimeError(\n",
      "RuntimeError: Cannot run the event loop while another loop is running\n",
      "Exception in callback BaseAsyncIOLoop._handle_events(280, 1)\n",
      "handle: <Handle BaseAsyncIOLoop._handle_events(280, 1)>\n",
      "Traceback (most recent call last):\n",
      "  File \"/home/sancere/anaconda3/envs/naparienv/lib/python3.9/asyncio/events.py\", line 80, in _run\n",
      "    self._context.run(self._callback, *self._args)\n",
      "  File \"/home/sancere/anaconda3/envs/naparienv/lib/python3.9/site-packages/tornado/platform/asyncio.py\", line 189, in _handle_events\n",
      "    handler_func(fileobj, events)\n",
      "  File \"/home/sancere/anaconda3/envs/naparienv/lib/python3.9/site-packages/zmq/eventloop/zmqstream.py\", line 452, in _handle_events\n",
      "    self._handle_recv()\n",
      "  File \"/home/sancere/anaconda3/envs/naparienv/lib/python3.9/site-packages/zmq/eventloop/zmqstream.py\", line 481, in _handle_recv\n",
      "    self._run_callback(callback, msg)\n",
      "  File \"/home/sancere/anaconda3/envs/naparienv/lib/python3.9/site-packages/zmq/eventloop/zmqstream.py\", line 431, in _run_callback\n",
      "    callback(*args, **kwargs)\n",
      "  File \"/home/sancere/anaconda3/envs/naparienv/lib/python3.9/site-packages/jupyter_client/threaded.py\", line 121, in _handle_recv\n",
      "    msg_list = self.ioloop._asyncio_event_loop.run_until_complete(get_msg(future_msg))\n",
      "  File \"/home/sancere/anaconda3/envs/naparienv/lib/python3.9/asyncio/base_events.py\", line 618, in run_until_complete\n",
      "    self._check_running()\n",
      "  File \"/home/sancere/anaconda3/envs/naparienv/lib/python3.9/asyncio/base_events.py\", line 580, in _check_running\n",
      "    raise RuntimeError(\n",
      "RuntimeError: Cannot run the event loop while another loop is running\n"
     ]
    }
   ],
   "source": [
    "viewer = napari.view_image(image, name='Denoised')\n",
    "viewer.add_image(rawimage, name= 'Raw') \n",
    "viewer.add_labels(Segimage.astype('uint16'), name= 'VollSeg') \n",
    "viewer.add_labels(SegimageStar.astype('uint16'), name= 'StarDist') \n",
    "viewer.add_labels(SegimageUnet.astype('uint16'), name= 'Unet') "
   ]
  },
  {
   "cell_type": "markdown",
   "metadata": {},
   "source": [
    "Visualize the boundaries of segmented VollSeg region with skeletons"
   ]
  },
  {
   "cell_type": "code",
   "execution_count": null,
   "metadata": {},
   "outputs": [],
   "source": [
    "viewer = napari.view_image(image, name='Raw')\n",
    "viewer.add_labels(Segimage.astype('uint16'), name= 'VollSeg') \n",
    "viewer.add_labels(find_boundaries(Segimage.astype('uint16')), name= 'Boundaries') \n",
    "viewer.add_labels(skeletonize(find_boundaries(Segimage.astype('uint16'))), name= 'Skeleton') "
   ]
  }
 ],
 "metadata": {
  "kernelspec": {
   "display_name": "Python 3 (ipykernel)",
   "language": "python",
   "name": "python3"
  },
  "language_info": {
   "codemirror_mode": {
    "name": "ipython",
    "version": 3
   },
   "file_extension": ".py",
   "mimetype": "text/x-python",
   "name": "python",
   "nbconvert_exporter": "python",
   "pygments_lexer": "ipython3",
   "version": "3.9.0"
  }
 },
 "nbformat": 4,
 "nbformat_minor": 2
}
