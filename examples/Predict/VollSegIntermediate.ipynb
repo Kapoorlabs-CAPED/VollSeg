{
 "cells": [
  {
   "cell_type": "markdown",
   "metadata": {},
   "source": [
    "# VollSeg intermediate step visualizer\n",
    "\n",
    "Visualize the segmentation labels along with boundary and skeletons of the detected labels"
   ]
  },
  {
   "cell_type": "code",
   "execution_count": 1,
   "metadata": {},
   "outputs": [
    {
     "name": "stdout",
     "output_type": "stream",
     "text": [
      "DIPlib -- a quantitative image analysis library\n",
      "Version 3.1.0 (Sep 24 2021)\n",
      "For more information see https://diplib.org\n"
     ]
    }
   ],
   "source": [
    "import sys\n",
    "import numpy as np\n",
    "import glob\n",
    "import os\n",
    "from tifffile import imread, imwrite\n",
    "import napari\n",
    "from skimage.morphology import remove_small_objects, thin, skeletonize\n",
    "from skimage.segmentation import find_boundaries\n",
    "from pathlib import Path\n",
    "from dask.array.image import imread as daskread\n",
    "import diplib as dip\n",
    "%gui qt\n"
   ]
  },
  {
   "cell_type": "code",
   "execution_count": 2,
   "metadata": {},
   "outputs": [],
   "source": [
    "image = imread('/Users/aimachine/Probability/wt_N10_SW30_0002-1.tif')\n",
    "labels = imread('/Users/aimachine/Labels/wt_N10_SW30_0002-1.tif').astype('uint16')\n",
    "SmartSeeds = imread('/Users/aimachine/wt_N10_SW30_0002-1.tif') > 0\n",
    "SegimageB = find_boundaries(labels)\n",
    "invertProbimage = 1 - image\n",
    "\n",
    "image_max = np.add(invertProbimage,SegimageB)\n",
    "indices = np.where(image_max < 1.2)\n",
    "image_max[indices] = 0\n"
   ]
  },
  {
   "cell_type": "code",
   "execution_count": null,
   "metadata": {},
   "outputs": [],
   "source": []
  },
  {
   "cell_type": "markdown",
   "metadata": {},
   "source": [
    "Visualize VollSeg, StarDist and Unet results for a single 3D image "
   ]
  },
  {
   "cell_type": "code",
   "execution_count": 3,
   "metadata": {},
   "outputs": [
    {
     "data": {
      "text/plain": [
       "<Image layer 'border' at 0x7fb4131a9fa0>"
      ]
     },
     "execution_count": 3,
     "metadata": {},
     "output_type": "execute_result"
    }
   ],
   "source": [
    "viewer = napari.view_image(image, name='Probabilities')\n",
    "viewer.add_labels(labels, name='Labels')\n",
    "viewer.add_image(invertProbimage, name='invertprob')\n",
    "viewer.add_image(SmartSeeds, name='pixel')\n",
    "viewer.add_image(image_max, name='pixel_max')\n",
    "viewer.add_image(SegimageB, name='border')"
   ]
  },
  {
   "cell_type": "markdown",
   "metadata": {},
   "source": [
    "Visualize the boundaries of segmented VollSeg region with skeletons"
   ]
  }
 ],
 "metadata": {
  "kernelspec": {
   "display_name": "Python [conda env:NapariTrack]",
   "language": "python",
   "name": "conda-env-NapariTrack-py"
  },
  "language_info": {
   "codemirror_mode": {
    "name": "ipython",
    "version": 3
   },
   "file_extension": ".py",
   "mimetype": "text/x-python",
   "name": "python",
   "nbconvert_exporter": "python",
   "pygments_lexer": "ipython3",
   "version": "3.9.7"
  }
 },
 "nbformat": 4,
 "nbformat_minor": 2
}
