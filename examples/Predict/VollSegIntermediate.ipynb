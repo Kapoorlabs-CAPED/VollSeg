{
 "cells": [
  {
   "cell_type": "markdown",
   "metadata": {},
   "source": [
    "# VollSeg intermediate step visualizer\n",
    "\n",
    "Visualize the segmentation labels along with boundary and skeletons of the detected labels"
   ]
  },
  {
   "cell_type": "code",
   "execution_count": 3,
   "metadata": {},
   "outputs": [],
   "source": [
    "import sys\n",
    "import numpy as np\n",
    "import glob\n",
    "import os\n",
    "from tifffile import imread, imwrite\n",
    "import napari\n",
    "from skimage.morphology import remove_small_objects, thin, skeletonize\n",
    "from skimage.segmentation import find_boundaries\n",
    "from pathlib import Path\n",
    "from dask.array.image import imread as daskread\n",
    "%gui qt\n"
   ]
  },
  {
   "cell_type": "code",
   "execution_count": 5,
   "metadata": {},
   "outputs": [],
   "source": [
    "image = imread('/Users/aimachine/Probability/wt_N10_SW30_0002.tif')\n",
    "labels = imread('/Users/aimachine/Labels/wt_N10_SW30_0002.tif')"
   ]
  },
  {
   "cell_type": "markdown",
   "metadata": {},
   "source": [
    "Visualize VollSeg, StarDist and Unet results for a single 3D image "
   ]
  },
  {
   "cell_type": "code",
   "execution_count": 6,
   "metadata": {},
   "outputs": [
    {
     "ename": "NameError",
     "evalue": "name 'dip' is not defined",
     "output_type": "error",
     "traceback": [
      "\u001b[0;31m---------------------------------------------------------------------------\u001b[0m",
      "\u001b[0;31mNameError\u001b[0m                                 Traceback (most recent call last)",
      "\u001b[0;32m/var/folders/36/p232bry50m1f42ncbjk74j_c0000gn/T/ipykernel_35361/138771344.py\u001b[0m in \u001b[0;36m<module>\u001b[0;34m\u001b[0m\n\u001b[1;32m      6\u001b[0m \u001b[0mindices\u001b[0m \u001b[0;34m=\u001b[0m \u001b[0mnp\u001b[0m\u001b[0;34m.\u001b[0m\u001b[0mwhere\u001b[0m\u001b[0;34m(\u001b[0m\u001b[0mimage_max\u001b[0m \u001b[0;34m<\u001b[0m \u001b[0;36m1.2\u001b[0m\u001b[0;34m)\u001b[0m\u001b[0;34m\u001b[0m\u001b[0;34m\u001b[0m\u001b[0m\n\u001b[1;32m      7\u001b[0m \u001b[0mimage_max\u001b[0m\u001b[0;34m[\u001b[0m\u001b[0mindices\u001b[0m\u001b[0;34m]\u001b[0m \u001b[0;34m=\u001b[0m \u001b[0;36m0\u001b[0m\u001b[0;34m\u001b[0m\u001b[0;34m\u001b[0m\u001b[0m\n\u001b[0;32m----> 8\u001b[0;31m \u001b[0mSmartSeeds\u001b[0m \u001b[0;34m=\u001b[0m \u001b[0mnp\u001b[0m\u001b[0;34m.\u001b[0m\u001b[0marray\u001b[0m\u001b[0;34m(\u001b[0m\u001b[0mdip\u001b[0m\u001b[0;34m.\u001b[0m\u001b[0mUpperSkeleton2D\u001b[0m\u001b[0;34m(\u001b[0m\u001b[0mimage_max\u001b[0m\u001b[0;34m.\u001b[0m\u001b[0mastype\u001b[0m\u001b[0;34m(\u001b[0m\u001b[0;34m'float32'\u001b[0m\u001b[0;34m)\u001b[0m\u001b[0;34m)\u001b[0m\u001b[0;34m)\u001b[0m\u001b[0;34m\u001b[0m\u001b[0;34m\u001b[0m\u001b[0m\n\u001b[0m",
      "\u001b[0;31mNameError\u001b[0m: name 'dip' is not defined"
     ]
    }
   ],
   "source": [
    "viewer = napari.view_image(image, name='Probabilities')\n",
    "viewer.add_image(labels, name='Labels')\n",
    "SegimageB = find_boundaries(labels)\n",
    "invertProbimage = 1 - image\n",
    "image_max = np.add(invertProbimage,SegimageB)\n",
    "indices = np.where(image_max < 1.2)\n",
    "image_max[indices] = 0\n",
    "SmartSeeds = np.array(dip.UpperSkeleton2D(image_max.astype('float32')))"
   ]
  },
  {
   "cell_type": "markdown",
   "metadata": {},
   "source": [
    "Visualize the boundaries of segmented VollSeg region with skeletons"
   ]
  }
 ],
 "metadata": {
  "kernelspec": {
   "display_name": "Python [conda env:testenv] *",
   "language": "python",
   "name": "conda-env-testenv-py"
  },
  "language_info": {
   "codemirror_mode": {
    "name": "ipython",
    "version": 3
   },
   "file_extension": ".py",
   "mimetype": "text/x-python",
   "name": "python",
   "nbconvert_exporter": "python",
   "pygments_lexer": "ipython3",
   "version": "3.9.0"
  }
 },
 "nbformat": 4,
 "nbformat_minor": 2
}
