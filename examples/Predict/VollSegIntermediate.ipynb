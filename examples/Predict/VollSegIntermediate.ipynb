{
 "cells": [
  {
   "cell_type": "markdown",
   "metadata": {},
   "source": [
    "# VollSeg intermediate step visualizer\n",
    "\n",
    "Visualize the segmentation labels along with boundary and skeletons of the detected labels"
   ]
  },
  {
   "cell_type": "code",
   "execution_count": null,
   "metadata": {},
   "outputs": [],
   "source": [
    "import sys\n",
    "import numpy as np\n",
    "import glob\n",
    "import os\n",
    "from tifffile import imread, imwrite\n",
    "import napari\n",
    "from skimage.morphology import remove_small_objects, thin, skeletonize\n",
    "from skimage.segmentation import find_boundaries\n",
    "from pathlib import Path\n",
    "from dask.array.image import imread as daskread\n",
    "%gui qt"
   ]
  },
  {
   "cell_type": "code",
   "execution_count": null,
   "metadata": {},
   "outputs": [],
   "source": [
    "image = daskread('Raw/image.tif')\n",
    "Segimage = imread('VollSeg/image.tif')\n",
    "SegimageStar = daskread('StarDist/image.tif')\n",
    "SegimageUnet = daskread('Unet/image.tif')"
   ]
  },
  {
   "cell_type": "markdown",
   "metadata": {},
   "source": [
    "Visualize VollSeg, StarDist and Unet results for a single 3D image "
   ]
  },
  {
   "cell_type": "code",
   "execution_count": null,
   "metadata": {},
   "outputs": [],
   "source": [
    "viewer = napari.view_image(image, name='Raw')\n",
    "viewer.add_labels(Segimage.astype('uint16'), name= 'VollSeg') \n",
    "viewer.add_labels(SegimageStar.astype('uint16'), name= 'StarDist') \n",
    "viewer.add_labels(SegimageUnet.astype('uint16'), name= 'Unet') "
   ]
  },
  {
   "cell_type": "markdown",
   "metadata": {},
   "source": [
    "Visualize the boundaries of segmented VollSeg region with skeletons"
   ]
  },
  {
   "cell_type": "code",
   "execution_count": null,
   "metadata": {},
   "outputs": [],
   "source": [
    "viewer = napari.view_image(image, name='Raw')\n",
    "viewer.add_labels(Segimage.astype('uint16'), name= 'VollSeg') \n",
    "viewer.add_labels(find_boundaries(Segimage.astype('uint16')), name= 'Boundaries') \n",
    "viewer.add_labels(skeletonize(find_boundaries(Segimage.astype('uint16'))), name= 'Skeleton') "
   ]
  }
 ],
 "metadata": {
  "kernelspec": {
   "display_name": "Python 3 (ipykernel)",
   "language": "python",
   "name": "python3"
  },
  "language_info": {
   "codemirror_mode": {
    "name": "ipython",
    "version": 3
   },
   "file_extension": ".py",
   "mimetype": "text/x-python",
   "name": "python",
   "nbconvert_exporter": "python",
   "pygments_lexer": "ipython3",
   "version": "3.7.10"
  }
 },
 "nbformat": 4,
 "nbformat_minor": 2
}
