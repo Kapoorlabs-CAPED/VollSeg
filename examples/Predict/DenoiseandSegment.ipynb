{
 "cells": [
  {
   "cell_type": "code",
   "execution_count": 4,
   "metadata": {
    "id": "uh2wPuymiDmT"
   },
   "outputs": [],
   "source": [
    "\n",
    "import os\n",
    "import glob\n",
    "import sys\n",
    "sys.path.append('../../')\n",
    "import numpy as np\n",
    "from tqdm import tqdm\n",
    "from tifffile import imread, imwrite\n",
    "from stardist.models import StarDist3D\n",
    "from csbdeep.models import Config, CARE\n",
    "from vollseg import NotumQueen\n",
    "os.environ[\"HDF5_USE_FILE_LOCKING\"] = \"FALSE\"\n",
    "from pathlib import Path\n"
   ]
  },
  {
   "cell_type": "code",
   "execution_count": null,
   "metadata": {
    "colab": {
     "base_uri": "https://localhost:8080/"
    },
    "id": "ODBQtQoqiDmT",
    "outputId": "4599b76c-54ad-4aa9-f37b-ec96a5c5473d"
   },
   "outputs": [
    {
     "name": "stdout",
     "output_type": "stream",
     "text": [
      "Loading network weights from 'weights_best.h5'.\n",
      "Loading network weights from 'weights_last.h5'.\n",
      "Loading thresholds from 'thresholds.json'.\n",
      "Using default values: prob_thresh=0.8, nms_thresh=0.1.\n",
      "Loading network weights from 'weights_best.h5'.\n"
     ]
    }
   ],
   "source": [
    "image_dir = 'Raw/'\n",
    "model_dir = 'NotumModels/'\n",
    "save_dir = image_dir + 'Results/'\n",
    "\n",
    "NoiseModelName = 'Marid3f48'\n",
    "UNETModelName = 'UNETMariNucleiSeg'\n",
    "StarModelName = 'MariNucleiSeg'\n",
    "\n",
    "\n",
    "UnetModel = CARE(config = None, name = UNETModelName, basedir = model_dir)\n",
    "StarModel = StarDist3D(config = None, name = StarModelName, basedir = model_dir)\n",
    "NoiseModel = CARE(config=None, name=NoiseModelName, basedir= model_dir)\n"
   ]
  },
  {
   "cell_type": "code",
   "execution_count": null,
   "metadata": {
    "colab": {
     "base_uri": "https://localhost:8080/"
    },
    "id": "WCJlUdyIiDmT",
    "outputId": "95a8a4ec-1eb2-4af0-ad86-24145f5ae144"
   },
   "outputs": [
    {
     "name": "stdout",
     "output_type": "stream",
     "text": [
      "Generating SmartSeed results\n"
     ]
    },
    {
     "name": "stderr",
     "output_type": "stream",
     "text": [
      "100%|██████████| 256/256 [07:19<00:00,  1.72s/it]\n",
      "100%|██████████| 256/256 [04:08<00:00,  1.03it/s]\n",
      "100%|██████████| 256/256 [03:48<00:00,  1.12it/s]\n",
      "100%|██████████| 256/256 [03:58<00:00,  1.08it/s]\n"
     ]
    }
   ],
   "source": [
    "Raw_path = os.path.join(image_dir, '*.tif')\n",
    "filesRaw = glob.glob(Raw_path)\n",
    "filesRaw.sort\n",
    "min_size = 100\n",
    "n_tiles = (8,16,16)\n",
    "\n",
    "for fname in filesRaw:\n",
    "     \n",
    "     SmartSeedPrediction3D(SaveDir, fname, UnetModel, StarModel,NoiseModel, min_size = min_size,  n_tiles = n_tiles, UseProbability = True)"
   ]
  },
  {
   "cell_type": "code",
   "execution_count": null,
   "metadata": {
    "id": "IJzQ43hSJaXX"
   },
   "outputs": [],
   "source": []
  }
 ],
 "metadata": {
  "accelerator": "TPU",
  "colab": {
   "collapsed_sections": [],
   "machine_shape": "hm",
   "name": "Copy of DenoiseandSegment.ipynb",
   "provenance": []
  },
  "kernelspec": {
   "display_name": "Python [conda env:tensorflowGPU]",
   "language": "python",
   "name": "conda-env-tensorflowGPU-py"
  },
  "language_info": {
   "codemirror_mode": {
    "name": "ipython",
    "version": 3
   },
   "file_extension": ".py",
   "mimetype": "text/x-python",
   "name": "python",
   "nbconvert_exporter": "python",
   "pygments_lexer": "ipython3",
   "version": "3.8.5"
  }
 },
 "nbformat": 4,
 "nbformat_minor": 1
}
