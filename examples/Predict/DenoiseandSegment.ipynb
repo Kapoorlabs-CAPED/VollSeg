{
  "nbformat": 4,
  "nbformat_minor": 0,
  "metadata": {
    "accelerator": "TPU",
    "colab": {
      "name": "Copy of DenoiseandSegment.ipynb",
      "provenance": [],
      "collapsed_sections": [],
      "machine_shape": "hm"
    },
    "kernelspec": {
      "display_name": "Python 3 (ipykernel)",
      "language": "python",
      "name": "python3"
    },
    "language_info": {
      "codemirror_mode": {
        "name": "ipython",
        "version": 3
      },
      "file_extension": ".py",
      "mimetype": "text/x-python",
      "name": "python",
      "nbconvert_exporter": "python",
      "pygments_lexer": "ipython3",
      "version": "3.7.10"
    }
  },
  "cells": [
    {
      "cell_type": "code",
      "metadata": {
        "colab": {
          "base_uri": "https://localhost:8080/"
        },
        "id": "P0NHIWQ3XMi1",
        "outputId": "234bb8e9-1438-4838-c0c7-de306f3d171e"
      },
      "source": [
        "\n"
      ],
      "execution_count": null,
      "outputs": [
        {
          "output_type": "stream",
          "text": [
            "Mounted at /content/drive\n"
          ],
          "name": "stdout"
        }
      ]
    },
    {
      "cell_type": "code",
      "metadata": {
        "colab": {
          "base_uri": "https://localhost:8080/"
        },
        "id": "IHML8rRrXMi5",
        "outputId": "4534b4c8-22c4-43f7-abc3-bd4c93f7d0bc"
      },
      "source": [
        ""
      ],
      "execution_count": null,
      "outputs": [
        {
          "output_type": "stream",
          "text": [
            "Requirement already satisfied: tiffile in /usr/local/lib/python3.7/dist-packages (2018.10.18)\n",
            "Requirement already satisfied: tifffile in /usr/local/lib/python3.7/dist-packages (from tiffile) (2021.7.2)\n",
            "Requirement already satisfied: numpy>=1.15.1 in /usr/local/lib/python3.7/dist-packages (from tifffile->tiffile) (1.19.5)\n",
            "Requirement already satisfied: gputools in /usr/local/lib/python3.7/dist-packages (0.2.11)\n",
            "Requirement already satisfied: reikna>=0.6.7 in /usr/local/lib/python3.7/dist-packages (from gputools) (0.7.5)\n",
            "Requirement already satisfied: scipy in /usr/local/lib/python3.7/dist-packages (from gputools) (1.4.1)\n",
            "Requirement already satisfied: pyopencl>=2016.1 in /usr/local/lib/python3.7/dist-packages (from gputools) (2021.2.6)\n",
            "Requirement already satisfied: configparser in /usr/local/lib/python3.7/dist-packages (from gputools) (5.0.2)\n",
            "Requirement already satisfied: six in /usr/local/lib/python3.7/dist-packages (from gputools) (1.15.0)\n",
            "Requirement already satisfied: numpy>=1.11.0 in /usr/local/lib/python3.7/dist-packages (from gputools) (1.19.5)\n",
            "Requirement already satisfied: appdirs>=1.4.0 in /usr/local/lib/python3.7/dist-packages (from pyopencl>=2016.1->gputools) (1.4.4)\n",
            "Requirement already satisfied: pytools>=2021.2.7 in /usr/local/lib/python3.7/dist-packages (from pyopencl>=2016.1->gputools) (2021.2.7)\n",
            "Requirement already satisfied: funcsigs>=0.3 in /usr/local/lib/python3.7/dist-packages (from reikna>=0.6.7->gputools) (1.0.2)\n",
            "Requirement already satisfied: mako>=0.8.0 in /usr/local/lib/python3.7/dist-packages (from reikna>=0.6.7->gputools) (1.1.4)\n",
            "Requirement already satisfied: MarkupSafe>=0.9.2 in /usr/local/lib/python3.7/dist-packages (from mako>=0.8.0->reikna>=0.6.7->gputools) (2.0.1)\n",
            "Requirement already satisfied: imagecodecs in /usr/local/lib/python3.7/dist-packages (2021.7.30)\n",
            "Requirement already satisfied: numpy>=1.15.1 in /usr/local/lib/python3.7/dist-packages (from imagecodecs) (1.19.5)\n",
            "Requirement already satisfied: vollseg in /usr/local/lib/python3.7/dist-packages (1.0.5)\n",
            "Requirement already satisfied: imagecodecs in /usr/local/lib/python3.7/dist-packages (from vollseg) (2021.7.30)\n",
            "Requirement already satisfied: matplotlib in /usr/local/lib/python3.7/dist-packages (from vollseg) (3.2.2)\n",
            "Requirement already satisfied: scikit-image in /usr/local/lib/python3.7/dist-packages (from vollseg) (0.16.2)\n",
            "Requirement already satisfied: stardist in /usr/local/lib/python3.7/dist-packages (from vollseg) (0.7.2)\n",
            "Requirement already satisfied: pandas in /usr/local/lib/python3.7/dist-packages (from vollseg) (1.1.5)\n",
            "Requirement already satisfied: n2v in /usr/local/lib/python3.7/dist-packages (from vollseg) (0.3.0)\n",
            "Requirement already satisfied: numpy in /usr/local/lib/python3.7/dist-packages (from vollseg) (1.19.5)\n",
            "Requirement already satisfied: tifffile in /usr/local/lib/python3.7/dist-packages (from vollseg) (2021.7.2)\n",
            "Requirement already satisfied: scipy in /usr/local/lib/python3.7/dist-packages (from vollseg) (1.4.1)\n",
            "Requirement already satisfied: csbdeep in /usr/local/lib/python3.7/dist-packages (from vollseg) (0.6.2)\n",
            "Requirement already satisfied: keras<2.4,>=2.1.2 in /usr/local/lib/python3.7/dist-packages (from csbdeep->vollseg) (2.3.1)\n",
            "Requirement already satisfied: h5py<3 in /usr/local/lib/python3.7/dist-packages (from csbdeep->vollseg) (2.10.0)\n",
            "Requirement already satisfied: six in /usr/local/lib/python3.7/dist-packages (from csbdeep->vollseg) (1.15.0)\n",
            "Requirement already satisfied: tqdm in /usr/local/lib/python3.7/dist-packages (from csbdeep->vollseg) (4.41.1)\n",
            "Requirement already satisfied: pyyaml in /usr/local/lib/python3.7/dist-packages (from keras<2.4,>=2.1.2->csbdeep->vollseg) (3.13)\n",
            "Requirement already satisfied: keras-preprocessing>=1.0.5 in /usr/local/lib/python3.7/dist-packages (from keras<2.4,>=2.1.2->csbdeep->vollseg) (1.1.2)\n",
            "Requirement already satisfied: keras-applications>=1.0.6 in /usr/local/lib/python3.7/dist-packages (from keras<2.4,>=2.1.2->csbdeep->vollseg) (1.0.8)\n",
            "Requirement already satisfied: pyparsing!=2.0.4,!=2.1.2,!=2.1.6,>=2.0.1 in /usr/local/lib/python3.7/dist-packages (from matplotlib->vollseg) (2.4.7)\n",
            "Requirement already satisfied: kiwisolver>=1.0.1 in /usr/local/lib/python3.7/dist-packages (from matplotlib->vollseg) (1.3.1)\n",
            "Requirement already satisfied: python-dateutil>=2.1 in /usr/local/lib/python3.7/dist-packages (from matplotlib->vollseg) (2.8.1)\n",
            "Requirement already satisfied: cycler>=0.10 in /usr/local/lib/python3.7/dist-packages (from matplotlib->vollseg) (0.10.0)\n",
            "Requirement already satisfied: Pillow in /usr/local/lib/python3.7/dist-packages (from n2v->vollseg) (7.1.2)\n",
            "Requirement already satisfied: ruamel.yaml>=0.16.10 in /usr/local/lib/python3.7/dist-packages (from n2v->vollseg) (0.17.10)\n",
            "Requirement already satisfied: ruamel.yaml.clib>=0.1.2 in /usr/local/lib/python3.7/dist-packages (from ruamel.yaml>=0.16.10->n2v->vollseg) (0.2.6)\n",
            "Requirement already satisfied: pytz>=2017.2 in /usr/local/lib/python3.7/dist-packages (from pandas->vollseg) (2018.9)\n",
            "Requirement already satisfied: imageio>=2.3.0 in /usr/local/lib/python3.7/dist-packages (from scikit-image->vollseg) (2.4.1)\n",
            "Requirement already satisfied: networkx>=2.0 in /usr/local/lib/python3.7/dist-packages (from scikit-image->vollseg) (2.5.1)\n",
            "Requirement already satisfied: PyWavelets>=0.4.0 in /usr/local/lib/python3.7/dist-packages (from scikit-image->vollseg) (1.1.1)\n",
            "Requirement already satisfied: decorator<5,>=4.3 in /usr/local/lib/python3.7/dist-packages (from networkx>=2.0->scikit-image->vollseg) (4.4.2)\n",
            "Requirement already satisfied: numba in /usr/local/lib/python3.7/dist-packages (from stardist->vollseg) (0.51.2)\n",
            "Requirement already satisfied: llvmlite<0.35,>=0.34.0.dev0 in /usr/local/lib/python3.7/dist-packages (from numba->stardist->vollseg) (0.34.0)\n",
            "Requirement already satisfied: setuptools in /usr/local/lib/python3.7/dist-packages (from numba->stardist->vollseg) (57.2.0)\n"
          ],
          "name": "stdout"
        }
      ]
    },
    {
      "cell_type": "code",
      "metadata": {
        "id": "uh2wPuymiDmT"
      },
      "source": [
        "import os\n",
        "import glob\n",
        "import sys\n",
        "import numpy as np\n",
        "from tqdm import tqdm\n",
        "from tifffile import imread, imwrite\n",
        "from stardist.models import StarDist3D\n",
        "from csbdeep.models import Config, CARE\n",
        "from vollseg import SmartSeedPrediction3D\n",
        "os.environ[\"HDF5_USE_FILE_LOCKING\"] = \"FALSE\"\n",
        "from pathlib import Path\n"
      ],
      "execution_count": null,
      "outputs": []
    },
    {
      "cell_type": "code",
      "metadata": {
        "colab": {
          "base_uri": "https://localhost:8080/"
        },
        "id": "ODBQtQoqiDmT",
        "outputId": "4599b76c-54ad-4aa9-f37b-ec96a5c5473d"
      },
      "source": [
        "ImageDir = '/home/sancere/Kepler/ClaudiaTracking/Mari/Data/Raw/'\n",
        "Model_Dir = '/home/sancere/Kepler/ClaudiaTracking/Mari/Data/TrainedModels/'\n",
        "\n",
        "SaveDir = ImageDir + 'Results/'\n",
        "\n",
        "NoiseModelName = 'Marid3f48'\n",
        "UNETModelName = 'UNETMariNucleiSeg'\n",
        "StarModelName = 'MariNucleiSeg'\n",
        "UnetModel = CARE(config = None, name = UNETModelName, basedir = Model_Dir)\n",
        "StarModel = StarDist3D(config = None, name = StarModelName, basedir = Model_Dir)\n",
        "NoiseModel = CARE(config=None, name=NoiseModelName, basedir=Model_Dir)\n"
      ],
      "execution_count": null,
      "outputs": [
        {
          "output_type": "stream",
          "text": [
            "Loading network weights from 'weights_best.h5'.\n",
            "Loading network weights from 'weights_last.h5'.\n",
            "Loading thresholds from 'thresholds.json'.\n",
            "Using default values: prob_thresh=0.8, nms_thresh=0.1.\n",
            "Loading network weights from 'weights_best.h5'.\n"
          ],
          "name": "stdout"
        }
      ]
    },
    {
      "cell_type": "code",
      "metadata": {
        "colab": {
          "base_uri": "https://localhost:8080/"
        },
        "id": "WCJlUdyIiDmT",
        "outputId": "95a8a4ec-1eb2-4af0-ad86-24145f5ae144"
      },
      "source": [
        "Raw_path = os.path.join(ImageDir, '*.tif')\n",
        "filesRaw = glob.glob(Raw_path)\n",
        "filesRaw.sort\n",
        "min_size = 100\n",
        "n_tiles = (8,16,16)\n",
        "\n",
        "for fname in filesRaw:\n",
        "     \n",
        "     SmartSeedPrediction3D(SaveDir, fname, UnetModel, StarModel,NoiseModel, min_size = min_size,  n_tiles = n_tiles, UseProbability = True)"
      ],
      "execution_count": null,
      "outputs": [
        {
          "output_type": "stream",
          "text": [
            "Generating SmartSeed results\n"
          ],
          "name": "stdout"
        },
        {
          "output_type": "stream",
          "text": [
            "100%|██████████| 256/256 [07:19<00:00,  1.72s/it]\n",
            "100%|██████████| 256/256 [04:08<00:00,  1.03it/s]\n",
            "100%|██████████| 256/256 [03:48<00:00,  1.12it/s]\n",
            "100%|██████████| 256/256 [03:58<00:00,  1.08it/s]\n"
          ],
          "name": "stderr"
        }
      ]
    },
    {
      "cell_type": "code",
      "metadata": {
        "id": "IJzQ43hSJaXX"
      },
      "source": [
        ""
      ],
      "execution_count": null,
      "outputs": []
    }
  ]
}