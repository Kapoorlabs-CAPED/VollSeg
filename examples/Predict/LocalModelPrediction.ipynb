{
 "cells": [
  {
   "cell_type": "code",
   "execution_count": null,
   "metadata": {
    "colab": {
     "base_uri": "https://localhost:8080/"
    },
    "id": "uh2wPuymiDmT",
    "outputId": "fc1dda47-aad4-4af7-a08e-b62fbe0df5de"
   },
   "outputs": [],
   "source": [
    "import os\n",
    "import glob\n",
    "import sys\n",
    "import numpy as np\n",
    "from tqdm import tqdm\n",
    "from tifffile import imread, imwrite\n",
    "from vollseg import StarDist3D, UNET, VollSeg3D\n",
    "os.environ[\"HDF5_USE_FILE_LOCKING\"] = \"FALSE\"\n",
    "from pathlib import Path\n",
    "from n2v.models import N2V"
   ]
  },
  {
   "cell_type": "code",
   "execution_count": null,
   "metadata": {
    "colab": {
     "base_uri": "https://localhost:8080/"
    },
    "id": "ODBQtQoqiDmT",
    "outputId": "146edc6f-4616-4fed-af0e-daa4d99d4bc2"
   },
   "outputs": [],
   "source": [
    "image_dir = 'data/tiffiles/'\n",
    "\n",
    "model_dir = 'data/'\n",
    "\n",
    "save_dir = image_dir + 'Results/'\n",
    "\n",
    "\n",
    "NoiseModelName = 'ScipyDenoising'\n",
    "UNETModelName = 'UNETVolumeSeg'\n",
    "StarModelName = 'VolumeSeg'\n",
    "\n",
    "unet_model = UNET(config = None, name = UNETModelName, basedir = model_dir)\n",
    "star_model = StarDist3D(config = None, name = StarModelName, basedir = model_dir)\n",
    "noise_model = N2V(config=None, name=NoiseModelName, basedir = model_dir)"
   ]
  },
  {
   "cell_type": "code",
   "execution_count": null,
   "metadata": {
    "colab": {
     "base_uri": "https://localhost:8080/",
     "height": 1000
    },
    "id": "WCJlUdyIiDmT",
    "outputId": "61a99db1-f409-48db-8552-66e4e362e4d5"
   },
   "outputs": [],
   "source": [
    "Raw_path = os.path.join(image_dir, '*.tif')\n",
    "filesRaw = glob.glob(Raw_path)\n",
    "filesRaw.sort\n",
    "#Minimum size in pixels for the cells to be segmented\n",
    "min_size = 1\n",
    "#Adjust the number of tiles depending on how good your GPU is, tiling ensures that your image tiles fit into the runtime\n",
    "#memory \n",
    "n_tiles = (2,2,2)\n",
    "#If your Unet model is weak we will use the denoising model to obtain the semantic segmentation map, set this to False if this\n",
    "#is the case else set tit o TRUE if you are using Unet to obtain the semantic segmentation map.\n",
    "dounet = False\n",
    "#For 2D images we have the option of segmenting RGB->Greyscale, if so set this to true else let it be False\n",
    "RGB = False\n",
    "#Set up the axes keyword depending on the type of image you have, if it is a time lapse movie of XYZ images \n",
    "#your axes would be TZYX, if it is a timelapse of 2D images the axes would be TYX, for a directory of XYZ images\n",
    "#the axes is ZYX and for a directory of XY images the axes is YX\n",
    "axes = 'ZYX'\n",
    "for fname in filesRaw:\n",
    "     \n",
    "     image = imread(fname)\n",
    "     Name = os.path.basename(os.path.splitext(fname)[0])\n",
    "     VollSeg( image, unet_model, star_model, noise_model = noise_model, axes = axes, min_size = min_size,  n_tiles = n_tiles, UseProbability = True, save_dir = save_dir, Name = Name, RGB = RGB, dounet = dounet)\n"
   ]
  },
  {
   "cell_type": "code",
   "execution_count": null,
   "metadata": {
    "id": "IJzQ43hSJaXX"
   },
   "outputs": [],
   "source": []
  }
 ],
 "metadata": {
  "accelerator": "GPU",
  "colab": {
   "collapsed_sections": [],
   "machine_shape": "hm",
   "name": "Copy of Copy of GreenCellsSmartSeeds.ipynb",
   "provenance": []
  },
  "kernelspec": {
   "display_name": "Python 3 (ipykernel)",
   "language": "python",
   "name": "python3"
  },
  "language_info": {
   "codemirror_mode": {
    "name": "ipython",
    "version": 3
   },
   "file_extension": ".py",
   "mimetype": "text/x-python",
   "name": "python",
   "nbconvert_exporter": "python",
   "pygments_lexer": "ipython3",
   "version": "3.9.0"
  }
 },
 "nbformat": 4,
 "nbformat_minor": 1
}
