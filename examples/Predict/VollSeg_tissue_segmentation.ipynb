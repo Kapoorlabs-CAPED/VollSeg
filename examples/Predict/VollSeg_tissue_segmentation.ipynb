{
 "cells": [
  {
   "cell_type": "code",
   "execution_count": null,
   "metadata": {
    "colab": {
     "base_uri": "https://localhost:8080/"
    },
    "id": "uh2wPuymiDmT",
    "outputId": "fc1dda47-aad4-4af7-a08e-b62fbe0df5de"
   },
   "outputs": [],
   "source": [
    "import os\n",
    "import glob\n",
    "import sys\n",
    "import numpy as np\n",
    "from tqdm import tqdm\n",
    "from tifffile import imread, imwrite\n",
    "from vollseg import  UNET, VollSeg\n",
    "os.environ[\"HDF5_USE_FILE_LOCKING\"] = \"FALSE\"\n",
    "from pathlib import Path\n"
   ]
  },
  {
   "cell_type": "code",
   "execution_count": null,
   "metadata": {
    "colab": {
     "base_uri": "https://localhost:8080/"
    },
    "id": "ODBQtQoqiDmT",
    "outputId": "146edc6f-4616-4fed-af0e-daa4d99d4bc2"
   },
   "outputs": [],
   "source": [
    "image_dir = 'data/tiffiles/'\n",
    "model_dir = 'models/'\n",
    "save_dir = image_dir + 'Results/'\n",
    "unet_model_name = 'unet_model'\n",
    "unet_model = UNET(config = None, name = unet_model_name, basedir = model_dir)"
   ]
  },
  {
   "cell_type": "code",
   "execution_count": null,
   "metadata": {
    "colab": {
     "base_uri": "https://localhost:8080/",
     "height": 1000
    },
    "id": "WCJlUdyIiDmT",
    "outputId": "61a99db1-f409-48db-8552-66e4e362e4d5"
   },
   "outputs": [],
   "source": [
    "Raw_path = os.path.join(image_dir, '*.tif')\n",
    "filesRaw = glob.glob(Raw_path)\n",
    "filesRaw.sort\n",
    "\n",
    "#Minimum size in pixels for the mask region, regions below this threshold would be removed\n",
    "min_size_mask=10\n",
    "#maximum size of the region, set this to veto regions above a certain size\n",
    "max_size = 1000000\n",
    "#Adjust the number of tiles depending on how good your GPU is, tiling ensures that your image tiles fit into the runtime\n",
    "#memory \n",
    "n_tiles = (2,2)\n",
    "\n",
    "#Set up the axes keyword depending on the type of image you have, if it is a time lapse movie of XYZ images \n",
    "#your axes would be TZYX, if it is a timelapse of 2D images the axes would be TYX, for a directory of XYZ images\n",
    "#the axes is ZYX and for a directory of XY images the axes is YX\n",
    "axes = 'YX'\n",
    "for fname in filesRaw:\n",
    "     \n",
    "     image = imread(fname)\n",
    "     Name = os.path.basename(os.path.splitext(fname)[0])\n",
    "     VollSeg( image, \n",
    "             unet_model = unet_model, \n",
    "             axes = axes, \n",
    "             min_size_mask = min_size_mask,\n",
    "             max_size = max_size,\n",
    "             n_tiles = n_tiles, \n",
    "             save_dir = save_dir, \n",
    "             Name = Name)\n"
   ]
  },
  {
   "cell_type": "code",
   "execution_count": null,
   "metadata": {
    "id": "IJzQ43hSJaXX"
   },
   "outputs": [],
   "source": []
  }
 ],
 "metadata": {
  "accelerator": "GPU",
  "colab": {
   "collapsed_sections": [],
   "machine_shape": "hm",
   "name": "Copy of Copy of GreenCellsSmartSeeds.ipynb",
   "provenance": []
  },
  "kernelspec": {
   "display_name": "Python 3 (ipykernel)",
   "language": "python",
   "name": "python3"
  },
  "language_info": {
   "codemirror_mode": {
    "name": "ipython",
    "version": 3
   },
   "file_extension": ".py",
   "mimetype": "text/x-python",
   "name": "python",
   "nbconvert_exporter": "python",
   "pygments_lexer": "ipython3",
   "version": "3.9.0"
  }
 },
 "nbformat": 4,
 "nbformat_minor": 1
}
