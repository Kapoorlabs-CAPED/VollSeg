{
 "cells": [
  {
   "cell_type": "markdown",
   "metadata": {
    "id": "48XGAOkc_6wa"
   },
   "source": [
    "# Optimize prob and nms thresholds"
   ]
  },
  {
   "cell_type": "code",
   "execution_count": null,
   "metadata": {
    "colab": {
     "base_uri": "https://localhost:8080/"
    },
    "id": "8HNG8RDy_6wc",
    "outputId": "a8c20928-1c40-49a5-c6ad-a2bac37baee6"
   },
   "outputs": [],
   "source": [
    "from google.colab import drive\n",
    "drive.mount('/content/drive', force_remount = True)\n",
    "%tensorflow_version 2.x\n"
   ]
  },
  {
   "cell_type": "code",
   "execution_count": null,
   "metadata": {
    "colab": {
     "base_uri": "https://localhost:8080/"
    },
    "id": "OhcO8V0lAECg",
    "outputId": "fb888deb-24a1-4bcb-9ebd-d26ae2247464"
   },
   "outputs": [],
   "source": [
    "!pip install tiffile\n",
    "\n",
    "!pip install vollseg"
   ]
  },
  {
   "cell_type": "code",
   "execution_count": null,
   "metadata": {
    "id": "QIWvxiGa_8is"
   },
   "outputs": [],
   "source": [
    "\n",
    "import glob\n",
    "import cv2\n",
    "import numpy as np\n",
    "from tqdm import tqdm\n",
    "from csbdeep.models import Config, CARE\n",
    "from tifffile import imread\n",
    "from vollseg import StarDist3D, UNET, VollSeg3D\n",
    "from vollseg.OptimizeThreshold import OptimizeThreshold\n",
    "\n",
    "from pathlib import Path"
   ]
  },
  {
   "cell_type": "code",
   "execution_count": null,
   "metadata": {
    "colab": {
     "base_uri": "https://localhost:8080/"
    },
    "id": "sS4xza5R_6wd",
    "outputId": "f0fa724c-bb5b-4496-e19a-4b77d2b9a657",
    "scrolled": true
   },
   "outputs": [],
   "source": [
    "BaseDir = '/content/drive/My Drive/training/'\n",
    "\n",
    "Model_Dir = '/content/drive/My Drive/TrainedModels/'\n",
    "SaveDir = BaseDir + '/Raw/AugmentedResults/'\n",
    "\n",
    "UNETModelName = 'UNETAugmented'\n",
    "StardistModelName = 'Augmented'\n",
    "\n",
    "NoiseModel = None\n",
    "Starmodel = StarDist3D(config = None, name = StardistModelName, basedir = Model_Dir)\n",
    "UnetModel = UNET(config = None, name = UNETModelName, basedir = Model_Dir)"
   ]
  },
  {
   "cell_type": "code",
   "execution_count": null,
   "metadata": {
    "id": "4cabrF-Z_6we"
   },
   "outputs": [],
   "source": [
    "#Number of tiles to break the image into for applying the prediction to fit in the computer memory\n",
    "n_tiles = (1,2,2)\n",
    "\n",
    "\n",
    "#Use Probability map = True or distance map = False as the image to perform watershed on\n",
    "UseProbability = True"
   ]
  },
  {
   "cell_type": "code",
   "execution_count": null,
   "metadata": {
    "colab": {
     "base_uri": "https://localhost:8080/"
    },
    "id": "NyhJIhxm_6we",
    "outputId": "48790073-3a63-4815-97ac-8cc20f586173"
   },
   "outputs": [],
   "source": [
    "Raw = sorted(glob.glob(BaseDir + '/Raw/' + '*.tif'))\n",
    "RealMask = sorted(glob.glob(BaseDir + '/RealMask/' + '*.tif'))\n",
    "X = list(map(imread,Raw))\n",
    "Y = list(map(imread,RealMask))\n",
    "OptimizeThreshold(Starmodel,UnetModel,X,Y,BaseDir, UseProbability = UseProbability, n_tiles=n_tiles)\n",
    "\n"
   ]
  },
  {
   "cell_type": "code",
   "execution_count": null,
   "metadata": {
    "id": "bfbgiKtb_6wf"
   },
   "outputs": [],
   "source": []
  }
 ],
 "metadata": {
  "accelerator": "GPU",
  "colab": {
   "collapsed_sections": [],
   "name": "ColabOptimizer.ipynb",
   "provenance": []
  },
  "kernelspec": {
   "display_name": "Python 3 (ipykernel)",
   "language": "python",
   "name": "python3"
  },
  "language_info": {
   "codemirror_mode": {
    "name": "ipython",
    "version": 3
   },
   "file_extension": ".py",
   "mimetype": "text/x-python",
   "name": "python",
   "nbconvert_exporter": "python",
   "pygments_lexer": "ipython3",
   "version": "3.9.7"
  }
 },
 "nbformat": 4,
 "nbformat_minor": 1
}
