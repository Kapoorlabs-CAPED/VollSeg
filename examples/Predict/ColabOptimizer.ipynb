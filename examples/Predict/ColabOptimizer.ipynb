{
  "nbformat": 4,
  "nbformat_minor": 0,
  "metadata": {
    "kernelspec": {
      "display_name": "Python 3",
      "language": "python",
      "name": "python3"
    },
    "language_info": {
      "codemirror_mode": {
        "name": "ipython",
        "version": 3
      },
      "file_extension": ".py",
      "mimetype": "text/x-python",
      "name": "python",
      "nbconvert_exporter": "python",
      "pygments_lexer": "ipython3",
      "version": "3.7.0"
    },
    "colab": {
      "name": "ColabOptimizer.ipynb",
      "provenance": [],
      "collapsed_sections": []
    },
    "accelerator": "GPU"
  },
  "cells": [
    {
      "cell_type": "markdown",
      "metadata": {
        "id": "48XGAOkc_6wa"
      },
      "source": [
        "# Optimize prob and nms thresholds"
      ]
    },
    {
      "cell_type": "code",
      "metadata": {
        "colab": {
          "base_uri": "https://localhost:8080/"
        },
        "id": "8HNG8RDy_6wc",
        "outputId": "a8c20928-1c40-49a5-c6ad-a2bac37baee6"
      },
      "source": [
        "from google.colab import drive\n",
        "drive.mount('/content/drive', force_remount = True)\n",
        "%tensorflow_version 2.x\n"
      ],
      "execution_count": 1,
      "outputs": [
        {
          "output_type": "stream",
          "text": [
            "Mounted at /content/drive\n"
          ],
          "name": "stdout"
        }
      ]
    },
    {
      "cell_type": "code",
      "metadata": {
        "colab": {
          "base_uri": "https://localhost:8080/"
        },
        "id": "OhcO8V0lAECg",
        "outputId": "fb888deb-24a1-4bcb-9ebd-d26ae2247464"
      },
      "source": [
        "!pip install tiffile\n",
        "\n",
        "!pip install vollseg"
      ],
      "execution_count": 2,
      "outputs": [
        {
          "output_type": "stream",
          "text": [
            "Collecting tiffile\n",
            "  Downloading tiffile-2018.10.18-py2.py3-none-any.whl (2.7 kB)\n",
            "Requirement already satisfied: tifffile in /usr/local/lib/python3.7/dist-packages (from tiffile) (2021.8.8)\n",
            "Requirement already satisfied: numpy>=1.15.1 in /usr/local/lib/python3.7/dist-packages (from tifffile->tiffile) (1.19.5)\n",
            "Installing collected packages: tiffile\n",
            "Successfully installed tiffile-2018.10.18\n",
            "Collecting vollseg\n",
            "  Downloading vollseg-1.2.6-py3-none-any.whl (25 kB)\n",
            "Requirement already satisfied: scikit-image in /usr/local/lib/python3.7/dist-packages (from vollseg) (0.16.2)\n",
            "Collecting csbdeep\n",
            "  Downloading csbdeep-0.6.2-py2.py3-none-any.whl (72 kB)\n",
            "\u001b[K     |████████████████████████████████| 72 kB 1.5 MB/s \n",
            "\u001b[?25hRequirement already satisfied: matplotlib in /usr/local/lib/python3.7/dist-packages (from vollseg) (3.2.2)\n",
            "Requirement already satisfied: tifffile in /usr/local/lib/python3.7/dist-packages (from vollseg) (2021.8.8)\n",
            "Requirement already satisfied: scipy in /usr/local/lib/python3.7/dist-packages (from vollseg) (1.4.1)\n",
            "Collecting imagecodecs\n",
            "  Downloading imagecodecs-2021.7.30-cp37-cp37m-manylinux_2_17_x86_64.manylinux2014_x86_64.whl (29.6 MB)\n",
            "\u001b[K     |████████████████████████████████| 29.6 MB 41 kB/s \n",
            "\u001b[?25hRequirement already satisfied: pandas in /usr/local/lib/python3.7/dist-packages (from vollseg) (1.1.5)\n",
            "Collecting stardist\n",
            "  Downloading stardist-0.7.2-cp37-cp37m-manylinux_2_17_x86_64.manylinux2014_x86_64.whl (3.0 MB)\n",
            "\u001b[K     |████████████████████████████████| 3.0 MB 34.7 MB/s \n",
            "\u001b[?25hRequirement already satisfied: numpy in /usr/local/lib/python3.7/dist-packages (from vollseg) (1.19.5)\n",
            "Collecting n2v\n",
            "  Downloading n2v-0.3.0-py2.py3-none-any.whl (42 kB)\n",
            "\u001b[K     |████████████████████████████████| 42 kB 1.8 MB/s \n",
            "\u001b[?25hCollecting h5py<3\n",
            "  Downloading h5py-2.10.0-cp37-cp37m-manylinux1_x86_64.whl (2.9 MB)\n",
            "\u001b[K     |████████████████████████████████| 2.9 MB 59.0 MB/s \n",
            "\u001b[?25hRequirement already satisfied: six in /usr/local/lib/python3.7/dist-packages (from csbdeep->vollseg) (1.15.0)\n",
            "Requirement already satisfied: tqdm in /usr/local/lib/python3.7/dist-packages (from csbdeep->vollseg) (4.62.0)\n",
            "Collecting keras<2.4,>=2.1.2\n",
            "  Downloading Keras-2.3.1-py2.py3-none-any.whl (377 kB)\n",
            "\u001b[K     |████████████████████████████████| 377 kB 55.0 MB/s \n",
            "\u001b[?25hCollecting keras-applications>=1.0.6\n",
            "  Downloading Keras_Applications-1.0.8-py3-none-any.whl (50 kB)\n",
            "\u001b[K     |████████████████████████████████| 50 kB 8.8 MB/s \n",
            "\u001b[?25hRequirement already satisfied: keras-preprocessing>=1.0.5 in /usr/local/lib/python3.7/dist-packages (from keras<2.4,>=2.1.2->csbdeep->vollseg) (1.1.2)\n",
            "Requirement already satisfied: pyyaml in /usr/local/lib/python3.7/dist-packages (from keras<2.4,>=2.1.2->csbdeep->vollseg) (3.13)\n",
            "Requirement already satisfied: pyparsing!=2.0.4,!=2.1.2,!=2.1.6,>=2.0.1 in /usr/local/lib/python3.7/dist-packages (from matplotlib->vollseg) (2.4.7)\n",
            "Requirement already satisfied: python-dateutil>=2.1 in /usr/local/lib/python3.7/dist-packages (from matplotlib->vollseg) (2.8.2)\n",
            "Requirement already satisfied: kiwisolver>=1.0.1 in /usr/local/lib/python3.7/dist-packages (from matplotlib->vollseg) (1.3.1)\n",
            "Requirement already satisfied: cycler>=0.10 in /usr/local/lib/python3.7/dist-packages (from matplotlib->vollseg) (0.10.0)\n",
            "Collecting ruamel.yaml>=0.16.10\n",
            "  Downloading ruamel.yaml-0.17.10-py3-none-any.whl (108 kB)\n",
            "\u001b[K     |████████████████████████████████| 108 kB 64.0 MB/s \n",
            "\u001b[?25hRequirement already satisfied: Pillow in /usr/local/lib/python3.7/dist-packages (from n2v->vollseg) (7.1.2)\n",
            "Collecting ruamel.yaml.clib>=0.1.2\n",
            "  Downloading ruamel.yaml.clib-0.2.6-cp37-cp37m-manylinux1_x86_64.whl (546 kB)\n",
            "\u001b[K     |████████████████████████████████| 546 kB 62.5 MB/s \n",
            "\u001b[?25hRequirement already satisfied: pytz>=2017.2 in /usr/local/lib/python3.7/dist-packages (from pandas->vollseg) (2018.9)\n",
            "Requirement already satisfied: PyWavelets>=0.4.0 in /usr/local/lib/python3.7/dist-packages (from scikit-image->vollseg) (1.1.1)\n",
            "Requirement already satisfied: networkx>=2.0 in /usr/local/lib/python3.7/dist-packages (from scikit-image->vollseg) (2.6.2)\n",
            "Requirement already satisfied: imageio>=2.3.0 in /usr/local/lib/python3.7/dist-packages (from scikit-image->vollseg) (2.4.1)\n",
            "Requirement already satisfied: numba in /usr/local/lib/python3.7/dist-packages (from stardist->vollseg) (0.51.2)\n",
            "Requirement already satisfied: setuptools in /usr/local/lib/python3.7/dist-packages (from numba->stardist->vollseg) (57.4.0)\n",
            "Requirement already satisfied: llvmlite<0.35,>=0.34.0.dev0 in /usr/local/lib/python3.7/dist-packages (from numba->stardist->vollseg) (0.34.0)\n",
            "Installing collected packages: h5py, keras-applications, ruamel.yaml.clib, keras, ruamel.yaml, imagecodecs, csbdeep, stardist, n2v, vollseg\n",
            "  Attempting uninstall: h5py\n",
            "    Found existing installation: h5py 3.1.0\n",
            "    Uninstalling h5py-3.1.0:\n",
            "      Successfully uninstalled h5py-3.1.0\n",
            "  Attempting uninstall: keras\n",
            "    Found existing installation: Keras 2.4.3\n",
            "    Uninstalling Keras-2.4.3:\n",
            "      Successfully uninstalled Keras-2.4.3\n",
            "\u001b[31mERROR: pip's dependency resolver does not currently take into account all the packages that are installed. This behaviour is the source of the following dependency conflicts.\n",
            "tensorflow 2.5.0 requires h5py~=3.1.0, but you have h5py 2.10.0 which is incompatible.\u001b[0m\n",
            "Successfully installed csbdeep-0.6.2 h5py-2.10.0 imagecodecs-2021.7.30 keras-2.3.1 keras-applications-1.0.8 n2v-0.3.0 ruamel.yaml-0.17.10 ruamel.yaml.clib-0.2.6 stardist-0.7.2 vollseg-1.2.6\n"
          ],
          "name": "stdout"
        }
      ]
    },
    {
      "cell_type": "code",
      "metadata": {
        "id": "QIWvxiGa_8is"
      },
      "source": [
        "\n",
        "import glob\n",
        "\n",
        "import cv2\n",
        "import numpy as np\n",
        "from tqdm import tqdm\n",
        "from stardist.models import StarDist3D\n",
        "from csbdeep.models import Config, CARE\n",
        "from tifffile import imread\n",
        "\n",
        "from vollseg.OptimizeThreshold import OptimizeThreshold\n",
        "\n",
        "from pathlib import Path"
      ],
      "execution_count": 3,
      "outputs": []
    },
    {
      "cell_type": "code",
      "metadata": {
        "scrolled": true,
        "colab": {
          "base_uri": "https://localhost:8080/"
        },
        "id": "sS4xza5R_6wd",
        "outputId": "f0fa724c-bb5b-4496-e19a-4b77d2b9a657"
      },
      "source": [
        "BaseDir = '/content/drive/My Drive/Jakub_Mari_Varun_Analysis/Stardist3D/training/'\n",
        "\n",
        "Model_Dir = '/content/drive/My Drive/Jakub_Mari_Varun_Analysis/TrainedModels/'\n",
        "SaveDir = BaseDir + '/Raw/AugmentedResults/'\n",
        "\n",
        "UNETModelName = 'UNETMariNucleiSegAugmented'\n",
        "StardistModelName = 'MariNucleiSegAugmented'\n",
        "\n",
        "NoiseModel = None\n",
        "Starmodel = StarDist3D(config = None, name = StardistModelName, basedir = Model_Dir)\n",
        "UnetModel = CARE(config = None, name = UNETModelName, basedir = Model_Dir)"
      ],
      "execution_count": 5,
      "outputs": [
        {
          "output_type": "stream",
          "text": [
            "Loading network weights from 'weights_now.h5'.\n",
            "Loading thresholds from 'thresholds.json'.\n",
            "Using default values: prob_thresh=0.7, nms_thresh=0.4.\n",
            "Loading network weights from 'weights_best.h5'.\n"
          ],
          "name": "stdout"
        }
      ]
    },
    {
      "cell_type": "code",
      "metadata": {
        "id": "4cabrF-Z_6we"
      },
      "source": [
        "#Number of tiles to break the image into for applying the prediction to fit in the computer memory\n",
        "n_tiles = (1,2,2)\n",
        "\n",
        "\n",
        "#Use Probability map = True or distance map = False as the image to perform watershed on\n",
        "UseProbability = True"
      ],
      "execution_count": 8,
      "outputs": []
    },
    {
      "cell_type": "code",
      "metadata": {
        "colab": {
          "base_uri": "https://localhost:8080/"
        },
        "id": "NyhJIhxm_6we",
        "outputId": "48790073-3a63-4815-97ac-8cc20f586173"
      },
      "source": [
        "Raw = sorted(glob.glob(BaseDir + '/Raw/' + '*.tif'))\n",
        "RealMask = sorted(glob.glob(BaseDir + '/RealMask/' + '*.tif'))\n",
        "X = list(map(imread,Raw))\n",
        "Y = list(map(imread,RealMask))\n",
        "OptimizeThreshold(Starmodel,UnetModel,X,Y,BaseDir, UseProbability = UseProbability, n_tiles=n_tiles)\n",
        "\n"
      ],
      "execution_count": null,
      "outputs": [
        {
          "output_type": "stream",
          "text": [
            "TiffPage 0: TypeError: read_bytes() missing 3 required positional arguments: 'dtype', 'count', and 'offsetsize'\n",
            "TiffPage 0: TypeError: read_bytes() missing 3 required positional arguments: 'dtype', 'count', and 'offsetsize'\n",
            "TiffPage 0: TypeError: read_bytes() missing 3 required positional arguments: 'dtype', 'count', and 'offsetsize'\n",
            "100%|██████████| 22/22 [00:00<00:00, 87.64it/s] \n",
            "100%|██████████| 22/22 [00:00<00:00, 45.57it/s]\n"
          ],
          "name": "stderr"
        },
        {
          "output_type": "stream",
          "text": [
            "Images to apply prediction on 22\n"
          ],
          "name": "stdout"
        }
      ]
    },
    {
      "cell_type": "code",
      "metadata": {
        "id": "bfbgiKtb_6wf"
      },
      "source": [
        ""
      ],
      "execution_count": null,
      "outputs": []
    }
  ]
}