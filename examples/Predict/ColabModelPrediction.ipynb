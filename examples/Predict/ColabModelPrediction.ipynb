{
 "cells": [
  {
   "cell_type": "code",
   "execution_count": null,
   "metadata": {},
   "outputs": [],
   "source": [
    "%tensorflow_version 1.x\n"
   ]
  },
  {
   "cell_type": "code",
   "execution_count": null,
   "metadata": {},
   "outputs": [],
   "source": [
    "\n",
    "import tensorflow as tf\n",
    "if tf.test.gpu_device_name()=='':\n",
    "  print('You do not have GPU access.') \n",
    "  print('Did you change your runtime ?') \n",
    "  print('If the runtime setting is correct then Google did not allocate a GPU for your session')\n",
    "  print('Expect slow performance. To access GPU try reconnecting later')\n",
    "\n",
    "else:\n",
    "  print('You have GPU access')\n",
    "  !nvidia-smi"
   ]
  },
  {
   "cell_type": "code",
   "execution_count": null,
   "metadata": {
    "colab": {
     "base_uri": "https://localhost:8080/"
    },
    "executionInfo": {
     "elapsed": 989,
     "status": "ok",
     "timestamp": 1621793978687,
     "user": {
      "displayName": "Varun Kapoor",
      "photoUrl": "https://lh3.googleusercontent.com/a-/AOh14GiqCnniCLExJES-Fu4_UKVqnr_f5QvFwiYQbkxVIYk=s64",
      "userId": "00394081441130681785"
     },
     "user_tz": -120
    },
    "id": "H5dffawniDmS",
    "outputId": "0b43a50c-b55b-4307-d51f-cfd7ff8aba24"
   },
   "outputs": [],
   "source": [
    "from google.colab import drive\n",
    "drive.mount('/content/drive', force_remount = True)"
   ]
  },
  {
   "cell_type": "code",
   "execution_count": null,
   "metadata": {
    "colab": {
     "base_uri": "https://localhost:8080/"
    },
    "executionInfo": {
     "elapsed": 12728,
     "status": "ok",
     "timestamp": 1621793991411,
     "user": {
      "displayName": "Varun Kapoor",
      "photoUrl": "https://lh3.googleusercontent.com/a-/AOh14GiqCnniCLExJES-Fu4_UKVqnr_f5QvFwiYQbkxVIYk=s64",
      "userId": "00394081441130681785"
     },
     "user_tz": -120
    },
    "id": "DgI1VIMviDmT",
    "outputId": "1f9b46de-bb0c-4a1b-d80f-5b00f9b1278d"
   },
   "outputs": [],
   "source": [
    "#Skip this cell during second run\n",
    "%tensorflow_version 1.x\n",
    "import tensorflow \n",
    "\n",
    "!pip uninstall -y keras-nightly\n",
    "\n",
    "!pip3 install h5py==2.10.0\n",
    "\n",
    "!pip install n2v\n",
    "!pip install wget\n",
    "!pip install fpdf\n",
    "!pip install memory_profiler\n",
    "\n",
    "!pip install q keras==2.2.5\n",
    "\n",
    "#Force session restart\n",
    "exit(0)"
   ]
  },
  {
   "cell_type": "code",
   "execution_count": null,
   "metadata": {},
   "outputs": [],
   "source": [
    "!pip install vollseg"
   ]
  },
  {
   "cell_type": "code",
   "execution_count": null,
   "metadata": {
    "colab": {
     "base_uri": "https://localhost:8080/"
    },
    "executionInfo": {
     "elapsed": 4320,
     "status": "ok",
     "timestamp": 1621793995714,
     "user": {
      "displayName": "Varun Kapoor",
      "photoUrl": "https://lh3.googleusercontent.com/a-/AOh14GiqCnniCLExJES-Fu4_UKVqnr_f5QvFwiYQbkxVIYk=s64",
      "userId": "00394081441130681785"
     },
     "user_tz": -120
    },
    "id": "uh2wPuymiDmT",
    "outputId": "0227c450-9404-4a44-eba0-86094858ce2f"
   },
   "outputs": [],
   "source": [
    "%cd '/content/drive/My Drive/VollSeg/'\n",
    "import os\n",
    "import glob\n",
    "import sys\n",
    "import numpy as np\n",
    "from tqdm import tqdm\n",
    "from tifffile import imread, imwrite\n",
    "from n2v.models import N2V\n",
    "from stardist.models import StarDist3D\n",
    "from csbdeep.models import Config, CARE\n",
    "from vollseg import SmartSeedPrediction3D\n",
    "os.environ[\"HDF5_USE_FILE_LOCKING\"] = \"FALSE\"\n",
    "from pathlib import Path\n"
   ]
  },
  {
   "cell_type": "code",
   "execution_count": null,
   "metadata": {
    "colab": {
     "base_uri": "https://localhost:8080/"
    },
    "executionInfo": {
     "elapsed": 6742,
     "status": "ok",
     "timestamp": 1621798091520,
     "user": {
      "displayName": "Varun Kapoor",
      "photoUrl": "https://lh3.googleusercontent.com/a-/AOh14GiqCnniCLExJES-Fu4_UKVqnr_f5QvFwiYQbkxVIYk=s64",
      "userId": "00394081441130681785"
     },
     "user_tz": -120
    },
    "id": "ODBQtQoqiDmT",
    "outputId": "551f0960-b57b-433d-92ce-2d53f696ff6b"
   },
   "outputs": [],
   "source": [
    "ImageDir = '/content/drive/My Drive/data/Raw/'\n",
    "Model_Dir = '/content/drive/My Drive/data/'\n",
    "\n",
    "SaveDir = ImageDir + 'Results/'\n",
    "\n",
    "NoiseModelName = 'ScipyDenoising'\n",
    "UNETModelName = 'UNETVolumeSeg'\n",
    "StarModelName = 'VolumeSeg'\n",
    "UnetModel = CARE(config = None, name = UNETModelName, basedir = Model_Dir)\n",
    "StarModel = StarDist3D(config = None, name = StarModelName, basedir = Model_Dir)\n",
    "NoiseModel = N2V(config=None, name=NoiseModelName, basedir=Model_Dir)"
   ]
  },
  {
   "cell_type": "code",
   "execution_count": null,
   "metadata": {
    "colab": {
     "base_uri": "https://localhost:8080/"
    },
    "executionInfo": {
     "elapsed": 2356070,
     "status": "ok",
     "timestamp": 1621800447586,
     "user": {
      "displayName": "Varun Kapoor",
      "photoUrl": "https://lh3.googleusercontent.com/a-/AOh14GiqCnniCLExJES-Fu4_UKVqnr_f5QvFwiYQbkxVIYk=s64",
      "userId": "00394081441130681785"
     },
     "user_tz": -120
    },
    "id": "WCJlUdyIiDmT",
    "outputId": "5d892b95-c76d-4f2d-ea44-1c12117a867e"
   },
   "outputs": [],
   "source": [
    "Raw_path = os.path.join(ImageDir, '*.tif')\n",
    "filesRaw = glob.glob(Raw_path)\n",
    "filesRaw.sort\n",
    "min_size = 100\n",
    "n_tiles = (1,4,4)\n",
    "\n",
    "for fname in filesRaw:\n",
    "     \n",
    "     SmartSeedPrediction3D(SaveDir, fname, UnetModel, StarModel,NoiseModel, min_size = min_size,  n_tiles = n_tiles, UseProbability = True)"
   ]
  },
  {
   "cell_type": "code",
   "execution_count": null,
   "metadata": {
    "executionInfo": {
     "elapsed": 25,
     "status": "ok",
     "timestamp": 1621800447588,
     "user": {
      "displayName": "Varun Kapoor",
      "photoUrl": "https://lh3.googleusercontent.com/a-/AOh14GiqCnniCLExJES-Fu4_UKVqnr_f5QvFwiYQbkxVIYk=s64",
      "userId": "00394081441130681785"
     },
     "user_tz": -120
    },
    "id": "IJzQ43hSJaXX"
   },
   "outputs": [],
   "source": []
  }
 ],
 "metadata": {
  "accelerator": "GPU",
  "colab": {
   "collapsed_sections": [],
   "machine_shape": "hm",
   "name": "ColabModelPrediction.ipynb",
   "provenance": []
  },
  "kernelspec": {
   "display_name": "Python 3",
   "language": "python",
   "name": "python3"
  },
  "language_info": {
   "codemirror_mode": {
    "name": "ipython",
    "version": 3
   },
   "file_extension": ".py",
   "mimetype": "text/x-python",
   "name": "python",
   "nbconvert_exporter": "python",
   "pygments_lexer": "ipython3",
   "version": "3.8.5"
  }
 },
 "nbformat": 4,
 "nbformat_minor": 1
}
