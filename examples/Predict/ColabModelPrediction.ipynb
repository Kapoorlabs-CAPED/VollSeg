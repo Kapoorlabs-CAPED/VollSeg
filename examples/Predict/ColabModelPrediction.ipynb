{
 "cells": [
  {
   "cell_type": "code",
   "execution_count": null,
   "metadata": {},
   "outputs": [],
   "source": [
    "from google.colab import drive\n",
    "drive.mount('/content/drive', force_remount = True)\n",
    "%tensorflow_version 2.x\n",
    "\n"
   ]
  },
  {
   "cell_type": "code",
   "execution_count": null,
   "metadata": {},
   "outputs": [],
   "source": [
    "!pip uninstall keras -y\n",
    "!pip uninstall keras-nightly -y\n",
    "!pip uninstall keras-Preprocessing -y\n",
    "!pip uninstall keras-vis -y\n",
    "!pip uninstall tensorflow -y\n",
    "!pip install napari[all]\n",
    "!pip install tensorflow==2.2.0\n",
    "!pip install keras==2.3.0\n",
    "!pip install vollseg \n",
    "!pip install n2v\n"
   ]
  },
  {
   "cell_type": "code",
   "execution_count": null,
   "metadata": {
    "colab": {
     "base_uri": "https://localhost:8080/"
    },
    "executionInfo": {
     "elapsed": 4320,
     "status": "ok",
     "timestamp": 1621793995714,
     "user": {
      "displayName": "Varun Kapoor",
      "photoUrl": "https://lh3.googleusercontent.com/a-/AOh14GiqCnniCLExJES-Fu4_UKVqnr_f5QvFwiYQbkxVIYk=s64",
      "userId": "00394081441130681785"
     },
     "user_tz": -120
    },
    "id": "uh2wPuymiDmT",
    "outputId": "0227c450-9404-4a44-eba0-86094858ce2f"
   },
   "outputs": [],
   "source": [
    "%cd '/content/drive/My Drive/VollSeg/'\n",
    "import os\n",
    "import glob\n",
    "import sys\n",
    "import numpy as np\n",
    "from tqdm import tqdm\n",
    "from tifffile import imread, imwrite\n",
    "from n2v.models import N2V\n",
    "from csbdeep.models import Config, CARE\n",
    "from vollseg import StarDist3D, UNET, VollSeg\n",
    "os.environ[\"HDF5_USE_FILE_LOCKING\"] = \"FALSE\"\n",
    "from pathlib import Path\n",
    "from n2v.models import N2V"
   ]
  },
  {
   "cell_type": "code",
   "execution_count": null,
   "metadata": {
    "colab": {
     "base_uri": "https://localhost:8080/"
    },
    "executionInfo": {
     "elapsed": 6742,
     "status": "ok",
     "timestamp": 1621798091520,
     "user": {
      "displayName": "Varun Kapoor",
      "photoUrl": "https://lh3.googleusercontent.com/a-/AOh14GiqCnniCLExJES-Fu4_UKVqnr_f5QvFwiYQbkxVIYk=s64",
      "userId": "00394081441130681785"
     },
     "user_tz": -120
    },
    "id": "ODBQtQoqiDmT",
    "outputId": "551f0960-b57b-433d-92ce-2d53f696ff6b"
   },
   "outputs": [],
   "source": [
    "image_dir = 'data/tiffiles/'\n",
    "\n",
    "model_dir = 'data/'\n",
    "\n",
    "save_dir = image_dir + 'Results/'\n",
    "\n",
    "\n",
    "NoiseModelName = 'ScipyDenoising'\n",
    "UNETModelName = 'UNETVolumeSeg'\n",
    "StarModelName = 'VolumeSeg'\n",
    "\n",
    "unet_model = UNET(config = None, name = UNETModelName, basedir = model_dir)\n",
    "star_model = StarDist3D(config = None, name = StarModelName, basedir = model_dir)\n",
    "noise_model = N2V(config=None, name=NoiseModelName, basedir = model_dir)"
   ]
  },
  {
   "cell_type": "code",
   "execution_count": null,
   "metadata": {
    "colab": {
     "base_uri": "https://localhost:8080/"
    },
    "executionInfo": {
     "elapsed": 2356070,
     "status": "ok",
     "timestamp": 1621800447586,
     "user": {
      "displayName": "Varun Kapoor",
      "photoUrl": "https://lh3.googleusercontent.com/a-/AOh14GiqCnniCLExJES-Fu4_UKVqnr_f5QvFwiYQbkxVIYk=s64",
      "userId": "00394081441130681785"
     },
     "user_tz": -120
    },
    "id": "WCJlUdyIiDmT",
    "outputId": "5d892b95-c76d-4f2d-ea44-1c12117a867e"
   },
   "outputs": [],
   "source": [
    "Raw_path = os.path.join(ImageDir, '*.tif')\n",
    "filesRaw = glob.glob(Raw_path)\n",
    "filesRaw.sort\n",
    "#Minimum size in pixels for the cells to be segmented\n",
    "min_size = 1\n",
    "#Adjust the number of tiles depending on how good your GPU is, tiling ensures that your image tiles fit into the runtime\n",
    "#memory \n",
    "n_tiles = (2,2,2)\n",
    "#If your Unet model is weak we will use the denoising model to obtain the semantic segmentation map, set this to False if this\n",
    "#is the case else set tit o TRUE if you are using Unet to obtain the semantic segmentation map.\n",
    "dounet = False\n",
    "#For 2D images we have the option of segmenting RGB->Greyscale, if so set this to true else let it be False\n",
    "RGB = False\n",
    "#Set up the axes keyword depending on the type of image you have, if it is a time lapse movie of XYZ images \n",
    "#your axes would be TZYX, if it is a timelapse of 2D images the axes would be TYX, for a directory of XYZ images\n",
    "#the axes is ZYX and for a directory of XY images the axes is YX\n",
    "axes = 'ZYX'\n",
    "for fname in filesRaw:\n",
    "     \n",
    "     image = imread(fname)\n",
    "     Name = os.path.basename(os.path.splitext(fname)[0])\n",
    "     VollSeg( image, unet_model, star_model, noise_model = noise_model, axes = axes, min_size = min_size,  n_tiles = n_tiles, UseProbability = True, save_dir = save_dir, Name = Name, dounet = dounet)\n"
   ]
  },
  {
   "cell_type": "code",
   "execution_count": null,
   "metadata": {
    "executionInfo": {
     "elapsed": 25,
     "status": "ok",
     "timestamp": 1621800447588,
     "user": {
      "displayName": "Varun Kapoor",
      "photoUrl": "https://lh3.googleusercontent.com/a-/AOh14GiqCnniCLExJES-Fu4_UKVqnr_f5QvFwiYQbkxVIYk=s64",
      "userId": "00394081441130681785"
     },
     "user_tz": -120
    },
    "id": "IJzQ43hSJaXX"
   },
   "outputs": [],
   "source": []
  }
 ],
 "metadata": {
  "accelerator": "GPU",
  "colab": {
   "collapsed_sections": [],
   "machine_shape": "hm",
   "name": "ColabModelPrediction.ipynb",
   "provenance": []
  },
  "kernelspec": {
   "display_name": "Python 3 (ipykernel)",
   "language": "python",
   "name": "python3"
  },
  "language_info": {
   "codemirror_mode": {
    "name": "ipython",
    "version": 3
   },
   "file_extension": ".py",
   "mimetype": "text/x-python",
   "name": "python",
   "nbconvert_exporter": "python",
   "pygments_lexer": "ipython3",
   "version": "3.9.0"
  }
 },
 "nbformat": 4,
 "nbformat_minor": 1
}
