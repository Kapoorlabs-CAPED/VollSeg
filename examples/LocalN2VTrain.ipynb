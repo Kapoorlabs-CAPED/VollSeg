{
 "cells": [
  {
   "cell_type": "code",
   "execution_count": null,
   "metadata": {},
   "outputs": [],
   "source": [
    "\n",
    "# We import all our dependencies.\n",
    "from n2v.models import N2VConfig, N2V\n",
    "import numpy as np\n",
    "import os\n",
    "os.environ[\"CUDA_VISIBLE_DEVICES\"]=\"1\"\n",
    "from csbdeep.utils import plot_history,plot_some\n",
    "from n2v.utils.n2v_utils import manipulate_val_data\n",
    "from n2v.internals.N2V_DataGenerator import N2V_DataGenerator\n",
    "from matplotlib import pyplot as plt\n",
    "import urllib\n",
    "import os\n",
    "import zipfile"
   ]
  },
  {
   "cell_type": "code",
   "execution_count": null,
   "metadata": {},
   "outputs": [],
   "source": [
    "BaseDir = 'data/'\n",
    "\n",
    "Model_Dir = 'data/'\n",
    "Model_Name = 'ScipyDenoising'\n",
    "datagen = N2V_DataGenerator()\n",
    "\n",
    "imgs = datagen.load_imgs_from_directory(directory = BaseDir + \"Raw/\", dims='ZYX')\n",
    "plt.figure(figsize=(32,16))\n",
    "plt.imshow(np.max(imgs[0][0,...,0],axis=0), \n",
    "           cmap='magma',\n",
    "           vmin=np.percentile(imgs[0],0.1),\n",
    "           vmax=np.percentile(imgs[0],99.9)\n",
    "          )\n",
    "plt.show()\n",
    "\n",
    "\n",
    "\n"
   ]
  },
  {
   "cell_type": "code",
   "execution_count": null,
   "metadata": {},
   "outputs": [],
   "source": [
    "patch_shape = (16, 128, 128)\n",
    "Epochs = 200\n",
    "NetworkDepth = 3\n",
    "batch_size = 1\n",
    "patches = datagen.generate_patches_from_list(imgs[:1], shape=patch_shape)\n",
    "X = patches[:180]\n",
    "X_val = patches[180:]\n",
    "\n",
    "# Let's look at two patches.\n",
    "plt.figure(figsize=(14,7))\n",
    "plt.subplot(1,2,1)\n",
    "plt.imshow(X[0,4,...,0],cmap='magma')\n",
    "plt.title('Training Patch');\n",
    "plt.subplot(1,2,2)\n",
    "plt.imshow(X_val[0,4,...,0],cmap='magma')\n",
    "plt.title('Validation Patch');"
   ]
  },
  {
   "cell_type": "code",
   "execution_count": null,
   "metadata": {},
   "outputs": [],
   "source": [
    "config = N2VConfig(X, unet_kern_size=3, unet_n_depth = NetworkDepth,\n",
    "                   train_steps_per_epoch=400,train_epochs= Epochs, train_loss='mse', batch_norm=True, \n",
    "                   train_batch_size=batch_size, n2v_perc_pix=0.198,n2v_patch_shape= patch_shape, \n",
    "                   n2v_manipulator='uniform_withCP', n2v_neighborhood_radius=4)\n",
    "\n",
    "# Let's look at the parameters stored in the config-object.\n",
    "vars(config)\n",
    "model = N2V(config=config, name=Model_Name, basedir=BaseDir)"
   ]
  },
  {
   "cell_type": "code",
   "execution_count": null,
   "metadata": {
    "scrolled": false
   },
   "outputs": [],
   "source": [
    "\n",
    "history = model.train(X, X_val)"
   ]
  },
  {
   "cell_type": "code",
   "execution_count": null,
   "metadata": {},
   "outputs": [],
   "source": [
    "print(sorted(list(history.history.keys())))\n",
    "plt.figure(figsize=(16,5))\n",
    "plot_history(history,['loss','val_loss']);"
   ]
  },
  {
   "cell_type": "code",
   "execution_count": null,
   "metadata": {},
   "outputs": [],
   "source": []
  },
  {
   "cell_type": "code",
   "execution_count": null,
   "metadata": {},
   "outputs": [],
   "source": [
    "plt.figure(figsize=(25,7))\n",
    "_P = model.keras_model.predict(X_val[:5])\n",
    "\n",
    "plot_some(X_val[:5],_P,pmax=99.5)\n",
    "plt.suptitle('5 example validation patches\\n'      \n",
    "             'top row: input (source),  '          \n",
    "             'middle row: denoised),  '\n",
    "             );"
   ]
  },
  {
   "cell_type": "code",
   "execution_count": null,
   "metadata": {},
   "outputs": [],
   "source": [
    "plt.figure(figsize=(25,7))\n",
    "_P = model.keras_model.predict(X_val[5:10])\n",
    "\n",
    "plot_some(X_val[5:10],_P,pmax=99.5)\n",
    "plt.suptitle('5 example validation patches\\n'      \n",
    "             'top row: input (source),  '          \n",
    "             'middle row: denoised),  '\n",
    "             );"
   ]
  },
  {
   "cell_type": "code",
   "execution_count": null,
   "metadata": {},
   "outputs": [],
   "source": [
    "plt.figure(figsize=(25,7))\n",
    "_P = model.keras_model.predict(X_val[10:15])\n",
    "\n",
    "plot_some(X_val[10:15],_P,pmax=99.5)\n",
    "plt.suptitle('5 example validation patches\\n'      \n",
    "             'top row: input (source),  '          \n",
    "             'middle row: denoised),  '\n",
    "             );"
   ]
  },
  {
   "cell_type": "code",
   "execution_count": null,
   "metadata": {},
   "outputs": [],
   "source": [
    "plt.figure(figsize=(25,7))\n",
    "_P = model.keras_model.predict(X_val[15:20])\n",
    "\n",
    "plot_some(X_val[15:20],_P,pmax=99.5)\n",
    "plt.suptitle('5 example validation patches\\n'      \n",
    "             'top row: input (source),  '          \n",
    "             'middle row: denoised),  '\n",
    "             );"
   ]
  },
  {
   "cell_type": "code",
   "execution_count": null,
   "metadata": {},
   "outputs": [],
   "source": []
  }
 ],
 "metadata": {
  "kernelspec": {
   "display_name": "Python [conda env:tensorflowGPU]",
   "language": "python",
   "name": "conda-env-tensorflowGPU-py"
  },
  "language_info": {
   "codemirror_mode": {
    "name": "ipython",
    "version": 3
   },
   "file_extension": ".py",
   "mimetype": "text/x-python",
   "name": "python",
   "nbconvert_exporter": "python",
   "pygments_lexer": "ipython3",
   "version": "3.8.5"
  }
 },
 "nbformat": 4,
 "nbformat_minor": 5
}
