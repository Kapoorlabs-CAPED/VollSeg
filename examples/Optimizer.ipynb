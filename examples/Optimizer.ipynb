{
 "cells": [
  {
   "cell_type": "markdown",
   "metadata": {},
   "source": [
    "# This notebook is used to obtain 2D dual segmentations.\n",
    "One of the segmetation is the mask region obtianed by applying the trained UNET model, second segmentation is the stardist trained model to obtain instance segmentation of objects inside that mask, for example 2D cells inside a 2D mask region."
   ]
  },
  {
   "cell_type": "code",
   "execution_count": 6,
   "metadata": {},
   "outputs": [],
   "source": [
    "import os\n",
    "os.environ[\"CUDA_VISIBLE_DEVICES\"]=\"0\"\n",
    "import glob\n",
    "import sys\n",
    "sys.path.append('../')\n",
    "import cv2\n",
    "import numpy as np\n",
    "from tqdm import tqdm\n",
    "from stardist.models import StarDist3D\n",
    "from csbdeep.models import Config, CARE\n",
    "from tifffile import imread\n",
    "\n",
    "from vollseg.OptimizeThreshold import OptimizeThreshold\n",
    "os.environ[\"HDF5_USE_FILE_LOCKING\"] = \"FALSE\"\n",
    "from pathlib import Path\n"
   ]
  },
  {
   "cell_type": "code",
   "execution_count": 7,
   "metadata": {
    "scrolled": true
   },
   "outputs": [
    {
     "name": "stdout",
     "output_type": "stream",
     "text": [
      "WARNING:tensorflow:From /home/sancere/anaconda3/envs/tensorflowGPU/lib/python3.7/site-packages/tensorflow_core/python/ops/resource_variable_ops.py:1630: calling BaseResourceVariable.__init__ (from tensorflow.python.ops.resource_variable_ops) with constraint is deprecated and will be removed in a future version.\n",
      "Instructions for updating:\n",
      "If using Keras pass *_constraint arguments to layers.\n",
      "Loading network weights from 'weights_now.h5'.\n",
      "Loading thresholds from 'thresholds.json'.\n",
      "Using default values: prob_thresh=0.5, nms_thresh=0.3.\n",
      "Loading network weights from 'weights_best.h5'.\n"
     ]
    }
   ],
   "source": [
    "BaseDir = '/home/sancere/Kepler/CurieTrainingDatasets/MouseClaudia/AugmentedGreenCell3D/'\n",
    "\n",
    "Model_Dir = '/home/sancere/Kepler/CurieDeepLearningModels/MouseClaudia/'\n",
    "SaveDir = '/home/sancere/Kepler/CurieTrainingDatasets/MouseClaudia/'\n",
    "\n",
    "\n",
    "StardistModelName = 'ScipyDeepGreenCells'\n",
    "UNETModelName = 'UNETScipyDeepGreenCells'\n",
    "\n",
    "\n",
    "NoiseModel = None\n",
    "Starmodel = StarDist3D(config = None, name = StardistModelName, basedir = Model_Dir)\n",
    "UnetModel = CARE(config = None, name = UNETModelName, basedir = Model_Dir)"
   ]
  },
  {
   "cell_type": "code",
   "execution_count": 8,
   "metadata": {},
   "outputs": [],
   "source": [
    "#Number of tiles to break the image into for applying the prediction to fit in the computer memory\n",
    "n_tiles = (1,2,2)\n",
    "\n",
    "\n",
    "#Use Probability map = True or distance map = False as the image to perform watershed on\n",
    "UseProbability = False"
   ]
  },
  {
   "cell_type": "code",
   "execution_count": null,
   "metadata": {},
   "outputs": [],
   "source": [
    "Raw = sorted(glob.glob(BaseDir + '/Raw/' + '*.tif'))\n",
    "RealMask = sorted(glob.glob(BaseDir + '/RealMask/' + '*.tif'))\n",
    "X = list(map(imread,Raw))\n",
    "Y = list(map(imread,RealMask))\n",
    "OptimizeThreshold(Starmodel,UnetModel,X,Y,BaseDir, UseProbability = UseProbability, n_tiles=n_tiles)\n",
    "\n"
   ]
  },
  {
   "cell_type": "code",
   "execution_count": null,
   "metadata": {},
   "outputs": [],
   "source": []
  }
 ],
 "metadata": {
  "kernelspec": {
   "display_name": "Python 3",
   "language": "python",
   "name": "python3"
  },
  "language_info": {
   "codemirror_mode": {
    "name": "ipython",
    "version": 3
   },
   "file_extension": ".py",
   "mimetype": "text/x-python",
   "name": "python",
   "nbconvert_exporter": "python",
   "pygments_lexer": "ipython3",
   "version": "3.7.0"
  }
 },
 "nbformat": 4,
 "nbformat_minor": 2
}
