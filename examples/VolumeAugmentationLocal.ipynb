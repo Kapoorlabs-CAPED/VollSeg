{
 "cells": [
  {
   "cell_type": "code",
   "execution_count": 2,
   "metadata": {
    "colab": {
     "base_uri": "https://localhost:8080/"
    },
    "id": "ymhvicg_o8mz",
    "outputId": "2dc00503-2463-4ab9-b3ec-48f4c1ba37e1"
   },
   "outputs": [],
   "source": [
    "\n",
    "import os\n",
    "import glob\n",
    "import sys\n",
    "sys.path.append('../../')\n",
    "from tifffile import imread, imwrite\n",
    "import numpy as np\n",
    "from tqdm import tqdm\n",
    "from Utils import Augmentation3D\n",
    "from Utils.helpers import Resizer3D\n",
    "from pathlib import Path"
   ]
  },
  {
   "cell_type": "code",
   "execution_count": 3,
   "metadata": {
    "id": "h-jLiXOMo1Im"
   },
   "outputs": [],
   "source": [
    "ImageDir =  '/home/sancere/Downloads/GFP_Segmentation_Crop/Raw_Image_Crop_Denoised/'\n",
    "LabelDir = '/home/sancere/Downloads/GFP_Segmentation_Crop/Segmentation_Image_Crop/'\n",
    "\n",
    "ResizeImageDir =  '/home/sancere/Downloads/GFP_Segmentation_Crop/ResizeRaw/'\n",
    "ResizeLabelDir = '/home/sancere/Downloads/GFP_Segmentation_Crop/ResizeSeg/'\n",
    "\n",
    "Resize = True"
   ]
  },
  {
   "cell_type": "code",
   "execution_count": 4,
   "metadata": {
    "colab": {
     "base_uri": "https://localhost:8080/"
    },
    "id": "s_yuRRDYo1Im",
    "outputId": "37a749db-a3ff-4c5b-d407-2d2c36ab277f"
   },
   "outputs": [
    {
     "name": "stdout",
     "output_type": "stream",
     "text": [
      "Timepoint22\n",
      "Timepoint23\n",
      "Timepoint25\n",
      "Timepoint21\n",
      "Timepoint20\n",
      "Timepoint24\n",
      "(6, 65, 1024, 1024) (6, 65, 1024, 1024)\n"
     ]
    }
   ],
   "source": [
    "if Resize:\n",
    "        Raw_path = os.path.join(ImageDir, '*tif')\n",
    "        filesRaw = glob.glob(Raw_path)\n",
    "        filesRaw.sort\n",
    "\n",
    "        Label_path = os.path.join(LabelDir, '*tif')\n",
    "        filesLabel = glob.glob(Label_path)\n",
    "        filesLabel.sort\n",
    "\n",
    "        SizeX = 1024\n",
    "        SizeY = 1024\n",
    "        SizeZ = 65\n",
    "        Data = []\n",
    "        Label = []\n",
    "        for fname in filesRaw:\n",
    "            \n",
    "            for secondfname in filesLabel:\n",
    "                \n",
    "                Name = os.path.basename(os.path.splitext(fname)[0])\n",
    "                LabelName = os.path.basename(os.path.splitext(secondfname)[0])\n",
    "                if Name == LabelName:\n",
    "                    print(Name) \n",
    "                    image = Resizer3D(imread(fname), SizeX, SizeY, SizeZ)\n",
    "                    Data.append(image)\n",
    "                    labelimage = Resizer3D(imread(secondfname), SizeX, SizeY, SizeZ)\n",
    "                    Label.append(labelimage)   \n",
    "            \n",
    "        Data = np.asarray(Data)\n",
    "        Label = np.asarray(Label)\n",
    "        print(Data.shape, Label.shape)    \n",
    "else:\n",
    "\n",
    "        Raw_path = os.path.join(ResizeImageDir, '*tif')\n",
    "        filesRaw = glob.glob(Raw_path)\n",
    "        filesRaw.sort\n",
    "\n",
    "        Label_path = os.path.join(ResizeLabelDir, '*tif')\n",
    "        filesLabel = glob.glob(Label_path)\n",
    "        filesLabel.sort\n",
    "\n",
    "        Data = []\n",
    "        Label = []\n",
    "        for fname in filesRaw:\n",
    "            \n",
    "            for secondfname in filesLabel:\n",
    "                \n",
    "                Name = os.path.basename(os.path.splitext(fname)[0])\n",
    "                LabelName = os.path.basename(os.path.splitext(secondfname)[0])\n",
    "                if Name == LabelName:\n",
    "                    image = imread(fname)\n",
    "                    Data.append(image)\n",
    "                    labelimage = imread(secondfname)\n",
    "                    Label.append(labelimage)   \n",
    "            \n",
    "        Data = np.asarray(Data)\n",
    "        Label = np.asarray(Label)\n",
    "        print(Data.shape, Label.shape)   \n",
    "\n"
   ]
  },
  {
   "cell_type": "code",
   "execution_count": 5,
   "metadata": {
    "id": "618QlmtGuIBz"
   },
   "outputs": [],
   "source": [
    "if Resize:\n",
    "\n",
    "        Path(ResizeImageDir).mkdir(exist_ok=True)\n",
    "        Path(ResizeLabelDir).mkdir(exist_ok=True)\n",
    "        Count = 0\n",
    "        for i in range(0, Data.shape[0]):\n",
    "          Name = 'JanuaryCells' + str(Count)\n",
    "          imwrite(ResizeImageDir + '/' + Name + '.tif', Data[i].astype('float16'))\n",
    "          imwrite(ResizeLabelDir + '/' + Name + '.tif', Label[i].astype('uint16'))\n",
    "          Count = Count + 1"
   ]
  },
  {
   "cell_type": "code",
   "execution_count": 6,
   "metadata": {
    "id": "D92VnV5qo1In"
   },
   "outputs": [],
   "source": [
    "AugmentImageDir =  '/home/sancere/Downloads/GFP_Segmentation_Crop/AugmentRaw/'\n",
    "AugmentLabelDir = '/home/sancere/Downloads/GFP_Segmentation_Crop/AugmentSeg/'\n",
    "Path(AugmentImageDir).mkdir(exist_ok=True)\n",
    "Path(AugmentLabelDir).mkdir(exist_ok=True)"
   ]
  },
  {
   "cell_type": "code",
   "execution_count": 7,
   "metadata": {
    "id": "VdsuZ78Vry1X"
   },
   "outputs": [],
   "source": [
    "#Shift the image and label pair along axis 1 (z axis)\n",
    "AugmentData = Augmentation3D(shift_axis=1, shift_range = 1)\n",
    "AugImageLabel = AugmentData.build(data=Data, label=Label, batch_size = Data.shape[0])\n",
    "\n"
   ]
  },
  {
   "cell_type": "code",
   "execution_count": 12,
   "metadata": {
    "id": "Q9jaJuSV6zGg"
   },
   "outputs": [],
   "source": [
    "#Save the flips\n",
    "AugPair = np.asarray(next(AugImageLabel))\n",
    "Count = 0\n",
    "for i in range(0, AugPair.shape[1]):\n",
    "     Name = 'JanuaryCellsFlip' + str(Count)\n",
    "     imwrite(AugmentImageDir + '/' + Name + '.tif', AugPair[0,i,:,:].astype('float32'))\n",
    "     imwrite(AugmentLabelDir + '/' + Name + '.tif', AugPair[1,i,:,:].astype('uint16'))\n",
    "     Count = Count + 1"
   ]
  },
  {
   "cell_type": "code",
   "execution_count": null,
   "metadata": {
    "id": "abjVyvFmF4yu"
   },
   "outputs": [],
   "source": []
  }
 ],
 "metadata": {
  "colab": {
   "collapsed_sections": [],
   "machine_shape": "hm",
   "name": "VolumeAugmentation.ipynb",
   "provenance": []
  },
  "kernelspec": {
   "display_name": "Python 3",
   "language": "python",
   "name": "python3"
  },
  "language_info": {
   "codemirror_mode": {
    "name": "ipython",
    "version": 3
   },
   "file_extension": ".py",
   "mimetype": "text/x-python",
   "name": "python",
   "nbconvert_exporter": "python",
   "pygments_lexer": "ipython3",
   "version": "3.6.10"
  }
 },
 "nbformat": 4,
 "nbformat_minor": 1
}
