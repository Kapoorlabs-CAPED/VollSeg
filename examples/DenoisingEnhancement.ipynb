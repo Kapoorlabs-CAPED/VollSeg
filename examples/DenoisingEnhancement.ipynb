{
 "cells": [
  {
   "cell_type": "code",
   "execution_count": 1,
   "metadata": {
    "colab": {
     "base_uri": "https://localhost:8080/"
    },
    "id": "EEkqi2RJImkO",
    "outputId": "356bdf5f-7034-40ac-bfc6-6b08cfe2046f"
   },
   "outputs": [
    {
     "name": "stderr",
     "output_type": "stream",
     "text": [
      "Using TensorFlow backend.\n"
     ]
    }
   ],
   "source": [
    "import os\n",
    "os.environ[\"CUDA_VISIBLE_DEVICES\"]=\"0\"\n",
    "import glob\n",
    "import numpy as np\n",
    "from tqdm import tqdm\n",
    "from csbdeep.models import CARE\n",
    "from tifffile import imread, imwrite\n",
    "os.environ[\"HDF5_USE_FILE_LOCKING\"] = \"FALSE\"\n",
    "from pathlib import Path\n",
    "import sys\n",
    "sys.path.append('../')\n",
    "from vollseg.helpers import crappify_flou_G_P"
   ]
  },
  {
   "cell_type": "code",
   "execution_count": 3,
   "metadata": {
    "colab": {
     "base_uri": "https://localhost:8080/"
    },
    "id": "Zt7mw-ZRImkP",
    "outputId": "00626ca4-fac6-41af-bb14-3bea2cdff7c3"
   },
   "outputs": [],
   "source": [
    "imagedir = '/home/sancere/Kepler/CurieTrainingDatasets/MouseClaudia/NewDrawings/Raw/'\n",
    "labeldir = '/home/sancere/Kepler/CurieTrainingDatasets/MouseClaudia/NewDrawings/GT/'\n",
    "\n",
    "#modeldir = '/media/sancere/Newton_Volume_2/data/models/'\n",
    "#noisemodelname = 'generic_denoising'\n",
    "\n",
    "#display results after these many images\n",
    "#NoiseModel = CARE(config = None, name = noisemodelname, basedir = modeldir)\n",
    "mu = 0\n",
    "sigma = 5"
   ]
  },
  {
   "cell_type": "code",
   "execution_count": 4,
   "metadata": {
    "colab": {
     "base_uri": "https://localhost:8080/"
    },
    "id": "2sypFfttImkP",
    "outputId": "6cd28d0c-371c-4ecc-94d4-3c7c3ccde106"
   },
   "outputs": [],
   "source": [
    "Raw_path = os.path.join(imagedir, '*tif')\n",
    "filesRaw = glob.glob(Raw_path)\n",
    "filesRaw.sort\n",
    "\n",
    "\n",
    "RealRaw_path = os.path.join(labeldir, '*tif')\n",
    "RealfilesRaw = glob.glob(RealRaw_path)\n",
    "RealfilesRaw.sort\n",
    "\n",
    "for fname in filesRaw:\n",
    "\n",
    "\n",
    "           for Realfname in RealfilesRaw:\n",
    "\n",
    "                  name = os.path.basename(os.path.splitext(fname)[0])\n",
    "                  realname = os.path.basename(os.path.splitext(Realfname)[0])\n",
    "\n",
    "                  if ( name == realname): \n",
    "\n",
    "                            #Read image        \n",
    "                            image = imread(fname)\n",
    "                            y = imread(Realfname)\n",
    "                            #Get Name\n",
    "                            x = image\n",
    "                            crappify_flou_G_P(x, y, mu, sigma, imagedir, labeldir, name)\n",
    "                            #x = NoiseModel.predict(x,'ZYX', n_tiles=(1,1,1))\n",
    "                            #Save different method segmentation\n",
    "                            #imwrite((imagedir +  name + 'Denoised' + '.tif' ) , x.astype('float32'))\n",
    "                            #imwrite((labeldir +  name + 'Denoised' +  '.tif' ) , y.astype('uint16'))\n",
    "                "
   ]
  },
  {
   "cell_type": "code",
   "execution_count": null,
   "metadata": {
    "id": "4SScUuFsJM_B"
   },
   "outputs": [],
   "source": []
  }
 ],
 "metadata": {
  "accelerator": "GPU",
  "colab": {
   "collapsed_sections": [],
   "machine_shape": "hm",
   "name": "SingleImageDenoising.ipynb",
   "provenance": []
  },
  "kernelspec": {
   "display_name": "Python 3",
   "language": "python",
   "name": "python3"
  },
  "language_info": {
   "codemirror_mode": {
    "name": "ipython",
    "version": 3
   },
   "file_extension": ".py",
   "mimetype": "text/x-python",
   "name": "python",
   "nbconvert_exporter": "python",
   "pygments_lexer": "ipython3",
   "version": "3.7.0"
  }
 },
 "nbformat": 4,
 "nbformat_minor": 1
}
