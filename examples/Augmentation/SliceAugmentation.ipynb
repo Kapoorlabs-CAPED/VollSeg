{
 "cells": [
  {
   "cell_type": "code",
   "execution_count": 1,
   "metadata": {},
   "outputs": [
    {
     "name": "stderr",
     "output_type": "stream",
     "text": [
      "In /home/sancere/anaconda3/envs/tensorflowGPU/lib/python3.7/site-packages/matplotlib/mpl-data/stylelib/_classic_test.mplstyle: \n",
      "The text.latex.preview rcparam was deprecated in Matplotlib 3.3 and will be removed two minor releases later.\n",
      "In /home/sancere/anaconda3/envs/tensorflowGPU/lib/python3.7/site-packages/matplotlib/mpl-data/stylelib/_classic_test.mplstyle: \n",
      "The mathtext.fallback_to_cm rcparam was deprecated in Matplotlib 3.3 and will be removed two minor releases later.\n",
      "In /home/sancere/anaconda3/envs/tensorflowGPU/lib/python3.7/site-packages/matplotlib/mpl-data/stylelib/_classic_test.mplstyle: Support for setting the 'mathtext.fallback_to_cm' rcParam is deprecated since 3.3 and will be removed two minor releases later; use 'mathtext.fallback : 'cm' instead.\n",
      "In /home/sancere/anaconda3/envs/tensorflowGPU/lib/python3.7/site-packages/matplotlib/mpl-data/stylelib/_classic_test.mplstyle: \n",
      "The validate_bool_maybe_none function was deprecated in Matplotlib 3.3 and will be removed two minor releases later.\n",
      "In /home/sancere/anaconda3/envs/tensorflowGPU/lib/python3.7/site-packages/matplotlib/mpl-data/stylelib/_classic_test.mplstyle: \n",
      "The savefig.jpeg_quality rcparam was deprecated in Matplotlib 3.3 and will be removed two minor releases later.\n",
      "In /home/sancere/anaconda3/envs/tensorflowGPU/lib/python3.7/site-packages/matplotlib/mpl-data/stylelib/_classic_test.mplstyle: \n",
      "The keymap.all_axes rcparam was deprecated in Matplotlib 3.3 and will be removed two minor releases later.\n",
      "In /home/sancere/anaconda3/envs/tensorflowGPU/lib/python3.7/site-packages/matplotlib/mpl-data/stylelib/_classic_test.mplstyle: \n",
      "The animation.avconv_path rcparam was deprecated in Matplotlib 3.3 and will be removed two minor releases later.\n",
      "In /home/sancere/anaconda3/envs/tensorflowGPU/lib/python3.7/site-packages/matplotlib/mpl-data/stylelib/_classic_test.mplstyle: \n",
      "The animation.avconv_args rcparam was deprecated in Matplotlib 3.3 and will be removed two minor releases later.\n"
     ]
    }
   ],
   "source": [
    "\n",
    "import os\n",
    "import glob\n",
    "import sys\n",
    "sys.path.append('../../')\n",
    "from tifffile import imread, imwrite\n",
    "import numpy as np\n",
    "from tqdm import tqdm\n",
    "from vollseg import Augmentation2D\n",
    "from localvollseg.helpers import crappify_flou_G_P\n",
    "from pathlib import Path"
   ]
  },
  {
   "cell_type": "code",
   "execution_count": 2,
   "metadata": {},
   "outputs": [],
   "source": [
    "RawImageDir =  '/home/sancere/VKepler/ClaudiaData/TRL_Retraining/Raw/'\n",
    "BaseLabelDir = '/home/sancere/VKepler/ClaudiaData/TRL_Retraining/SplitSeg/'\n",
    "\n",
    "\n",
    "ProjectedImageDir =  '/home/sancere/VKepler/ClaudiaData/TRL_Retraining/ProjectedRaw/'\n",
    "ProjectedLabelDir =  '/home/sancere/VKepler/ClaudiaData/TRL_Retraining/ProjectedSeg/'\n",
    "startZ = [6, 7, 8, 9, 10, 11]\n",
    "endZ = [16, 17, 18, 19, 20, 21]\n"
   ]
  },
  {
   "cell_type": "code",
   "execution_count": 3,
   "metadata": {},
   "outputs": [],
   "source": [
    "Raw_path = os.path.join(RawImageDir, '*tif')\n",
    "filesRaw = glob.glob(Raw_path)\n",
    "filesRaw.sort\n",
    "\n",
    "\n",
    "RealRaw_path = os.path.join(BaseLabelDir, '*tif')\n",
    "RealfilesRaw = glob.glob(RealRaw_path)\n",
    "RealfilesRaw.sort\n",
    "\n",
    "for fname in filesRaw:\n",
    "\n",
    "\n",
    "           for Realfname in RealfilesRaw:\n",
    "\n",
    "                  name = os.path.basename(os.path.splitext(fname)[0])\n",
    "                  realname = os.path.basename(os.path.splitext(Realfname)[0])\n",
    "\n",
    "                  if (name == realname): \n",
    "\n",
    "                            #Read image        \n",
    "                            x = imread(fname)\n",
    "                            y = imread(Realfname)\n",
    "                            for i in range(0, len(startZ)):\n",
    "                                \n",
    "                                xproj = np.sum(x[startZ[i]:endZ[i],:], axis = 0)\n",
    "                                imwrite(ProjectedImageDir + name + str(startZ[i]) + str(endZ[i]) + '.tif', xproj)\n",
    "                                imwrite(ProjectedLabelDir + name + str(startZ[i]) + str(endZ[i]) + '.tif', y.astype('uint16'))\n",
    "                            \n",
    "                            \n",
    "                           "
   ]
  },
  {
   "cell_type": "code",
   "execution_count": null,
   "metadata": {},
   "outputs": [],
   "source": []
  }
 ],
 "metadata": {
  "kernelspec": {
   "display_name": "Python 3 (ipykernel)",
   "language": "python",
   "name": "python3"
  },
  "language_info": {
   "codemirror_mode": {
    "name": "ipython",
    "version": 3
   },
   "file_extension": ".py",
   "mimetype": "text/x-python",
   "name": "python",
   "nbconvert_exporter": "python",
   "pygments_lexer": "ipython3",
   "version": "3.9.0"
  }
 },
 "nbformat": 4,
 "nbformat_minor": 4
}
