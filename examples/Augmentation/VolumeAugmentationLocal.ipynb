{
 "cells": [
  {
   "cell_type": "code",
   "execution_count": 11,
   "metadata": {
    "colab": {
     "base_uri": "https://localhost:8080/"
    },
    "id": "ymhvicg_o8mz",
    "outputId": "2dc00503-2463-4ab9-b3ec-48f4c1ba37e1"
   },
   "outputs": [],
   "source": [
    "\n",
    "import os\n",
    "import glob\n",
    "import sys\n",
    "sys.path.append('../../')\n",
    "from tifffile import imread, imwrite\n",
    "import numpy as np\n",
    "from tqdm import tqdm\n",
    "from vollseg import Augmentation3D\n",
    "from vollseg.helpers import crappify_flou_G_P\n",
    "from pathlib import Path"
   ]
  },
  {
   "cell_type": "code",
   "execution_count": 12,
   "metadata": {
    "id": "h-jLiXOMo1Im"
   },
   "outputs": [],
   "source": [
    "ImageDir =  '/Users/aimachine/Mari/Raw/'\n",
    "LabelDir = '/Users/aimachine/Mari/RealMask/'"
   ]
  },
  {
   "cell_type": "code",
   "execution_count": 21,
   "metadata": {},
   "outputs": [],
   "source": [
    "Raw_path = os.path.join(ImageDir, '*tif')\n",
    "filesRaw = glob.glob(Raw_path)\n",
    "filesRaw.sort\n",
    "\n",
    "\n",
    "RealRaw_path = os.path.join(LabelDir, '*tif')\n",
    "RealfilesRaw = glob.glob(RealRaw_path)\n",
    "RealfilesRaw.sort\n",
    "mu = 0\n",
    "sigma = 5\n",
    "for fname in filesRaw:\n",
    "\n",
    "\n",
    "           for Realfname in RealfilesRaw:\n",
    "\n",
    "                  name = os.path.basename(os.path.splitext(fname)[0])\n",
    "                  realname = os.path.basename(os.path.splitext(Realfname)[0])\n",
    "\n",
    "                  if ( name == realname): \n",
    "\n",
    "                            #Read image        \n",
    "                            image = imread(fname)\n",
    "                            y = imread(Realfname)\n",
    "                            #Get Name\n",
    "                            x = image\n",
    "                            crappify_flou_G_P(x, y, mu, sigma, ImageDir, LabelDir, name)"
   ]
  },
  {
   "cell_type": "code",
   "execution_count": 22,
   "metadata": {
    "colab": {
     "base_uri": "https://localhost:8080/"
    },
    "id": "s_yuRRDYo1Im",
    "outputId": "37a749db-a3ff-4c5b-d407-2d2c36ab277f"
   },
   "outputs": [
    {
     "name": "stdout",
     "output_type": "stream",
     "text": [
      "(160, 20, 200, 200)\n"
     ]
    }
   ],
   "source": [
    "Raw_path = os.path.join(ImageDir, '*tif')\n",
    "filesRaw = glob.glob(Raw_path)\n",
    "filesRaw.sort\n",
    "\n",
    "Label_path = os.path.join(LabelDir, '*tif')\n",
    "filesLabel = glob.glob(Label_path)\n",
    "filesLabel.sort\n",
    "\n",
    "Data = []\n",
    "Label = []\n",
    "for fname in filesRaw:\n",
    "\n",
    "    for secondfname in filesLabel:\n",
    "\n",
    "        Name = os.path.basename(os.path.splitext(fname)[0])\n",
    "        LabelName = os.path.basename(os.path.splitext(secondfname)[0])\n",
    "        if Name == LabelName:\n",
    "            image = imread(fname)\n",
    "            Data.append(image)\n",
    "            labelimage = imread(secondfname)\n",
    "            Label.append(labelimage)   \n",
    "            \n",
    "Data = np.asarray(Data)\n",
    "Label = np.asarray(Label)\n",
    "   \n",
    "print(Data.shape)\n"
   ]
  },
  {
   "cell_type": "code",
   "execution_count": 15,
   "metadata": {
    "id": "618QlmtGuIBz"
   },
   "outputs": [],
   "source": [
    "\n",
    "AugmentData = Augmentation3D(rotate_axis=2, rotate_angle = 30)\n",
    "AugImageLabel = AugmentData.build(data=Data, label=Label, batch_size = Data.shape[0])\n",
    "\n"
   ]
  },
  {
   "cell_type": "code",
   "execution_count": 16,
   "metadata": {
    "id": "D92VnV5qo1In"
   },
   "outputs": [],
   "source": [
    "#Save the shifts\n",
    "AugPair = np.asarray(next(AugImageLabel))\n",
    "Count = 0\n",
    "for i in range(0, AugPair.shape[1]):\n",
    "     Name = 'rotateax2' + str(Count)\n",
    "     imwrite(ImageDir + '/' + Name + '.tif', AugPair[0,i,:,:].astype('float32'))\n",
    "     imwrite(LabelDir + '/' + Name + '.tif', AugPair[1,i,:,:].astype('uint16'))\n",
    "     Count = Count + 1"
   ]
  },
  {
   "cell_type": "code",
   "execution_count": 19,
   "metadata": {
    "id": "VdsuZ78Vry1X"
   },
   "outputs": [],
   "source": [
    "\n",
    "AugmentData = Augmentation3D(rotate_axis=1, rotate_angle = 'random')\n",
    "AugImageLabel = AugmentData.build(data=Data, label=Label, batch_size = Data.shape[0])\n",
    "\n"
   ]
  },
  {
   "cell_type": "code",
   "execution_count": 20,
   "metadata": {
    "id": "Q9jaJuSV6zGg"
   },
   "outputs": [],
   "source": [
    "#Save the flips\n",
    "AugPair = np.asarray(next(AugImageLabel))\n",
    "Count = 0\n",
    "for i in range(0, AugPair.shape[1]):\n",
    "     Name = 'rotateax1' + str(Count)\n",
    "     imwrite(ImageDir + '/' + Name + '.tif', AugPair[0,i,:,:].astype('float32'))\n",
    "     imwrite(LabelDir + '/' + Name + '.tif', AugPair[1,i,:,:].astype('uint16'))\n",
    "     Count = Count + 1"
   ]
  },
  {
   "cell_type": "code",
   "execution_count": null,
   "metadata": {},
   "outputs": [],
   "source": []
  }
 ],
 "metadata": {
  "colab": {
   "collapsed_sections": [],
   "machine_shape": "hm",
   "name": "VolumeAugmentation.ipynb",
   "provenance": []
  },
  "kernelspec": {
   "display_name": "Python 3 (ipykernel)",
   "language": "python",
   "name": "python3"
  },
  "language_info": {
   "codemirror_mode": {
    "name": "ipython",
    "version": 3
   },
   "file_extension": ".py",
   "mimetype": "text/x-python",
   "name": "python",
   "nbconvert_exporter": "python",
   "pygments_lexer": "ipython3",
   "version": "3.9.0"
  }
 },
 "nbformat": 4,
 "nbformat_minor": 1
}
