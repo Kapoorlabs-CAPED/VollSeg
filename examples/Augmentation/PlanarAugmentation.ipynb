{
 "cells": [
  {
   "cell_type": "code",
   "execution_count": null,
   "metadata": {},
   "outputs": [],
   "source": [
    "\n",
    "import os\n",
    "import glob\n",
    "import sys\n",
    "sys.path.append('../../')\n",
    "from tifffile import imread, imwrite\n",
    "import numpy as np\n",
    "from tqdm import tqdm\n",
    "from vollseg import Augmentation2D\n",
    "from vollseg.helpers import crappify_flou_G_P\n",
    "from pathlib import Path"
   ]
  },
  {
   "cell_type": "code",
   "execution_count": null,
   "metadata": {},
   "outputs": [],
   "source": [
    "ImageDir =  '/Users/aimachine/Mari/Raw/'\n",
    "LabelDir = '/Users/aimachine/Mari/RealMask/'\n",
    "\n"
   ]
  },
  {
   "cell_type": "code",
   "execution_count": null,
   "metadata": {},
   "outputs": [],
   "source": [
    "Raw_path = os.path.join(imagedir, '*tif')\n",
    "filesRaw = glob.glob(Raw_path)\n",
    "filesRaw.sort\n",
    "\n",
    "\n",
    "RealRaw_path = os.path.join(LabelDir, '*tif')\n",
    "RealfilesRaw = glob.glob(RealRaw_path)\n",
    "RealfilesRaw.sort\n",
    "mu = 0\n",
    "sigma = 5\n",
    "for fname in filesRaw:\n",
    "\n",
    "\n",
    "           for Realfname in RealfilesRaw:\n",
    "\n",
    "                  name = os.path.basename(os.path.splitext(fname)[0])\n",
    "                  realname = os.path.basename(os.path.splitext(Realfname)[0])\n",
    "\n",
    "                  if ( name == realname): \n",
    "\n",
    "                            #Read image        \n",
    "                            image = imread(fname)\n",
    "                            y = imread(Realfname)\n",
    "                            #Get Name\n",
    "                            x = image\n",
    "                            crappify_flou_G_P(x, y, mu, sigma, imagedir, labeldir, name)\n",
    "                           "
   ]
  },
  {
   "cell_type": "code",
   "execution_count": null,
   "metadata": {},
   "outputs": [],
   "source": [
    "Raw_path = os.path.join(ImageDir, '*tif')\n",
    "filesRaw = glob.glob(Raw_path)\n",
    "filesRaw.sort\n",
    "\n",
    "Label_path = os.path.join(LabelDir, '*tif')\n",
    "filesLabel = glob.glob(Label_path)\n",
    "filesLabel.sort\n",
    "\n",
    "Data = []\n",
    "Label = []\n",
    "for fname in filesRaw:\n",
    "\n",
    "    for secondfname in filesLabel:\n",
    "\n",
    "        Name = os.path.basename(os.path.splitext(fname)[0])\n",
    "        LabelName = os.path.basename(os.path.splitext(secondfname)[0])\n",
    "        if Name == LabelName:\n",
    "            image = imread(fname)\n",
    "            Data.append(image)\n",
    "            labelimage = imread(secondfname)\n",
    "            Label.append(labelimage)   \n",
    "\n",
    "Data = np.asarray(Data)\n",
    "Label = np.asarray(Label)\n",
    "   \n",
    "print(Data.shape)\n"
   ]
  },
  {
   "cell_type": "code",
   "execution_count": null,
   "metadata": {},
   "outputs": [],
   "source": [
    "#Save the shifts\n",
    "AugPair = np.asarray(next(AugImageLabel))\n",
    "Count = 0\n",
    "for i in range(0, AugPair.shape[1]):\n",
    "     Name = 'rotate' + str(Count)\n",
    "     imwrite(ImageDir + '/' + Name + '.tif', AugPair[0,i,:,:].astype('float32'))\n",
    "     imwrite(LabelDir + '/' + Name + '.tif', AugPair[1,i,:,:].astype('uint16'))\n",
    "     Count = Count + 1"
   ]
  }
 ],
 "metadata": {
  "kernelspec": {
   "display_name": "Python [conda env:tensorflowGPU]",
   "language": "python",
   "name": "conda-env-tensorflowGPU-py"
  },
  "language_info": {
   "codemirror_mode": {
    "name": "ipython",
    "version": 3
   },
   "file_extension": ".py",
   "mimetype": "text/x-python",
   "name": "python",
   "nbconvert_exporter": "python",
   "pygments_lexer": "ipython3",
   "version": "3.8.5"
  }
 },
 "nbformat": 4,
 "nbformat_minor": 4
}
