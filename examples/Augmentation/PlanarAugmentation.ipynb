{
 "cells": [
  {
   "cell_type": "code",
   "execution_count": 2,
   "metadata": {},
   "outputs": [],
   "source": [
    "\n",
    "import os\n",
    "import glob\n",
    "import sys\n",
    "sys.path.append('../../')\n",
    "from tifffile import imread, imwrite\n",
    "import numpy as np\n",
    "from tqdm import tqdm\n",
    "from vollseg import Augmentation2D\n",
    "from vollseg.helpers import crappify_flou_G_P\n",
    "from pathlib import Path"
   ]
  },
  {
   "cell_type": "code",
   "execution_count": 7,
   "metadata": {},
   "outputs": [],
   "source": [
    "ImageDir =  '/home/sancere/VKepler/CurieTrainingDatasets/WildTypeDrosSegmentationTraining/Raw/'\n",
    "LabelDir = '/home/sancere/VKepler/CurieTrainingDatasets/WildTypeDrosSegmentationTraining/RealMask/'\n",
    "\n"
   ]
  },
  {
   "cell_type": "code",
   "execution_count": 8,
   "metadata": {},
   "outputs": [
    {
     "ename": "NameError",
     "evalue": "name 'imagedir' is not defined",
     "output_type": "error",
     "traceback": [
      "\u001b[0;31m---------------------------------------------------------------------------\u001b[0m",
      "\u001b[0;31mNameError\u001b[0m                                 Traceback (most recent call last)",
      "\u001b[0;32m/tmp/ipykernel_36267/3282916450.py\u001b[0m in \u001b[0;36m<module>\u001b[0;34m\u001b[0m\n\u001b[1;32m     24\u001b[0m                             \u001b[0;31m#Get Name\u001b[0m\u001b[0;34m\u001b[0m\u001b[0;34m\u001b[0m\u001b[0;34m\u001b[0m\u001b[0m\n\u001b[1;32m     25\u001b[0m                             \u001b[0mx\u001b[0m \u001b[0;34m=\u001b[0m \u001b[0mimage\u001b[0m\u001b[0;34m\u001b[0m\u001b[0;34m\u001b[0m\u001b[0m\n\u001b[0;32m---> 26\u001b[0;31m                             \u001b[0mcrappify_flou_G_P\u001b[0m\u001b[0;34m(\u001b[0m\u001b[0mx\u001b[0m\u001b[0;34m,\u001b[0m \u001b[0my\u001b[0m\u001b[0;34m,\u001b[0m \u001b[0mmu\u001b[0m\u001b[0;34m,\u001b[0m \u001b[0msigma\u001b[0m\u001b[0;34m,\u001b[0m \u001b[0mimagedir\u001b[0m\u001b[0;34m,\u001b[0m \u001b[0mlabeldir\u001b[0m\u001b[0;34m,\u001b[0m \u001b[0mname\u001b[0m\u001b[0;34m)\u001b[0m\u001b[0;34m\u001b[0m\u001b[0;34m\u001b[0m\u001b[0m\n\u001b[0m\u001b[1;32m     27\u001b[0m \u001b[0;34m\u001b[0m\u001b[0m\n",
      "\u001b[0;31mNameError\u001b[0m: name 'imagedir' is not defined"
     ]
    }
   ],
   "source": [
    "Raw_path = os.path.join(ImageDir, '*tif')\n",
    "filesRaw = glob.glob(Raw_path)\n",
    "filesRaw.sort\n",
    "\n",
    "\n",
    "RealRaw_path = os.path.join(LabelDir, '*tif')\n",
    "RealfilesRaw = glob.glob(RealRaw_path)\n",
    "RealfilesRaw.sort\n",
    "mu = 0\n",
    "sigma = 5\n",
    "for fname in filesRaw:\n",
    "\n",
    "\n",
    "           for Realfname in RealfilesRaw:\n",
    "\n",
    "                  name = os.path.basename(os.path.splitext(fname)[0])\n",
    "                  realname = os.path.basename(os.path.splitext(Realfname)[0])\n",
    "\n",
    "                  if ( name == realname): \n",
    "\n",
    "                            #Read image        \n",
    "                            image = imread(fname)\n",
    "                            y = imread(Realfname)\n",
    "                            #Get Name\n",
    "                            x = image\n",
    "                            crappify_flou_G_P(x, y, mu, sigma, ImageDir, LabelDir, name)\n",
    "                           "
   ]
  },
  {
   "cell_type": "code",
   "execution_count": null,
   "metadata": {},
   "outputs": [],
   "source": []
  }
 ],
 "metadata": {
  "kernelspec": {
   "display_name": "Python [conda env:tensorflowGPU] *",
   "language": "python",
   "name": "conda-env-tensorflowGPU-py"
  },
  "language_info": {
   "codemirror_mode": {
    "name": "ipython",
    "version": 3
   },
   "file_extension": ".py",
   "mimetype": "text/x-python",
   "name": "python",
   "nbconvert_exporter": "python",
   "pygments_lexer": "ipython3",
   "version": "3.7.10"
  }
 },
 "nbformat": 4,
 "nbformat_minor": 4
}
