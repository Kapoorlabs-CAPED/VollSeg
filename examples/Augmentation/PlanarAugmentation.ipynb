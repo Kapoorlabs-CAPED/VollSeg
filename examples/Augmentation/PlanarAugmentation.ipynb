{
 "cells": [
  {
   "cell_type": "code",
   "execution_count": 1,
   "metadata": {},
   "outputs": [
    {
     "name": "stdout",
     "output_type": "stream",
     "text": [
      "PyDIPjavaio unavailable:\n",
      "DLL load failed while importing PyDIPjavaio: The specified module could not be found.\n",
      "\n",
      "libjvm not found\n",
      "DIPlib -- a quantitative image analysis library\n",
      "Version 3.1.0 (Sep 24 2021)\n",
      "For more information see https://diplib.org\n"
     ]
    }
   ],
   "source": [
    "import os\n",
    "import glob\n",
    "from tifffile import imread, imwrite\n",
    "from vollseg import Augmentation2D\n",
    "from pathlib import Path\n",
    "import numpy as np\n",
    "from scipy.ndimage import gaussian_filter"
   ]
  },
  {
   "cell_type": "markdown",
   "metadata": {},
   "source": [
    "# The size of the images in the directory should be the same else concatenation of arrays would nto work"
   ]
  },
  {
   "cell_type": "markdown",
   "metadata": {},
   "source": [
    "In the cell below we duplicate the image pixels in XY to a desired size for creating optimal training patch"
   ]
  },
  {
   "cell_type": "code",
   "execution_count": 2,
   "metadata": {},
   "outputs": [],
   "source": [
    "ImageDir =  '/Users/rando/Downloads/TrainingDatasets/Human_breast_cells/Raw/'\n",
    "LabelDir = '/Users/rando/Downloads/TrainingDatasets/Human_breast_cells/BinaryMask/'\n",
    "\n",
    "Aug_image_dir =  '/Users/rando/Downloads/TrainingDatasets/Human_breast_cells/AugRaw/'\n",
    "Aug_label_dir = '/Users/rando/Downloads/TrainingDatasets/Human_breast_cells/AugBinaryMask/'\n",
    "\n",
    "Path(Aug_image_dir).mkdir(exist_ok=True)\n",
    "Path(Aug_label_dir).mkdir(exist_ok=True)\n"
   ]
  },
  {
   "cell_type": "markdown",
   "metadata": {},
   "source": [
    "All the parameters that would be needed are provided in the cell below"
   ]
  },
  {
   "cell_type": "code",
   "execution_count": 3,
   "metadata": {},
   "outputs": [],
   "source": [
    "#All choices below are optional\n",
    "size = [800,800]\n",
    "gauss_filter_size = 0\n",
    "#choices for augmentation below are 1 or 2 or both or None\n",
    "flip_axis= (1,2)\n",
    "shift_axis= (1,2)\n",
    "zoom_axis= (1,2)\n",
    "#shift range can be between -1 and 1, zoom range > 0\n",
    "shift_range= (-1,1)\n",
    "zoom_range= 2\n",
    "rotate_axis= (1,2)\n",
    "rotate_angle='random' \n",
    "#if zero padding also neds to be done\n",
    "size_zero = [1000,1000]"
   ]
  },
  {
   "cell_type": "code",
   "execution_count": 4,
   "metadata": {},
   "outputs": [],
   "source": [
    "Raw_path = os.path.join(ImageDir, '*tif')\n",
    "filesRaw = glob.glob(Raw_path)\n",
    "filesRaw.sort\n",
    "\n",
    "Label_path = os.path.join(LabelDir, '*tif')\n",
    "filesLabel = glob.glob(Label_path)\n",
    "filesLabel.sort\n",
    "\n",
    "Data = []\n",
    "Label = []\n",
    "for fname in filesRaw:\n",
    "\n",
    "    for secondfname in filesLabel:\n",
    "\n",
    "        Name = os.path.basename(os.path.splitext(fname)[0])\n",
    "        LabelName = os.path.basename(os.path.splitext(secondfname)[0])\n",
    "        if Name == LabelName:\n",
    "            image = imread(fname)\n",
    "            if image.shape == (38,512,512):\n",
    "                Data.append(image[11,:,:])\n",
    "                labelimage = gaussian_filter(imread(secondfname), gauss_filter_size)\n",
    "                Label.append(labelimage[11,:,:])   \n",
    "            \n",
    "Data = np.asarray(Data)\n",
    "Label = np.asarray(Label)"
   ]
  },
  {
   "cell_type": "markdown",
   "metadata": {},
   "source": [
    "First perform the extend pixels to a certain size and zero padding operations"
   ]
  },
  {
   "cell_type": "code",
   "execution_count": 5,
   "metadata": {},
   "outputs": [],
   "source": [
    "extend_pixels = Augmentation2D(size=size)\n",
    "aug_extend_pixels = extend_pixels.build(data=Data, label=Label, batch_size = Data.shape[0])\n",
    "aug_extend_pixels_pair = np.asarray(next(aug_extend_pixels))\n",
    "count = 0\n",
    "for i in range(0, aug_extend_pixels_pair.shape[1]):\n",
    "     Name = 'aug_extend_pixels' + str(count)\n",
    "     imwrite(Aug_image_dir + '/' + Name + '.tif', aug_extend_pixels_pair[0,i,:,:].astype('float32'))\n",
    "     imwrite(Aug_label_dir + '/' + Name + '.tif', aug_extend_pixels_pair[1,i,:,:].astype('uint16'))\n",
    "     count = count + 1   "
   ]
  },
  {
   "cell_type": "code",
   "execution_count": 6,
   "metadata": {},
   "outputs": [],
   "source": [
    "embed_pixels = Augmentation2D(size_zero=size_zero)\n",
    "aug_embed_pixels = embed_pixels.build(data=Data, label=Label, batch_size = Data.shape[0])\n",
    "aug_embed_pixels_pair = np.asarray(next(aug_embed_pixels))\n",
    "count = 0\n",
    "for i in range(0, aug_embed_pixels_pair.shape[1]):\n",
    "     Name = 'aug_embed_pixels' + str(count)\n",
    "     imwrite(Aug_image_dir + '/' + Name + '.tif', aug_embed_pixels_pair[0,i,:,:].astype('float32'))\n",
    "     imwrite(Aug_label_dir + '/' + Name + '.tif', aug_embed_pixels_pair[1,i,:,:].astype('uint16'))\n",
    "     count = count + 1   "
   ]
  }
 ],
 "metadata": {
  "kernelspec": {
   "display_name": "Python 3 (ipykernel)",
   "language": "python",
   "name": "python3"
  },
  "language_info": {
   "codemirror_mode": {
    "name": "ipython",
    "version": 3
   },
   "file_extension": ".py",
   "mimetype": "text/x-python",
   "name": "python",
   "nbconvert_exporter": "python",
   "pygments_lexer": "ipython3",
   "version": "3.9.0"
  }
 },
 "nbformat": 4,
 "nbformat_minor": 4
}
