{
 "cells": [
  {
   "cell_type": "code",
   "execution_count": 1,
   "metadata": {},
   "outputs": [
    {
     "ename": "ImportError",
     "evalue": "cannot import name 'Augmentation2D' from 'vollseg' (/home/sancere/anaconda3/envs/tensorflowGPU/lib/python3.7/site-packages/vollseg/__init__.py)",
     "output_type": "error",
     "traceback": [
      "\u001b[0;31m---------------------------------------------------------------------------\u001b[0m",
      "\u001b[0;31mImportError\u001b[0m                               Traceback (most recent call last)",
      "\u001b[0;32m/tmp/ipykernel_36267/299490580.py\u001b[0m in \u001b[0;36m<module>\u001b[0;34m\u001b[0m\n\u001b[1;32m      6\u001b[0m \u001b[0;32mimport\u001b[0m \u001b[0mnumpy\u001b[0m \u001b[0;32mas\u001b[0m \u001b[0mnp\u001b[0m\u001b[0;34m\u001b[0m\u001b[0;34m\u001b[0m\u001b[0m\n\u001b[1;32m      7\u001b[0m \u001b[0;32mfrom\u001b[0m \u001b[0mtqdm\u001b[0m \u001b[0;32mimport\u001b[0m \u001b[0mtqdm\u001b[0m\u001b[0;34m\u001b[0m\u001b[0;34m\u001b[0m\u001b[0m\n\u001b[0;32m----> 8\u001b[0;31m \u001b[0;32mfrom\u001b[0m \u001b[0mvollseg\u001b[0m \u001b[0;32mimport\u001b[0m \u001b[0mAugmentation2D\u001b[0m\u001b[0;34m\u001b[0m\u001b[0;34m\u001b[0m\u001b[0m\n\u001b[0m\u001b[1;32m      9\u001b[0m \u001b[0;32mfrom\u001b[0m \u001b[0mvollseg\u001b[0m\u001b[0;34m.\u001b[0m\u001b[0mhelpers\u001b[0m \u001b[0;32mimport\u001b[0m \u001b[0mcrappify_flou_G_P\u001b[0m\u001b[0;34m\u001b[0m\u001b[0;34m\u001b[0m\u001b[0m\n\u001b[1;32m     10\u001b[0m \u001b[0;32mfrom\u001b[0m \u001b[0mpathlib\u001b[0m \u001b[0;32mimport\u001b[0m \u001b[0mPath\u001b[0m\u001b[0;34m\u001b[0m\u001b[0;34m\u001b[0m\u001b[0m\n",
      "\u001b[0;31mImportError\u001b[0m: cannot import name 'Augmentation2D' from 'vollseg' (/home/sancere/anaconda3/envs/tensorflowGPU/lib/python3.7/site-packages/vollseg/__init__.py)"
     ]
    }
   ],
   "source": [
    "\n",
    "import os\n",
    "import glob\n",
    "import sys\n",
    "sys.path.append('../../')\n",
    "from tifffile import imread, imwrite\n",
    "import numpy as np\n",
    "from tqdm import tqdm\n",
    "from vollseg import Augmentation2D\n",
    "from vollseg.helpers import crappify_flou_G_P\n",
    "from pathlib import Path"
   ]
  },
  {
   "cell_type": "code",
   "execution_count": null,
   "metadata": {},
   "outputs": [],
   "source": [
    "ImageDir =  '/home/sancere/VKepler/CurieTrainingDatasets/Raw/'\n",
    "LabelDir = '/home/sancere/VKepler/CurieTrainingDatasets/RealMask/'\n",
    "\n"
   ]
  },
  {
   "cell_type": "code",
   "execution_count": null,
   "metadata": {},
   "outputs": [],
   "source": [
    "Raw_path = os.path.join(imagedir, '*tif')\n",
    "filesRaw = glob.glob(Raw_path)\n",
    "filesRaw.sort\n",
    "\n",
    "\n",
    "RealRaw_path = os.path.join(LabelDir, '*tif')\n",
    "RealfilesRaw = glob.glob(RealRaw_path)\n",
    "RealfilesRaw.sort\n",
    "mu = 0\n",
    "sigma = 5\n",
    "for fname in filesRaw:\n",
    "\n",
    "\n",
    "           for Realfname in RealfilesRaw:\n",
    "\n",
    "                  name = os.path.basename(os.path.splitext(fname)[0])\n",
    "                  realname = os.path.basename(os.path.splitext(Realfname)[0])\n",
    "\n",
    "                  if ( name == realname): \n",
    "\n",
    "                            #Read image        \n",
    "                            image = imread(fname)\n",
    "                            y = imread(Realfname)\n",
    "                            #Get Name\n",
    "                            x = image\n",
    "                            crappify_flou_G_P(x, y, mu, sigma, imagedir, labeldir, name)\n",
    "                           "
   ]
  },
  {
   "cell_type": "code",
   "execution_count": null,
   "metadata": {},
   "outputs": [],
   "source": []
  }
 ],
 "metadata": {
  "kernelspec": {
   "display_name": "Python [conda env:tensorflowGPU] *",
   "language": "python",
   "name": "conda-env-tensorflowGPU-py"
  },
  "language_info": {
   "codemirror_mode": {
    "name": "ipython",
    "version": 3
   },
   "file_extension": ".py",
   "mimetype": "text/x-python",
   "name": "python",
   "nbconvert_exporter": "python",
   "pygments_lexer": "ipython3",
   "version": "3.7.10"
  }
 },
 "nbformat": 4,
 "nbformat_minor": 4
}
