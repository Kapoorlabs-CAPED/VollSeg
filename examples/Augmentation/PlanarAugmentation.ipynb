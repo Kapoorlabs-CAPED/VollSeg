{
 "cells": [
  {
   "cell_type": "code",
   "execution_count": 13,
   "metadata": {},
   "outputs": [],
   "source": [
    "\n",
    "import os\n",
    "import glob\n",
    "import sys\n",
    "sys.path.append('../../')\n",
    "from tifffile import imread, imwrite\n",
    "import numpy as np\n",
    "from tqdm import tqdm\n",
    "from vollseg import Augmentation2D\n",
    "from vollseg.helpers import crappify_flou_G_P\n",
    "from pathlib import Path\n",
    "from scipy.ndimage import gaussian_filter"
   ]
  },
  {
   "cell_type": "code",
   "execution_count": 22,
   "metadata": {},
   "outputs": [],
   "source": [
    "ImageDir =  '/Users/rando/Downloads/Kymo/Raw/'\n",
    "LabelDir = '/Users/rando/Downloads/Kymo/BinaryMask/'\n",
    "\n",
    "ResizeImageDir =  '/Users/rando/Downloads/Kymo/ResizeRaw/'\n",
    "ResizeLabelDir = '/Users/rando/Downloads/Kymo/ResizeBinaryMask_2/'\n",
    "\n",
    "Path(ResizeImageDir).mkdir(exist_ok=True)\n",
    "Path(ResizeLabelDir).mkdir(exist_ok=True)\n",
    "def Resizer2D(image, SizeX, SizeY):\n",
    "    \n",
    "    ResizeImage = np.zeros([SizeY, SizeX])\n",
    "    j = 0\n",
    "    for i in range(0, ResizeImage.shape[1]):\n",
    "        \n",
    "        if j < image.shape[1]:\n",
    "           ResizeImage[:image.shape[0],i] = image[:image.shape[0],j]\n",
    "           j = j + 1\n",
    "        else:\n",
    "            j = 0   \n",
    "        \n",
    "\n",
    "\n",
    "    j = 0\n",
    "    for i in range(0, ResizeImage.shape[0]):\n",
    "        \n",
    "        if j < image.shape[0]:\n",
    "           ResizeImage[i,:] = ResizeImage[j,:]\n",
    "           j = j + 1\n",
    "        else:\n",
    "            j = 0  \n",
    "    \n",
    "\n",
    "    return ResizeImage"
   ]
  },
  {
   "cell_type": "code",
   "execution_count": 23,
   "metadata": {},
   "outputs": [],
   "source": [
    "Raw_path = os.path.join(ImageDir, '*tif')\n",
    "filesRaw = glob.glob(Raw_path)\n",
    "filesRaw.sort\n",
    "\n",
    "\n",
    "RealRaw_path = os.path.join(LabelDir, '*tif')\n",
    "RealfilesRaw = glob.glob(RealRaw_path)\n",
    "RealfilesRaw.sort\n",
    "Size = [400,400]\n",
    "SizeY = Size[0]\n",
    "SizeX = Size[0]\n",
    "for fname in filesRaw:\n",
    "\n",
    "\n",
    "           for Realfname in RealfilesRaw:\n",
    "\n",
    "                  name = os.path.basename(os.path.splitext(fname)[0])\n",
    "                  realname = os.path.basename(os.path.splitext(Realfname)[0])\n",
    "\n",
    "                  if ( name == realname): \n",
    "\n",
    "                            #Read image        \n",
    "                            Image = imread(fname)\n",
    "                            MaskImage = imread(Realfname)\n",
    "                            \n",
    "                            ResizeImage = Resizer2D(Image, SizeX, SizeY)\n",
    "                            ResizeMask = Resizer2D(MaskImage, SizeX, SizeY)\n",
    "\n",
    "                            imwrite(ResizeImageDir + '/' + name + '.tif', ResizeImage.astype('float32'))\n",
    "                            imwrite(ResizeLabelDir + '/' + name + '.tif', ResizeMask.astype('uint16'))\n"
   ]
  },
  {
   "cell_type": "code",
   "execution_count": 24,
   "metadata": {},
   "outputs": [],
   "source": [
    "RealRaw_path = os.path.join(ResizeLabelDir, '*tif')\n",
    "RealfilesRaw = glob.glob(RealRaw_path)\n",
    "RealfilesRaw.sort\n",
    "for Realfname in RealfilesRaw:\n",
    "    \n",
    "      realname = os.path.basename(os.path.splitext(Realfname)[0])\n",
    "      MaskImage = gaussian_filter(imread(Realfname),1)\n",
    "      imwrite(ResizeLabelDir + '/' + realname + '.tif', MaskImage.astype('uint16'))\n",
    "      "
   ]
  },
  {
   "cell_type": "code",
   "execution_count": null,
   "metadata": {},
   "outputs": [],
   "source": []
  }
 ],
 "metadata": {
  "kernelspec": {
   "display_name": "Python 3 (ipykernel)",
   "language": "python",
   "name": "python3"
  },
  "language_info": {
   "codemirror_mode": {
    "name": "ipython",
    "version": 3
   },
   "file_extension": ".py",
   "mimetype": "text/x-python",
   "name": "python",
   "nbconvert_exporter": "python",
   "pygments_lexer": "ipython3",
   "version": "3.9.0"
  }
 },
 "nbformat": 4,
 "nbformat_minor": 4
}
