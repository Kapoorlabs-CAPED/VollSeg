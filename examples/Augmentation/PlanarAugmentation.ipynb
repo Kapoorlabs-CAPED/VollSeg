{
 "cells": [
  {
   "cell_type": "code",
   "execution_count": null,
   "metadata": {},
   "outputs": [],
   "source": [
    "import os\n",
    "import glob\n",
    "from tifffile import imread, imwrite\n",
    "from vollseg import Augmentation2D\n",
    "from pathlib import Path\n",
    "import numpy as np\n",
    "from scipy.ndimage import gaussian_filter"
   ]
  },
  {
   "cell_type": "markdown",
   "metadata": {},
   "source": [
    "# The size of the images in the directory should be the same else concatenation of arrays would not work"
   ]
  },
  {
   "cell_type": "markdown",
   "metadata": {},
   "source": [
    "In the cell below we duplicate the image pixels in XY to a desired size for creating optimal training patch"
   ]
  },
  {
   "cell_type": "code",
   "execution_count": null,
   "metadata": {},
   "outputs": [],
   "source": [
    "image_dir =  '/raw_dir/'\n",
    "label_dir = '/label_dir/'\n",
    "\n",
    "Aug_image_dir =  '/aug_raw_dir/'\n",
    "Aug_label_dir = '/aug_label_dir/'\n",
    "\n",
    "Path(Aug_image_dir).mkdir(exist_ok=True)\n",
    "Path(Aug_label_dir).mkdir(exist_ok=True)\n"
   ]
  },
  {
   "cell_type": "markdown",
   "metadata": {},
   "source": [
    "All the parameters that would be needed are provided in the cell below"
   ]
  },
  {
   "cell_type": "code",
   "execution_count": null,
   "metadata": {},
   "outputs": [],
   "source": [
    "#All choices below are optional\n",
    "size = [800,800]\n",
    "gauss_filter_size = 0\n",
    "#choices for augmentation below are 1 or 2 or None\n",
    "flip_axis= 1\n",
    "shift_axis= 1\n",
    "zoom_axis= 1\n",
    "#shift range can be between -1 and 1 (-1 and 1 will translate the pixels completely out), zoom range > 0\n",
    "shift_range= 0.2 \n",
    "zoom_range= 2\n",
    "rotate_axis= 1\n",
    "rotate_angle= 'random'\n",
    "#if zero padding also needs to be done\n",
    "size_zero = [1000,1000]\n",
    "#Add poisson noise to data with mu\n",
    "mu = 5"
   ]
  },
  {
   "cell_type": "code",
   "execution_count": null,
   "metadata": {},
   "outputs": [],
   "source": [
    "Raw_path = os.path.join(image_dir, '*tif')\n",
    "filesRaw = glob.glob(Raw_path)\n",
    "filesRaw.sort\n",
    "\n",
    "Label_path = os.path.join(label_dir, '*tif')\n",
    "filesLabel = glob.glob(Label_path)\n",
    "filesLabel.sort\n",
    "\n",
    "Data = []\n",
    "Label = []\n",
    "for fname in filesRaw:\n",
    "\n",
    "    for secondfname in filesLabel:\n",
    "\n",
    "        Name = os.path.basename(os.path.splitext(fname)[0])\n",
    "        LabelName = os.path.basename(os.path.splitext(secondfname)[0])\n",
    "        if Name == LabelName:\n",
    "                image = imread(fname)\n",
    "                Data.append(image)\n",
    "                labelimage = gaussian_filter(imread(secondfname), gauss_filter_size)\n",
    "                Label.append(labelimage)   \n",
    "            \n",
    "Data = np.asarray(Data)\n",
    "Label = np.asarray(Label)\n"
   ]
  },
  {
   "cell_type": "markdown",
   "metadata": {},
   "source": [
    "First perform the extend pixels to a certain size and zero padding operations"
   ]
  },
  {
   "cell_type": "code",
   "execution_count": null,
   "metadata": {},
   "outputs": [],
   "source": [
    "extend_pixels = Augmentation2D(size=size)\n",
    "aug_extend_pixels = extend_pixels.build(data=Data, label=Label, batch_size = Data.shape[0])\n",
    "aug_extend_pixels_pair = np.asarray(next(aug_extend_pixels))\n",
    "count = 0\n",
    "for i in range(0, aug_extend_pixels_pair.shape[1]):\n",
    "     Name = 'aug_extend_pixels' + str(count)\n",
    "     imwrite(Aug_image_dir + '/' + Name + '.tif', aug_extend_pixels_pair[0,i,:,:].astype('float32'))\n",
    "     imwrite(Aug_label_dir + '/' + Name + '.tif', aug_extend_pixels_pair[1,i,:,:].astype('uint16'))\n",
    "     count = count + 1   "
   ]
  },
  {
   "cell_type": "code",
   "execution_count": null,
   "metadata": {},
   "outputs": [],
   "source": [
    "embed_pixels = Augmentation2D(size_zero=size_zero)\n",
    "aug_embed_pixels = embed_pixels.build(data=Data, label=Label, batch_size = Data.shape[0])\n",
    "aug_embed_pixels_pair = np.asarray(next(aug_embed_pixels))\n",
    "count = 0\n",
    "for i in range(0, aug_embed_pixels_pair.shape[1]):\n",
    "     Name = 'aug_embed_pixels' + str(count)\n",
    "     imwrite(Aug_image_dir + '/' + Name + '.tif', aug_embed_pixels_pair[0,i,:,:].astype('float32'))\n",
    "     imwrite(Aug_label_dir + '/' + Name + '.tif', aug_embed_pixels_pair[1,i,:,:].astype('uint16'))\n",
    "     count = count + 1   "
   ]
  },
  {
   "cell_type": "markdown",
   "metadata": {},
   "source": [
    "Now we can perform rotations, flips"
   ]
  },
  {
   "cell_type": "code",
   "execution_count": null,
   "metadata": {},
   "outputs": [],
   "source": [
    "rotate_pixels = Augmentation2D(rotate_axis = rotate_axis, rotate_angle = rotate_angle)\n",
    "aug_rotate_pixels = rotate_pixels.build(data=Data, label=Label, batch_size = Data.shape[0])\n",
    "aug_rotate_pixels_pair = np.asarray(next(aug_rotate_pixels))\n",
    "count = 0\n",
    "for i in range(0, aug_rotate_pixels_pair.shape[1]):\n",
    "     Name = 'rotate_pixels' + str(count)\n",
    "     imwrite(Aug_image_dir + '/' + Name + '.tif', aug_rotate_pixels_pair[0,i,:,:].astype('float32'))\n",
    "     imwrite(Aug_label_dir + '/' + Name + '.tif', aug_rotate_pixels_pair[1,i,:,:].astype('uint16'))\n",
    "     count = count + 1   "
   ]
  },
  {
   "cell_type": "code",
   "execution_count": null,
   "metadata": {},
   "outputs": [],
   "source": [
    "flip_pixels = Augmentation2D(flip_axis = flip_axis)\n",
    "aug_flip_pixels = flip_pixels.build(data=Data, label=Label, batch_size = Data.shape[0])\n",
    "aug_flip_pixels_pair = np.asarray(next(aug_flip_pixels))\n",
    "count = 0\n",
    "for i in range(0, aug_flip_pixels_pair.shape[1]):\n",
    "     Name = 'aug_flip_pixels' + str(count)\n",
    "     imwrite(Aug_image_dir + '/' + Name + '.tif', aug_flip_pixels_pair[0,i,:,:].astype('float32'))\n",
    "     imwrite(Aug_label_dir + '/' + Name + '.tif', aug_flip_pixels_pair[1,i,:,:].astype('uint16'))\n",
    "     count = count + 1   "
   ]
  },
  {
   "cell_type": "markdown",
   "metadata": {},
   "source": [
    "Then Zoom and Shift augmentation"
   ]
  },
  {
   "cell_type": "code",
   "execution_count": null,
   "metadata": {},
   "outputs": [],
   "source": [
    "zoom_pixels = Augmentation2D(zoom_axis = zoom_axis, zoom_range = zoom_range)\n",
    "aug_zoom_pixels = zoom_pixels.build(data=Data, label=Label, batch_size = Data.shape[0])\n",
    "aug_zoom_pixels_pair = np.asarray(next(aug_zoom_pixels))\n",
    "count = 0\n",
    "for i in range(0, aug_zoom_pixels_pair.shape[1]):\n",
    "     Name = 'aug_zoom_pixels' + str(count)\n",
    "     imwrite(Aug_image_dir + '/' + Name + '.tif', aug_zoom_pixels_pair[0,i,:,:].astype('float32'))\n",
    "     imwrite(Aug_label_dir + '/' + Name + '.tif', aug_zoom_pixels_pair[1,i,:,:].astype('uint16'))\n",
    "     count = count + 1   "
   ]
  },
  {
   "cell_type": "code",
   "execution_count": null,
   "metadata": {},
   "outputs": [],
   "source": [
    "shift_pixels = Augmentation2D(shift_axis = shift_axis, shift_range = shift_range)\n",
    "aug_shift_pixels = shift_pixels.build(data=Data, label=Label, batch_size = Data.shape[0])\n",
    "aug_shift_pixels_pair = np.asarray(next(aug_shift_pixels))\n",
    "count = 0\n",
    "for i in range(0, aug_shift_pixels_pair.shape[1]):\n",
    "     Name = 'aug_shift_pixels' + str(count)\n",
    "     imwrite(Aug_image_dir + '/' + Name + '.tif', aug_shift_pixels_pair[0,i,:,:].astype('float32'))\n",
    "     imwrite(Aug_label_dir + '/' + Name + '.tif', aug_shift_pixels_pair[1,i,:,:].astype('uint16'))\n",
    "     count = count + 1   "
   ]
  },
  {
   "cell_type": "markdown",
   "metadata": {},
   "source": [
    "Finally add noise to all the data generated so far"
   ]
  },
  {
   "cell_type": "code",
   "execution_count": null,
   "metadata": {},
   "outputs": [],
   "source": [
    "Raw_path = os.path.join(Aug_image_dir, '*tif')\n",
    "filesRaw = glob.glob(Raw_path)\n",
    "filesRaw.sort\n",
    "\n",
    "Label_path = os.path.join(Aug_label_dir, '*tif')\n",
    "filesLabel = glob.glob(Label_path)\n",
    "filesLabel.sort\n",
    "\n",
    "Data = []\n",
    "Label = []\n",
    "for fname in filesRaw:\n",
    "    \n",
    "    for secondfname in filesLabel:\n",
    "\n",
    "        Name = os.path.basename(os.path.splitext(fname)[0])\n",
    "        LabelName = os.path.basename(os.path.splitext(secondfname)[0])\n",
    "        if Name == LabelName:\n",
    "                image = imread(fname)\n",
    "                Data.append(image)\n",
    "                labelimage = imread(secondfname)\n",
    "                Label.append(labelimage)   \n",
    "            \n",
    "Data = np.asarray(Data)\n",
    "Label = np.asarray(Label)\n"
   ]
  },
  {
   "cell_type": "code",
   "execution_count": null,
   "metadata": {},
   "outputs": [],
   "source": [
    "noise_pixels = Augmentation2D(mu = mu)\n",
    "aug_noise_pixels = noise_pixels.build(data=Data, label=Label, batch_size = Data.shape[0])\n",
    "aug_noise_pixels_pair = np.asarray(next(aug_noise_pixels))\n",
    "count = 0\n",
    "for i in range(0, aug_noise_pixels_pair.shape[1]):\n",
    "     Name = 'aug_noise_pixels' + str(count)\n",
    "     imwrite(Aug_image_dir + '/' + Name + '.tif', aug_noise_pixels_pair[0,i,:,:].astype('float32'))\n",
    "     imwrite(Aug_label_dir + '/' + Name + '.tif', aug_noise_pixels_pair[1,i,:,:].astype('uint16'))\n",
    "     count = count + 1   "
   ]
  }
 ],
 "metadata": {
  "kernelspec": {
   "display_name": "Python 3 (ipykernel)",
   "language": "python",
   "name": "python3"
  },
  "language_info": {
   "codemirror_mode": {
    "name": "ipython",
    "version": 3
   },
   "file_extension": ".py",
   "mimetype": "text/x-python",
   "name": "python",
   "nbconvert_exporter": "python",
   "pygments_lexer": "ipython3",
   "version": "3.9.0"
  }
 },
 "nbformat": 4,
 "nbformat_minor": 4
}
