{
 "cells": [
  {
   "cell_type": "code",
   "execution_count": null,
   "metadata": {
    "colab": {
     "base_uri": "https://localhost:8080/"
    },
    "executionInfo": {
     "elapsed": 1888,
     "status": "ok",
     "timestamp": 1621797332907,
     "user": {
      "displayName": "Varun Kapoor",
      "photoUrl": "https://lh3.googleusercontent.com/a-/AOh14GiqCnniCLExJES-Fu4_UKVqnr_f5QvFwiYQbkxVIYk=s64",
      "userId": "00394081441130681785"
     },
     "user_tz": -120
    },
    "id": "o8WrUuZChPZe",
    "outputId": "c7edfbae-3725-4d8f-c097-e0a4c8a337e1"
   },
   "outputs": [],
   "source": [
    "from google.colab import drive\n",
    "drive.mount('/content/drive', force_remount = True)\n",
    "%tensorflow_version 2.x"
   ]
  },
  {
   "cell_type": "code",
   "execution_count": null,
   "metadata": {
    "colab": {
     "base_uri": "https://localhost:8080/"
    },
    "executionInfo": {
     "elapsed": 8572,
     "status": "ok",
     "timestamp": 1621797341476,
     "user": {
      "displayName": "Varun Kapoor",
      "photoUrl": "https://lh3.googleusercontent.com/a-/AOh14GiqCnniCLExJES-Fu4_UKVqnr_f5QvFwiYQbkxVIYk=s64",
      "userId": "00394081441130681785"
     },
     "user_tz": -120
    },
    "id": "MuWFMg8-hPZg",
    "outputId": "e5db8f6b-063b-4803-8685-549a47dc4789"
   },
   "outputs": [],
   "source": [
    "!pip install tiffile\n",
    "!pip install gputools\n",
    "!pip install imagecodecs\n",
    "!pip install vollseg\n",
    "!pip install napari[all]"
   ]
  },
  {
   "cell_type": "code",
   "execution_count": null,
   "metadata": {
    "colab": {
     "base_uri": "https://localhost:8080/"
    },
    "executionInfo": {
     "elapsed": 2677,
     "status": "ok",
     "timestamp": 1621797344141,
     "user": {
      "displayName": "Varun Kapoor",
      "photoUrl": "https://lh3.googleusercontent.com/a-/AOh14GiqCnniCLExJES-Fu4_UKVqnr_f5QvFwiYQbkxVIYk=s64",
      "userId": "00394081441130681785"
     },
     "user_tz": -120
    },
    "id": "eNKAD9UkhPZh",
    "outputId": "309c2a90-485b-45e3-d4ae-d815efd18b4b"
   },
   "outputs": [],
   "source": [
    "%cd '/content/drive/My Drive/VollSeg/'\n",
    "import os\n",
    "import glob\n",
    "import sys\n",
    "import numpy as np\n",
    "from tqdm import tqdm\n",
    "from tifffile import imread, imwrite\n",
    "from pathlib import Path\n",
    "from vollseg import SmartSeeds3D"
   ]
  },
  {
   "cell_type": "markdown",
   "metadata": {
    "id": "Z5yD4cofhPZh"
   },
   "source": [
    "# In the cell below specify the following:\n",
    "\n"
   ]
  },
  {
   "cell_type": "code",
   "execution_count": null,
   "metadata": {
    "executionInfo": {
     "elapsed": 15,
     "status": "ok",
     "timestamp": 1621797344147,
     "user": {
      "displayName": "Varun Kapoor",
      "photoUrl": "https://lh3.googleusercontent.com/a-/AOh14GiqCnniCLExJES-Fu4_UKVqnr_f5QvFwiYQbkxVIYk=s64",
      "userId": "00394081441130681785"
     },
     "user_tz": -120
    },
    "id": "Vri8MgwShPZh"
   },
   "outputs": [],
   "source": [
    "base_dir = '/content/drive/My Drive/data/'\n",
    "npz_filename = 'VolumeSeg'\n",
    "model_dir = '/content/drive/My Drive/data/'\n",
    "model_name = 'VolumeSeg'\n",
    "\n",
    "raw_dir = 'Raw/'\n",
    "real_mask_dir = 'real_mask/' \n",
    "binary_mask_dir = 'binary_mask/'\n",
    "val_raw_dir = 'val_raw/'\n",
    "val_real_mask_dir = 'val_real_mask/'\n"
   ]
  },
  {
   "cell_type": "markdown",
   "metadata": {
    "id": "NqnKEJlUhPZi"
   },
   "source": [
    "# In this cell choose the network training parameters for the Neural Network\n",
    "\n"
   ]
  },
  {
   "cell_type": "code",
   "execution_count": null,
   "metadata": {
    "executionInfo": {
     "elapsed": 15,
     "status": "ok",
     "timestamp": 1621797344148,
     "user": {
      "displayName": "Varun Kapoor",
      "photoUrl": "https://lh3.googleusercontent.com/a-/AOh14GiqCnniCLExJES-Fu4_UKVqnr_f5QvFwiYQbkxVIYk=s64",
      "userId": "00394081441130681785"
     },
     "user_tz": -120
    },
    "id": "Sh-WQOu7hPZi"
   },
   "outputs": [],
   "source": [
    "#Network training parameters\n",
    "depth = 3\n",
    "epochs = 100\n",
    "learning_rate = 1.0E-4\n",
    "batch_size = 1\n",
    "patch_x = 128\n",
    "patch_y = 128\n",
    "patch_z = 16\n",
    "grid_x = 1\n",
    "grid_y = 1\n",
    "kern_size = 3\n",
    "n_patches_per_image = 16\n",
    "n_rays = 128\n",
    "startfilter = 48\n",
    "use_gpu_opencl = True\n",
    "generate_npz = True\n",
    "backbone = 'resnet'\n",
    "load_data_sequence = True\n",
    "validation_split = 0.01\n",
    "n_channel_in = 1\n",
    "train_unet = True\n",
    "train_star = True"
   ]
  },
  {
   "cell_type": "markdown",
   "metadata": {
    "id": "9I_dFcgGhPZi"
   },
   "source": [
    "# Generate the npz file first and then train the model"
   ]
  },
  {
   "cell_type": "code",
   "execution_count": null,
   "metadata": {
    "colab": {
     "base_uri": "https://localhost:8080/"
    },
    "executionInfo": {
     "elapsed": 16,
     "status": "ok",
     "timestamp": 1621797344149,
     "user": {
      "displayName": "Varun Kapoor",
      "photoUrl": "https://lh3.googleusercontent.com/a-/AOh14GiqCnniCLExJES-Fu4_UKVqnr_f5QvFwiYQbkxVIYk=s64",
      "userId": "00394081441130681785"
     },
     "user_tz": -120
    },
    "id": "Fl1YOvTjhPZj",
    "outputId": "250147ad-751b-4819-fb93-8c031a629065",
    "scrolled": true
   },
   "outputs": [],
   "source": [
    "\n",
    "SmartSeeds3D(base_dir = base_dir, \n",
    "             npz_filename = npz_filename, \n",
    "             model_name = model_name, \n",
    "             model_dir = model_dir,\n",
    "             raw_dir = raw_dir,\n",
    "             real_mask_dir = real_mask_dir,\n",
    "             binary_mask_dir = binary_mask_dir,\n",
    "             val_raw_dir = val_raw_dir,\n",
    "             val_real_mask_dir = val_real_mask_dir,\n",
    "             n_channel_in = n_channel_in,\n",
    "             backbone = backbone, \n",
    "             load_data_sequence = load_data_sequence, \n",
    "             validation_split = validation_split, \n",
    "             n_patches_per_image = n_patches_per_image, \n",
    "             generate_npz = generate_npz, \n",
    "             train_unet = train_unet, \n",
    "             train_star = train_star, \n",
    "             patch_x= patch_x, \n",
    "             patch_y= patch_y, \n",
    "             patch_z = patch_z,  \n",
    "             grid_x = grid_x,\n",
    "             grid_y = grid_y,\n",
    "             use_gpu = use_gpu_opencl,  \n",
    "             batch_size = batch_size, \n",
    "             depth = depth, \n",
    "             kern_size = kern_size, \n",
    "             startfilter = startfilter, \n",
    "             n_rays = n_rays, \n",
    "             epochs = epochs, \n",
    "             learning_rate = learning_rate)"
   ]
  },
  {
   "cell_type": "code",
   "execution_count": null,
   "metadata": {
    "colab": {
     "base_uri": "https://localhost:8080/",
     "height": 0
    },
    "executionInfo": {
     "elapsed": 5746988,
     "status": "ok",
     "timestamp": 1621803091126,
     "user": {
      "displayName": "Varun Kapoor",
      "photoUrl": "https://lh3.googleusercontent.com/a-/AOh14GiqCnniCLExJES-Fu4_UKVqnr_f5QvFwiYQbkxVIYk=s64",
      "userId": "00394081441130681785"
     },
     "user_tz": -120
    },
    "id": "rj10vic1hPZj",
    "outputId": "5d385308-a865-467f-e923-2bb4a1faaeb8"
   },
   "outputs": [],
   "source": []
  },
  {
   "cell_type": "code",
   "execution_count": null,
   "metadata": {
    "executionInfo": {
     "elapsed": 52,
     "status": "ok",
     "timestamp": 1621803091129,
     "user": {
      "displayName": "Varun Kapoor",
      "photoUrl": "https://lh3.googleusercontent.com/a-/AOh14GiqCnniCLExJES-Fu4_UKVqnr_f5QvFwiYQbkxVIYk=s64",
      "userId": "00394081441130681785"
     },
     "user_tz": -120
    },
    "id": "IRT1VPzqhPZj"
   },
   "outputs": [],
   "source": []
  }
 ],
 "metadata": {
  "accelerator": "GPU",
  "colab": {
   "collapsed_sections": [],
   "machine_shape": "hm",
   "name": "ColabTrainModel.ipynb",
   "provenance": []
  },
  "kernelspec": {
   "display_name": "Python 3 (ipykernel)",
   "language": "python",
   "name": "python3"
  },
  "language_info": {
   "codemirror_mode": {
    "name": "ipython",
    "version": 3
   },
   "file_extension": ".py",
   "mimetype": "text/x-python",
   "name": "python",
   "nbconvert_exporter": "python",
   "pygments_lexer": "ipython3",
   "version": "3.9.7"
  }
 },
 "nbformat": 4,
 "nbformat_minor": 1
}
