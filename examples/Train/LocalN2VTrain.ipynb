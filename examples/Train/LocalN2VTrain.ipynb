{
 "cells": [
  {
   "cell_type": "code",
   "execution_count": null,
   "id": "c100ea19",
   "metadata": {},
   "outputs": [],
   "source": [
    "\n",
    "# We import all our dependencies.\n",
    "from n2v.models import N2VConfig, N2V\n",
    "import numpy as np\n",
    "import os\n",
    "os.environ[\"CUDA_VISIBLE_DEVICES\"]=\"1\"\n",
    "from csbdeep.utils import plot_history,plot_some\n",
    "from n2v.utils.n2v_utils import manipulate_val_data\n",
    "from n2v.internals.N2V_DataGenerator import N2V_DataGenerator\n",
    "from matplotlib import pyplot as plt\n",
    "import urllib\n",
    "import os\n",
    "import zipfile"
   ]
  },
  {
   "cell_type": "code",
   "execution_count": null,
   "id": "cdb8ad77",
   "metadata": {},
   "outputs": [],
   "source": [
    "BaseDir =  '/basedir/'\n",
    "\n",
    "Model_Dir = '/modeldir/'\n",
    "Model_Name = 'modelname'\n",
    "\n",
    "datagen = N2V_DataGenerator()\n",
    "\n",
    "imgs = datagen.load_imgs_from_directory(directory = BaseDir , dims='ZYX')\n"
   ]
  },
  {
   "cell_type": "code",
   "execution_count": null,
   "id": "1e7ee695",
   "metadata": {},
   "outputs": [],
   "source": [
    "\n",
    "patch_shape = (16, 256, 256)\n",
    "Epochs = 200\n",
    "NetworkDepth = 3\n",
    "batch_size = 1\n",
    "patches = datagen.generate_patches_from_list(imgs[:1], shape=patch_shape,num_patches_per_img = 20)\n",
    "X = patches[:-3]\n",
    "X_val = patches[patches.shape[0]-3:]\n",
    "print(X.shape, X_val.shape)\n",
    "# Let's look at two patches.\n"
   ]
  },
  {
   "cell_type": "code",
   "execution_count": null,
   "id": "8e17e667",
   "metadata": {},
   "outputs": [],
   "source": [
    "config = N2VConfig(X, unet_kern_size=3, unet_n_depth = NetworkDepth,\n",
    "                   train_steps_per_epoch=400,train_epochs= Epochs, train_loss='mse', batch_norm=True, \n",
    "                   train_batch_size=batch_size, n2v_perc_pix=0.198,n2v_patch_shape= patch_shape, \n",
    "                   n2v_manipulator='uniform_withCP', n2v_neighborhood_radius=4, train_checkpoint ='weights_now.h5' )\n",
    "\n",
    "# Let's look at the parameters stored in the config-object.\n",
    "\n",
    "model = N2V(config=config, name=Model_Name, basedir=Model_Dir)\n",
    "vars(config)"
   ]
  },
  {
   "cell_type": "code",
   "execution_count": null,
   "id": "c81d3636",
   "metadata": {
    "scrolled": false
   },
   "outputs": [],
   "source": [
    "\n",
    "history = model.train(X, X_val)"
   ]
  },
  {
   "cell_type": "code",
   "execution_count": null,
   "id": "5cf61d8d",
   "metadata": {},
   "outputs": [],
   "source": [
    "print(sorted(list(history.history.keys())))\n",
    "plt.figure(figsize=(16,5))\n",
    "plot_history(history,['loss','val_loss']);"
   ]
  }
 ],
 "metadata": {
  "kernelspec": {
   "display_name": "Python 3 (ipykernel)",
   "language": "python",
   "name": "python3"
  },
  "language_info": {
   "codemirror_mode": {
    "name": "ipython",
    "version": 3
   },
   "file_extension": ".py",
   "mimetype": "text/x-python",
   "name": "python",
   "nbconvert_exporter": "python",
   "pygments_lexer": "ipython3",
   "version": "3.9.7"
  }
 },
 "nbformat": 4,
 "nbformat_minor": 5
}
