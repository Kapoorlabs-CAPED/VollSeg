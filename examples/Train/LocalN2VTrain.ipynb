{
 "cells": [
  {
   "cell_type": "code",
   "execution_count": 1,
   "id": "c100ea19",
   "metadata": {},
   "outputs": [
    {
     "name": "stdout",
     "output_type": "stream",
     "text": [
      "Wed Jul  7 15:25:14 2021       \r\n",
      "+-----------------------------------------------------------------------------+\r\n",
      "| NVIDIA-SMI 450.57       Driver Version: 450.57       CUDA Version: 11.0     |\r\n",
      "|-------------------------------+----------------------+----------------------+\r\n",
      "| GPU  Name        Persistence-M| Bus-Id        Disp.A | Volatile Uncorr. ECC |\r\n",
      "| Fan  Temp  Perf  Pwr:Usage/Cap|         Memory-Usage | GPU-Util  Compute M. |\r\n",
      "|                               |                      |               MIG M. |\r\n",
      "|===============================+======================+======================|\r\n",
      "|   0  Quadro RTX 6000     Off  | 00000000:17:00.0  On |                  Off |\r\n",
      "| 33%   38C    P8    28W / 260W |  22984MiB / 24211MiB |      8%      Default |\r\n",
      "|                               |                      |                  N/A |\r\n",
      "+-------------------------------+----------------------+----------------------+\r\n",
      "|   1  Quadro RTX 6000     Off  | 00000000:73:00.0 Off |                  Off |\r\n",
      "| 65%   78C    P2   121W / 260W |    167MiB / 24220MiB |     42%      Default |\r\n",
      "|                               |                      |                  N/A |\r\n",
      "+-------------------------------+----------------------+----------------------+\r\n",
      "                                                                               \r\n",
      "+-----------------------------------------------------------------------------+\r\n",
      "| Processes:                                                                  |\r\n",
      "|  GPU   GI   CI        PID   Type   Process name                  GPU Memory |\r\n",
      "|        ID   ID                                                   Usage      |\r\n",
      "|=============================================================================|\r\n",
      "|    0   N/A  N/A      3163      C   .../tensorflowGPU/bin/python    21869MiB |\r\n",
      "|    0   N/A  N/A      3241      G   /usr/lib/xorg/Xorg                 71MiB |\r\n",
      "|    0   N/A  N/A      3373      G   /usr/bin/gnome-shell                8MiB |\r\n",
      "|    0   N/A  N/A     11451      G   ...AAAAAYAAAAAAAEAAAAAAAAAAA      198MiB |\r\n",
      "|    0   N/A  N/A     12288      G   /usr/lib/xorg/Xorg                471MiB |\r\n",
      "|    0   N/A  N/A     12374      G   /usr/bin/gnome-shell              351MiB |\r\n",
      "|    0   N/A  N/A     21324      G   /usr/lib/firefox/firefox            3MiB |\r\n",
      "|    0   N/A  N/A     21618      G   /usr/lib/firefox/firefox            3MiB |\r\n",
      "|    1   N/A  N/A      3163      C   .../tensorflowGPU/bin/python      163MiB |\r\n",
      "+-----------------------------------------------------------------------------+\r\n"
     ]
    }
   ],
   "source": [
    "!nvidia-smi\n",
    "# We import all our dependencies.\n",
    "from n2v.models import N2VConfig, N2V\n",
    "import numpy as np\n",
    "import os\n",
    "os.environ[\"CUDA_VISIBLE_DEVICES\"]=\"1\"\n",
    "from csbdeep.utils import plot_history,plot_some\n",
    "from n2v.utils.n2v_utils import manipulate_val_data\n",
    "from n2v.internals.N2V_DataGenerator import N2V_DataGenerator\n",
    "from matplotlib import pyplot as plt\n",
    "import urllib\n",
    "import os\n",
    "import zipfile"
   ]
  },
  {
   "cell_type": "code",
   "execution_count": null,
   "id": "cdb8ad77",
   "metadata": {},
   "outputs": [
    {
     "name": "stdout",
     "output_type": "stream",
     "text": [
      "(13, 1024, 1024) /home/sancere/Kepler/CurieTrainingDatasets/ClaudiaTomatoDenoising/Tomato_Denoising/20210325_124A_N1TOM_day2_region1-1.tif\n"
     ]
    }
   ],
   "source": [
    "BaseDir =  '/home/sancere/Kepler/CurieTrainingDatasets/ClaudiaTomatoDenoising/Tomato_Denoising/'\n",
    "\n",
    "Model_Dir = '/home/sancere/Kepler/CurieDeepLearningModels/ClaudiaTomatoDenoising/'\n",
    "Model_Name = 'N2VTomato'\n",
    "\n",
    "datagen = N2V_DataGenerator()\n",
    "\n",
    "imgs = datagen.load_imgs_from_directory(directory = BaseDir , dims='ZYX')\n",
    "plt.figure(figsize=(32,16))\n",
    "plt.imshow(np.max(imgs[0][0,...,0],axis=0), \n",
    "           cmap='magma',\n",
    "           vmin=np.percentile(imgs[0],0.1),\n",
    "           vmax=np.percentile(imgs[0],99.9)\n",
    "          )\n",
    "plt.show()\n",
    "\n",
    "\n",
    "\n"
   ]
  },
  {
   "cell_type": "code",
   "execution_count": null,
   "id": "1e7ee695",
   "metadata": {},
   "outputs": [],
   "source": [
    "patch_shape = (8, 512, 512)\n",
    "Epochs = 20\n",
    "NetworkDepth = 3\n",
    "batch_size = 1\n",
    "patches = datagen.generate_patches_from_list(imgs[:1], shape=patch_shape)\n",
    "X = patches[:30]\n",
    "X_val = patches[30:]\n",
    "\n",
    "# Let's look at two patches.\n",
    "plt.figure(figsize=(14,7))\n",
    "plt.subplot(1,2,1)\n",
    "plt.imshow(X[0,1,...,0],cmap='magma')\n",
    "plt.title('Training Patch');\n",
    "plt.subplot(1,2,2)\n",
    "plt.imshow(X_val[0,1,...,0],cmap='magma')\n",
    "plt.title('Validation Patch');"
   ]
  },
  {
   "cell_type": "code",
   "execution_count": null,
   "id": "8e17e667",
   "metadata": {},
   "outputs": [],
   "source": [
    "config = N2VConfig(X, unet_kern_size=3, unet_n_depth = NetworkDepth,\n",
    "                   train_steps_per_epoch=400,train_epochs= Epochs, train_loss='mse', batch_norm=True, \n",
    "                   train_batch_size=batch_size, n2v_perc_pix=0.198,n2v_patch_shape= patch_shape, \n",
    "                   n2v_manipulator='uniform_withCP', n2v_neighborhood_radius=4)\n",
    "\n",
    "# Let's look at the parameters stored in the config-object.\n",
    "vars(config)\n",
    "model = N2V(config=config, name=Model_Name, basedir=Model_Dir)"
   ]
  },
  {
   "cell_type": "code",
   "execution_count": null,
   "id": "c81d3636",
   "metadata": {
    "scrolled": false
   },
   "outputs": [],
   "source": [
    "\n",
    "history = model.train(X, X_val)"
   ]
  },
  {
   "cell_type": "code",
   "execution_count": null,
   "id": "5cf61d8d",
   "metadata": {},
   "outputs": [],
   "source": [
    "print(sorted(list(history.history.keys())))\n",
    "plt.figure(figsize=(16,5))\n",
    "plot_history(history,['loss','val_loss']);"
   ]
  },
  {
   "cell_type": "code",
   "execution_count": null,
   "id": "150b8e1c",
   "metadata": {},
   "outputs": [],
   "source": [
    "plt.figure(figsize=(25,7))\n",
    "_P = model.keras_model.predict(X_val[:5])\n",
    "\n",
    "plot_some(X_val[:5],_P,pmax=99.5)\n",
    "plt.suptitle('5 example validation patches\\n'      \n",
    "             'top row: input (source),  '          \n",
    "             'middle row: denoised),  '\n",
    "             );"
   ]
  }
 ],
 "metadata": {
  "kernelspec": {
   "display_name": "Python [conda env:tensorflowGPU] *",
   "language": "python",
   "name": "conda-env-tensorflowGPU-py"
  },
  "language_info": {
   "codemirror_mode": {
    "name": "ipython",
    "version": 3
   },
   "file_extension": ".py",
   "mimetype": "text/x-python",
   "name": "python",
   "nbconvert_exporter": "python",
   "pygments_lexer": "ipython3",
   "version": "3.7.10"
  }
 },
 "nbformat": 4,
 "nbformat_minor": 5
}
