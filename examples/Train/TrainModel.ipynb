{
 "cells": [
  {
   "cell_type": "code",
   "execution_count": 1,
   "metadata": {},
   "outputs": [],
   "source": [
    "import os\n",
    "os.environ[\"CUDA_VISIBLE_DEVICES\"]=\"0\"\n",
    "import glob\n",
    "import glob\n",
    "from vollseg import SmartSeeds3D\n",
    "from tifffile import imread, imwrite\n",
    "os.environ[\"HDF5_USE_FILE_LOCKING\"] = \"FALSE\""
   ]
  },
  {
   "cell_type": "markdown",
   "metadata": {},
   "source": [
    "# In the cell below specify the following:\n",
    "\n"
   ]
  },
  {
   "cell_type": "code",
   "execution_count": null,
   "metadata": {},
   "outputs": [],
   "source": [
    "base_dir = '/data/'\n",
    "npz_filename = 'VolumeSeg'\n",
    "model_dir = '/data/'\n",
    "model_name = 'VolumeSeg'\n",
    "\n",
    "raw_dir = '/Raw/'\n",
    "real_mask_dir = '/real_mask/' \n",
    "binary_mask_dir = '/binary_mask/'\n",
    "val_raw_dir = '/val_raw/'\n",
    "val_real_mask_dir = '/val_real_mask/'\n"
   ]
  },
  {
   "cell_type": "markdown",
   "metadata": {},
   "source": [
    "# In this cell choose the network training parameters for the Neural Network\n",
    "\n"
   ]
  },
  {
   "cell_type": "code",
   "execution_count": null,
   "metadata": {},
   "outputs": [],
   "source": [
    "#Network training parameters\n",
    "depth = 3\n",
    "Epochs = 100\n",
    "learning_rate = 1.0E-4\n",
    "batch_size = 1\n",
    "patch_x = 128\n",
    "patch_y = 128\n",
    "patch_z = 16\n",
    "grid_x = 1\n",
    "grid_y = 1\n",
    "kern_size = 3\n",
    "n_patches_per_image = 16\n",
    "n_rays = 128\n",
    "startfilter = 48\n",
    "use_gpu_opencl = True\n",
    "generate_npz = True\n",
    "backbone = 'resnet'\n",
    "load_data_sequence = True\n",
    "validation_split = 0.01\n",
    "n_channel_in = 1\n",
    "train_unet = True\n",
    "train_star = True"
   ]
  },
  {
   "cell_type": "markdown",
   "metadata": {},
   "source": [
    "# Generate the npz file first and then train the model"
   ]
  },
  {
   "cell_type": "code",
   "execution_count": null,
   "metadata": {
    "scrolled": false
   },
   "outputs": [],
   "source": [
    "\n",
    "SmartSeeds3D(base_dir = base_dir, \n",
    "             npz_filename = npz_filename, \n",
    "             model_name = model_name, \n",
    "             model_dir = model_dir,\n",
    "             raw_dir = raw_dir,\n",
    "             real_mask_dir = real_mask_dir,\n",
    "             binary_mask_dir = binary_mask_dir,\n",
    "             val_raw_dir = val_raw_dir,\n",
    "             val_real_mask_dir = val_real_mask_dir,\n",
    "             n_channel_in = n_channel_in,\n",
    "             backbone = backbone, \n",
    "             load_data_sequence = load_data_sequence, \n",
    "             validation_split = validation_split, \n",
    "             n_patches_per_image = n_patches_per_image, \n",
    "             generate_npz = generate_npz, \n",
    "             train_unet = train_unet, \n",
    "             train_star = train_star, \n",
    "             patch_x= patch_x, \n",
    "             patch_y= patch_y, \n",
    "             patch_z = patch_z,  \n",
    "             grid_x = grid_x,\n",
    "             grid_y = grid_y,\n",
    "             use_gpu = use_gpu_opencl,  \n",
    "             batch_size = batch_size, \n",
    "             depth = depth, \n",
    "             kern_size = kern_size, \n",
    "             startfilter = startfilter, \n",
    "             n_rays = n_rays, \n",
    "             epochs = epochs, \n",
    "             learning_rate = learning_rate)"
   ]
  }
 ],
 "metadata": {
  "kernelspec": {
   "display_name": "Python 3 (ipykernel)",
   "language": "python",
   "name": "python3"
  },
  "language_info": {
   "codemirror_mode": {
    "name": "ipython",
    "version": 3
   },
   "file_extension": ".py",
   "mimetype": "text/x-python",
   "name": "python",
   "nbconvert_exporter": "python",
   "pygments_lexer": "ipython3",
   "version": "3.9.0"
  }
 },
 "nbformat": 4,
 "nbformat_minor": 2
}
