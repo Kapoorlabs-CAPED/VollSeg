{
 "cells": [
  {
   "cell_type": "code",
   "execution_count": 1,
   "metadata": {},
   "outputs": [],
   "source": [
    "import os\n",
    "os.environ[\"CUDA_VISIBLE_DEVICES\"]=\"0\"\n",
    "import glob\n",
    "import glob\n",
    "from vollseg import SmartSeeds3D\n",
    "from tifffile import imread, imwrite\n",
    "os.environ[\"HDF5_USE_FILE_LOCKING\"] = \"FALSE\""
   ]
  },
  {
   "cell_type": "markdown",
   "metadata": {},
   "source": [
    "# In the cell below specify the following:\n",
    "\n",
    "1) Directory where the training data is, inside this directory there should be the two subfolders called Raw and Mask. Inside the Raw folder are the raw images and inside the Mask folder are the labelled images.\n",
    "\n",
    "2) The training data for doing UNET training is stored in NPZ format so please specify the NPZ filename which is suitable for your data.\n",
    "\n",
    "3) Model directory is where the trained Neural network models are stored, please chooose a location if you want to change the default location which is where the training data is.\n",
    "\n",
    "4) Copy Model name is optional, in case you have a previouis trained model and want to re-train it on new data but store it with a new name.\n",
    "\n",
    "5) Model name is the unique name of the trained models."
   ]
  },
  {
   "cell_type": "code",
   "execution_count": null,
   "metadata": {},
   "outputs": [],
   "source": [
    "Data_dir = '/home/sancere/Kepler/CurieTrainingDatasets/ClaudiaTomatoDenoising/Tomato_Denoising/'\n",
    "NPZ_filename = 'TomatoDenoising'\n",
    "Model_dir = '/home/sancere/Kepler/CurieDeepLearningModels/ClaudiaTomatoDenoising/'\n",
    "Model_Name = 'N2VTomato'"
   ]
  },
  {
   "cell_type": "markdown",
   "metadata": {},
   "source": [
    "# In this cell choose the network training parameters for the Neural Network\n",
    "\n",
    "1) NetworkDepth = Depth of the network, with each increasing depth the image is downsampled by 2 hence the XYZ dimension of the data / 2^depth has to be greater than 1.\n",
    "\n",
    "2) Epochs, training for longer epochs ensures a well converged network and requires longer GPU runtimes.\n",
    "\n",
    "3) Learning rate is the parameter which controls the step size used in the optimization process and it should not be greater than 0.001 at the start of the training.\n",
    "\n",
    "4) batch size controls the number of images used for doing stochastic gradient descent and is a parameter that is limited by the GPU RAM available, if you do not have a lot of ran batch size < 10 should be optimal. \n",
    "\n",
    "5) PatchX,Y,Z is the patch size used for making patches out of the iamge data. The original image is broken down into patches for training. Patch size is chosen based on having enough context for the network to learn but at the same time not being too big to obscure memory usage.\n",
    "\n",
    "6) Kernel is the receptive field of the neural network, usual choices are 3,5 or 7 but not larger than that. This is the size of the convolutional kernel used in the network\n",
    "\n",
    "7) n_patches_per_image is the number of patches sampled for each image to create the npz file, choose an optimal value so that the file is not too big for the computer memory. \n",
    "\n",
    "8) Rays is the number of rays used the learn the distance map, low rays decreases the spatial resoultion and high rays are able to resolve the shape better.\n",
    "\n",
    "\n",
    "9) OpenCL is a boolean parameter that is set true if you want to do some opencl computations on the GPU, this requires GPU tools but if you do not have them set this to false.\n",
    "\n",
    "Some optimal values have been chosen by default and should work well for any NVDIA enabled GPU computer"
   ]
  },
  {
   "cell_type": "code",
   "execution_count": null,
   "metadata": {},
   "outputs": [],
   "source": [
    "#Network training parameters\n",
    "NetworkDepth = 5\n",
    "Epochs = 100\n",
    "LearningRate = 1.0E-4\n",
    "batch_size = 1\n",
    "PatchX = 512\n",
    "PatchY = 512\n",
    "PatchZ = 12\n",
    "Kernel = 3\n",
    "n_patches_per_image = 4\n",
    "Rays = 128\n",
    "startfilter = 48\n",
    "use_gpu_opencl = True\n",
    "GenerateNPZ = True\n",
    "TrainUNET = False\n",
    "TrainSTAR = False"
   ]
  },
  {
   "cell_type": "markdown",
   "metadata": {},
   "source": [
    "# Generate the npz file first and then train the model"
   ]
  },
  {
   "cell_type": "code",
   "execution_count": null,
   "metadata": {
    "scrolled": false
   },
   "outputs": [],
   "source": [
    "\n",
    "SmartSeeds3D(BaseDir = Data_dir, NPZfilename = NPZ_filename, model_name = Model_Name, model_dir = Model_dir, n_patches_per_image = n_patches_per_image,GenerateNPZ = GenerateNPZ, TrainUNET = TrainUNET, TrainSTAR = TrainSTAR, PatchX= PatchX, PatchY= PatchY, PatchZ = PatchZ,  use_gpu = use_gpu_opencl,  batch_size = batch_size, depth = NetworkDepth, kern_size = Kernel, startfilter = startfilter, n_rays = Rays, epochs = Epochs, learning_rate = LearningRate)"
   ]
  },
  {
   "cell_type": "code",
   "execution_count": null,
   "metadata": {},
   "outputs": [],
   "source": [
    "TrainUNET = True\n",
    "TrainSTAR = True\n",
    "SmartSeeds3D(BaseDir = Data_dir, NPZfilename = NPZ_filename, model_name = Model_Name, model_dir = Model_dir, n_patches_per_image = n_patches_per_image,GenerateNPZ = GenerateNPZ, TrainUNET = TrainUNET, TrainSTAR = TrainSTAR, PatchX= PatchX, PatchY= PatchY, PatchZ = PatchZ,  use_gpu = use_gpu_opencl,  batch_size = batch_size, depth = NetworkDepth, kern_size = Kernel, startfilter = startfilter, n_rays = Rays, epochs = Epochs, learning_rate = LearningRate)"
   ]
  },
  {
   "cell_type": "code",
   "execution_count": null,
   "metadata": {},
   "outputs": [],
   "source": []
  }
 ],
 "metadata": {
  "kernelspec": {
   "display_name": "Python 3 (ipykernel)",
   "language": "python",
   "name": "python3"
  },
  "language_info": {
   "codemirror_mode": {
    "name": "ipython",
    "version": 3
   },
   "file_extension": ".py",
   "mimetype": "text/x-python",
   "name": "python",
   "nbconvert_exporter": "python",
   "pygments_lexer": "ipython3",
   "version": "3.7.10"
  }
 },
 "nbformat": 4,
 "nbformat_minor": 2
}
