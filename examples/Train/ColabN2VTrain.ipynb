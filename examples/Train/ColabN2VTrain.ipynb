{
 "cells": [
  {
   "cell_type": "code",
   "execution_count": null,
   "id": "EnEMqUcutxJC",
   "metadata": {
    "colab": {
     "base_uri": "https://localhost:8080/"
    },
    "executionInfo": {
     "elapsed": 14345,
     "status": "ok",
     "timestamp": 1621794950109,
     "user": {
      "displayName": "Varun Kapoor",
      "photoUrl": "https://lh3.googleusercontent.com/a-/AOh14GiqCnniCLExJES-Fu4_UKVqnr_f5QvFwiYQbkxVIYk=s64",
      "userId": "00394081441130681785"
     },
     "user_tz": -120
    },
    "id": "EnEMqUcutxJC",
    "outputId": "40ca5b7a-c8de-431b-a80b-59eef80a47aa"
   },
   "outputs": [],
   "source": [
    "from google.colab import drive\n",
    "drive.mount('/content/drive', force_remount = True)\n",
    "%tensorflow_version 1.x"
   ]
  },
  {
   "cell_type": "code",
   "execution_count": null,
   "id": "joI2YKaXtxJF",
   "metadata": {
    "colab": {
     "base_uri": "https://localhost:8080/"
    },
    "executionInfo": {
     "elapsed": 12244,
     "status": "ok",
     "timestamp": 1621794962336,
     "user": {
      "displayName": "Varun Kapoor",
      "photoUrl": "https://lh3.googleusercontent.com/a-/AOh14GiqCnniCLExJES-Fu4_UKVqnr_f5QvFwiYQbkxVIYk=s64",
      "userId": "00394081441130681785"
     },
     "user_tz": -120
    },
    "id": "joI2YKaXtxJF",
    "outputId": "8f935863-4d34-4f52-cade-d0210e77a9e0"
   },
   "outputs": [],
   "source": [
    "!pip install tiffile\n",
    "\n",
    "\n",
    "!pip install gputools\n",
    "\n",
    "\n",
    "!pip install vollseg\n",
    "!pip install n2v"
   ]
  },
  {
   "cell_type": "code",
   "execution_count": null,
   "id": "wbM7Vtr9txJF",
   "metadata": {
    "colab": {
     "base_uri": "https://localhost:8080/"
    },
    "executionInfo": {
     "elapsed": 1754,
     "status": "ok",
     "timestamp": 1621794964072,
     "user": {
      "displayName": "Varun Kapoor",
      "photoUrl": "https://lh3.googleusercontent.com/a-/AOh14GiqCnniCLExJES-Fu4_UKVqnr_f5QvFwiYQbkxVIYk=s64",
      "userId": "00394081441130681785"
     },
     "user_tz": -120
    },
    "id": "wbM7Vtr9txJF",
    "outputId": "f819d803-f914-4687-faaa-8e9f92c467fa"
   },
   "outputs": [],
   "source": [
    "\n",
    "# We import all our dependencies.\n",
    "from n2v.models import N2VConfig, N2V\n",
    "import numpy as np\n",
    "import os\n",
    "\n",
    "from csbdeep.utils import plot_history,plot_some\n",
    "from n2v.utils.n2v_utils import manipulate_val_data\n",
    "from n2v.internals.N2V_DataGenerator import N2V_DataGenerator\n",
    "from matplotlib import pyplot as plt\n",
    "import urllib\n",
    "import os\n",
    "import zipfile"
   ]
  },
  {
   "cell_type": "code",
   "execution_count": null,
   "id": "TNrPVvIxtxJF",
   "metadata": {
    "colab": {
     "base_uri": "https://localhost:8080/",
     "height": 921
    },
    "executionInfo": {
     "elapsed": 6925,
     "status": "ok",
     "timestamp": 1621794970994,
     "user": {
      "displayName": "Varun Kapoor",
      "photoUrl": "https://lh3.googleusercontent.com/a-/AOh14GiqCnniCLExJES-Fu4_UKVqnr_f5QvFwiYQbkxVIYk=s64",
      "userId": "00394081441130681785"
     },
     "user_tz": -120
    },
    "id": "TNrPVvIxtxJF",
    "outputId": "ef7dc1c6-3077-47d1-ae94-a29b342a1b7d"
   },
   "outputs": [],
   "source": [
    "BaseDir = '/content/drive/My Drive/data/'\n",
    "\n",
    "Model_Dir = '/content/drive/My Drive/data/'\n",
    "Model_Name = 'ScipyDenoising'\n",
    "datagen = N2V_DataGenerator()\n",
    "\n",
    "imgs = datagen.load_imgs_from_directory(directory = BaseDir + \"Raw/\", dims='ZYX')\n",
    "plt.figure(figsize=(32,16))\n",
    "plt.imshow(np.max(imgs[0][0,...,0],axis=0), \n",
    "           cmap='magma',\n",
    "           vmin=np.percentile(imgs[0],0.1),\n",
    "           vmax=np.percentile(imgs[0],99.9)\n",
    "          )\n",
    "plt.show()\n",
    "\n",
    "\n",
    "\n"
   ]
  },
  {
   "cell_type": "code",
   "execution_count": null,
   "id": "Hbvb15TYtxJG",
   "metadata": {
    "colab": {
     "base_uri": "https://localhost:8080/",
     "height": 453
    },
    "executionInfo": {
     "elapsed": 764,
     "status": "ok",
     "timestamp": 1621794971745,
     "user": {
      "displayName": "Varun Kapoor",
      "photoUrl": "https://lh3.googleusercontent.com/a-/AOh14GiqCnniCLExJES-Fu4_UKVqnr_f5QvFwiYQbkxVIYk=s64",
      "userId": "00394081441130681785"
     },
     "user_tz": -120
    },
    "id": "Hbvb15TYtxJG",
    "outputId": "0d74f7aa-b994-4519-c9a7-737d8f279ecf"
   },
   "outputs": [],
   "source": [
    "patch_shape = (16, 128, 128)\n",
    "Epochs = 200\n",
    "NetworkDepth = 3\n",
    "batch_size = 1\n",
    "patches = datagen.generate_patches_from_list(imgs[:1], shape=patch_shape)\n",
    "print(patches.shape)\n",
    "X = patches[:120]\n",
    "X_val = patches[120:]\n",
    "\n",
    "# Let's look at two patches.\n",
    "plt.figure(figsize=(14,7))\n",
    "plt.subplot(1,2,1)\n",
    "plt.imshow(X[0,4,...,0],cmap='magma')\n",
    "plt.title('Training Patch');\n",
    "plt.subplot(1,2,2)\n",
    "plt.imshow(X_val[0,4,...,0],cmap='magma')\n",
    "plt.title('Validation Patch');"
   ]
  },
  {
   "cell_type": "code",
   "execution_count": null,
   "id": "CMVinWl2txJG",
   "metadata": {
    "colab": {
     "base_uri": "https://localhost:8080/"
    },
    "executionInfo": {
     "elapsed": 267,
     "status": "ok",
     "timestamp": 1621794971997,
     "user": {
      "displayName": "Varun Kapoor",
      "photoUrl": "https://lh3.googleusercontent.com/a-/AOh14GiqCnniCLExJES-Fu4_UKVqnr_f5QvFwiYQbkxVIYk=s64",
      "userId": "00394081441130681785"
     },
     "user_tz": -120
    },
    "id": "CMVinWl2txJG",
    "outputId": "236ee3f0-dd2a-4d51-c9e0-433edc9a4b6f"
   },
   "outputs": [],
   "source": [
    "config = N2VConfig(X, unet_kern_size=3, unet_n_depth = NetworkDepth,\n",
    "                   train_steps_per_epoch=400,train_epochs= Epochs, train_loss='mse', batch_norm=True, \n",
    "                   train_batch_size=batch_size, n2v_perc_pix=0.198,n2v_patch_shape= patch_shape, \n",
    "                   n2v_manipulator='uniform_withCP', n2v_neighborhood_radius=4)\n",
    "\n",
    "# Let's look at the parameters stored in the config-object.\n",
    "vars(config)\n",
    "model = N2V(config=config, name=Model_Name, basedir=BaseDir)"
   ]
  },
  {
   "cell_type": "code",
   "execution_count": null,
   "id": "0pk1C4FUtxJG",
   "metadata": {
    "colab": {
     "base_uri": "https://localhost:8080/"
    },
    "id": "0pk1C4FUtxJG",
    "outputId": "e8db60eb-c899-4a12-f4f0-10c934dc82f7",
    "scrolled": false
   },
   "outputs": [],
   "source": [
    "\n",
    "history = model.train(X, X_val)"
   ]
  },
  {
   "cell_type": "code",
   "execution_count": null,
   "id": "l2x6YXJftxJH",
   "metadata": {
    "id": "l2x6YXJftxJH"
   },
   "outputs": [],
   "source": [
    "print(sorted(list(history.history.keys())))\n",
    "plt.figure(figsize=(16,5))\n",
    "plot_history(history,['loss','val_loss']);"
   ]
  },
  {
   "cell_type": "code",
   "execution_count": null,
   "id": "k3B_5ybqtxJH",
   "metadata": {
    "id": "k3B_5ybqtxJH"
   },
   "outputs": [],
   "source": [
    "plt.figure(figsize=(25,7))\n",
    "_P = model.keras_model.predict(X_val[:5])\n",
    "\n",
    "plot_some(X_val[:5],_P,pmax=99.5)\n",
    "plt.suptitle('5 example validation patches\\n'      \n",
    "             'top row: input (source),  '          \n",
    "             'middle row: denoised),  '\n",
    "             );"
   ]
  }
 ],
 "metadata": {
  "accelerator": "TPU",
  "colab": {
   "collapsed_sections": [],
   "machine_shape": "hm",
   "name": "ColabN2VTrain.ipynb",
   "provenance": []
  },
  "kernelspec": {
   "display_name": "Python 3 (ipykernel)",
   "language": "python",
   "name": "python3"
  },
  "language_info": {
   "codemirror_mode": {
    "name": "ipython",
    "version": 3
   },
   "file_extension": ".py",
   "mimetype": "text/x-python",
   "name": "python",
   "nbconvert_exporter": "python",
   "pygments_lexer": "ipython3",
   "version": "3.9.7"
  }
 },
 "nbformat": 4,
 "nbformat_minor": 5
}
