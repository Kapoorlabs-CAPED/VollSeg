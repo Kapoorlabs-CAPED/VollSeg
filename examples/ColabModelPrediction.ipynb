{
 "cells": [
  {
   "cell_type": "code",
   "execution_count": null,
   "metadata": {
    "colab": {
     "base_uri": "https://localhost:8080/"
    },
    "id": "H5dffawniDmS",
    "outputId": "8d0e654a-6ecd-46b8-9a2b-42f676378930"
   },
   "outputs": [],
   "source": [
    "from google.colab import drive\n",
    "drive.mount('/content/drive', force_remount = True)\n",
    "%tensorflow_version 1.x"
   ]
  },
  {
   "cell_type": "code",
   "execution_count": null,
   "metadata": {
    "colab": {
     "base_uri": "https://localhost:8080/"
    },
    "id": "DgI1VIMviDmT",
    "outputId": "25bbab5c-c342-4877-f747-4f2ad9bdd31f"
   },
   "outputs": [],
   "source": [
    "!pip install tiffile\n",
    "!pip install keras==2.2.5\n",
    "!pip install csbdeep\n",
    "!pip install stardist\n",
    "!pip install gputools\n",
    "!pip install vollseg"
   ]
  },
  {
   "cell_type": "code",
   "execution_count": null,
   "metadata": {
    "colab": {
     "base_uri": "https://localhost:8080/"
    },
    "id": "uh2wPuymiDmT",
    "outputId": "fc1dda47-aad4-4af7-a08e-b62fbe0df5de"
   },
   "outputs": [],
   "source": [
    "%cd '/content/drive/My Drive/VollSeg/'\n",
    "import os\n",
    "import glob\n",
    "import sys\n",
    "import numpy as np\n",
    "from tqdm import tqdm\n",
    "from tifffile import imread, imwrite\n",
    "from stardist.models import StarDist3D\n",
    "from csbdeep.models import Config, CARE\n",
    "from vollseg import SmartSeedPrediction3D\n",
    "os.environ[\"HDF5_USE_FILE_LOCKING\"] = \"FALSE\"\n",
    "from pathlib import Path\n"
   ]
  },
  {
   "cell_type": "code",
   "execution_count": null,
   "metadata": {
    "colab": {
     "base_uri": "https://localhost:8080/"
    },
    "id": "ODBQtQoqiDmT",
    "outputId": "146edc6f-4616-4fed-af0e-daa4d99d4bc2"
   },
   "outputs": [],
   "source": [
    "ImageDir = '/content/drive/My Drive/data/tiffiles/'\n",
    "Model_Dir = '/content/drive/My Drive/SegmentationModel/'\n",
    "SaveDir = ImageDir + 'Results/'\n",
    "UNETModelName = 'UNETVolumeSeg'\n",
    "StarModelName = 'VolumeSeg'\n",
    "\n",
    "UnetModel = CARE(config = None, name = UNETModelName, basedir = Model_Dir)\n",
    "StarModel = StarDist3D(config = None, name = StarModelName, basedir = Model_Dir)"
   ]
  },
  {
   "cell_type": "code",
   "execution_count": null,
   "metadata": {
    "colab": {
     "base_uri": "https://localhost:8080/",
     "height": 1000
    },
    "id": "WCJlUdyIiDmT",
    "outputId": "61a99db1-f409-48db-8552-66e4e362e4d5"
   },
   "outputs": [],
   "source": [
    "Raw_path = os.path.join(ImageDir, '*.tif')\n",
    "filesRaw = glob.glob(Raw_path)\n",
    "filesRaw.sort\n",
    "min_size = 5\n",
    "n_tiles = (1,1,1)\n",
    "for fname in filesRaw:\n",
    "     \n",
    "     SmartSeedPrediction3D(ImageDir,SaveDir, fname, UnetModel, StarModel,  min_size = min_size,  n_tiles = n_tiles, UseProbability = False)"
   ]
  },
  {
   "cell_type": "code",
   "execution_count": null,
   "metadata": {
    "id": "IJzQ43hSJaXX"
   },
   "outputs": [],
   "source": []
  }
 ],
 "metadata": {
  "accelerator": "GPU",
  "colab": {
   "collapsed_sections": [],
   "machine_shape": "hm",
   "name": "Copy of Copy of GreenCellsSmartSeeds.ipynb",
   "provenance": []
  },
  "kernelspec": {
   "display_name": "Python 3",
   "language": "python",
   "name": "python3"
  },
  "language_info": {
   "codemirror_mode": {
    "name": "ipython",
    "version": 3
   },
   "file_extension": ".py",
   "mimetype": "text/x-python",
   "name": "python",
   "nbconvert_exporter": "python",
   "pygments_lexer": "ipython3",
   "version": "3.7.10"
  }
 },
 "nbformat": 4,
 "nbformat_minor": 1
}
