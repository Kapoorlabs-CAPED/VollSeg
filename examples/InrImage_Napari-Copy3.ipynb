{
 "cells": [
  {
   "cell_type": "code",
   "execution_count": 1,
   "metadata": {},
   "outputs": [
    {
     "name": "stdout",
     "output_type": "stream",
     "text": [
      "Requirement already satisfied: natsort in /home/varunkapoor/anaconda3/envs/naparienv/lib/python3.9/site-packages (8.0.2)\n",
      "DIPlib -- a quantitative image analysis library\n",
      "Version 3.1.0 (Sep 24 2021)\n",
      "For more information see https://diplib.org\n"
     ]
    }
   ],
   "source": [
    "!pip install natsort\n",
    "from vollseg import inrimage\n",
    "import napari\n",
    "import os\n",
    "import numpy as np\n",
    "import glob\n",
    "from pathlib import Path\n",
    "from natsort import natsorted\n",
    "from tifffile import imread, imwrite\n",
    "%gui qt"
   ]
  },
  {
   "cell_type": "code",
   "execution_count": 2,
   "metadata": {},
   "outputs": [],
   "source": [
    "sourcedir = '/mnt/d/LightSheetRaw/Astec-half-Pm1/POST/POST_RELEASE/'\n",
    "savedir = '/mnt/d/LightSheetRaw/Astec-half-Pm1/POST/POST_RELEASE/Tif_files/'\n",
    "Path(savedir).mkdir(exist_ok=True)\n",
    "Raw_path = os.path.join(sourcedir, '*.gz')\n",
    "filesRaw = glob.glob(Raw_path)\n",
    "filesRaw = natsorted(filesRaw)\n",
    "for fname in filesRaw:\n",
    "    image = inrimage.read_inrimage(fname)\n",
    "   \n",
    "    Name = os.path.basename(os.path.splitext(fname)[0]) \n",
    "    imwrite(savedir + '/' + Name + '.tif', image.astype('float16') )\n"
   ]
  },
  {
   "cell_type": "code",
   "execution_count": 14,
   "metadata": {},
   "outputs": [
    {
     "name": "stdout",
     "output_type": "stream",
     "text": [
      "(10, 10)\n"
     ]
    }
   ],
   "source": [
    "print(image.shape)"
   ]
  },
  {
   "cell_type": "code",
   "execution_count": 4,
   "metadata": {},
   "outputs": [
    {
     "data": {
      "text/plain": [
       "<Image layer 'image' at 0x7f3c3eed2b20>"
      ]
     },
     "execution_count": 4,
     "metadata": {},
     "output_type": "execute_result"
    }
   ],
   "source": [
    "viewer = napari.Viewer()\n",
    "viewer.dims.ndisplay = 3\n",
    "viewer.add_image(image)"
   ]
  },
  {
   "cell_type": "code",
   "execution_count": 20,
   "metadata": {},
   "outputs": [
    {
     "name": "stderr",
     "output_type": "stream",
     "text": [
      "100%|████████████████████████████████████████████████████████████████████████████████| 10/10 [00:00<00:00, 21597.86it/s]"
     ]
    },
    {
     "name": "stdout",
     "output_type": "stream",
     "text": [
      "(10, 10)\n",
      "(10, 10)\n",
      "(10, 10)\n",
      "(10, 10)\n",
      "(10, 10)\n",
      "(10, 10)\n",
      "(10, 10)\n",
      "(10, 10)\n",
      "(10, 10)\n",
      "(10, 10)\n"
     ]
    },
    {
     "name": "stderr",
     "output_type": "stream",
     "text": [
      "\n"
     ]
    }
   ],
   "source": [
    "import numpy as np\n",
    "from tqdm import tqdm\n",
    "image = np.random.rand(10,10,10)\n",
    "for _x in tqdm(image):\n",
    "    print(_x.shape)"
   ]
  },
  {
   "cell_type": "code",
   "execution_count": 8,
   "metadata": {},
   "outputs": [],
   "source": [
    "%gui qt"
   ]
  },
  {
   "cell_type": "code",
   "execution_count": 13,
   "metadata": {},
   "outputs": [
    {
     "name": "stdout",
     "output_type": "stream",
     "text": [
      "[[ 2 84 84 46 34 84 55 76 86 64]\n",
      " [20 15 69 49 91 78 17 52  5 60]\n",
      " [45 18 19 31 63 20 93 94 97 21]\n",
      " [39 41 26 75 64  2 66 22 19 67]\n",
      " [26 94 86 41 50 16 99 17 93 71]\n",
      " [83 47 25 99 57 28 47 57 41 37]\n",
      " [71 17 87  2  3 11 11 92 61 26]\n",
      " [ 8 64 51 37 80 23 83 60  1 36]\n",
      " [64  3 74 75 57 28 13 40  2 84]\n",
      " [39 30 17  5 76 71 73 66 63 92]]\n"
     ]
    }
   ],
   "source": [
    "import napari\n",
    "viewer = napari.Viewer()\n",
    "image = np.random.rand(10,10)*100\n",
    "\n",
    "viewer.add_labels(image.astype('uint16'), name = 'label')\n",
    "data = viewer.layers['label'].data\n",
    "print(data)"
   ]
  },
  {
   "cell_type": "code",
   "execution_count": null,
   "metadata": {},
   "outputs": [],
   "source": []
  }
 ],
 "metadata": {
  "kernelspec": {
   "display_name": "Python [conda env:naparienv] *",
   "language": "python",
   "name": "conda-env-naparienv-py"
  },
  "language_info": {
   "codemirror_mode": {
    "name": "ipython",
    "version": 3
   },
   "file_extension": ".py",
   "mimetype": "text/x-python",
   "name": "python",
   "nbconvert_exporter": "python",
   "pygments_lexer": "ipython3",
   "version": "3.9.0"
  }
 },
 "nbformat": 4,
 "nbformat_minor": 4
}
