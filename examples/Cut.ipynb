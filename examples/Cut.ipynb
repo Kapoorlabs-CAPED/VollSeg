{
 "cells": [
  {
   "cell_type": "code",
   "execution_count": 1,
   "id": "063081ef",
   "metadata": {},
   "outputs": [
    {
     "name": "stderr",
     "output_type": "stream",
     "text": [
      "Using TensorFlow backend.\n"
     ]
    }
   ],
   "source": [
    "import os\n",
    "os.environ[\"CUDA_VISIBLE_DEVICES\"]=\"0\"\n",
    "import glob\n",
    "import numpy as np\n",
    "from tqdm import tqdm\n",
    "from csbdeep.models import CARE\n",
    "from tifffile import imread, imwrite\n",
    "os.environ[\"HDF5_USE_FILE_LOCKING\"] = \"FALSE\"\n",
    "from pathlib import Path\n",
    "import sys\n",
    "sys.path.append('../')"
   ]
  },
  {
   "cell_type": "code",
   "execution_count": 11,
   "id": "179f142c",
   "metadata": {},
   "outputs": [],
   "source": [
    "imagedir = '/media/sancere/Newton_Volume_2/data/Jan/'\n",
    "labeldir = '/media/sancere/Newton_Volume_2/data/labels/Jan/'\n",
    "\n",
    "saveimagedir = '/media/sancere/Newton_Volume_2/data/'\n",
    "savelabeldir = '/media/sancere/Newton_Volume_2/data/labels/'"
   ]
  },
  {
   "cell_type": "code",
   "execution_count": 12,
   "id": "af2eab70",
   "metadata": {},
   "outputs": [],
   "source": [
    "Raw_path = os.path.join(imagedir, '*tif')\n",
    "filesRaw = glob.glob(Raw_path)\n",
    "filesRaw.sort\n",
    "cut = [20,130,130]\n",
    "\n",
    "RealRaw_path = os.path.join(labeldir, '*tif')\n",
    "RealfilesRaw = glob.glob(RealRaw_path)\n",
    "RealfilesRaw.sort\n",
    "\n",
    "for fname in filesRaw:\n",
    "\n",
    "\n",
    "           for Realfname in RealfilesRaw:\n",
    "\n",
    "                  name = os.path.basename(os.path.splitext(fname)[0])\n",
    "                  realname = os.path.basename(os.path.splitext(Realfname)[0])\n",
    "\n",
    "                  if ( name == realname):\n",
    "                    \n",
    "                            #Read image        \n",
    "                            image = imread(fname)\n",
    "                            y = imread(Realfname)\n",
    "                            region =(slice(int(0),int(cut[0])),slice(0, cut[1]),\n",
    "                                      slice(0,cut[2]))\n",
    "                            #Define the movie region volume that was cut\n",
    "                            crop_image = image[region] \n",
    "                            crop_label = y[region]\n",
    "                            imwrite((saveimagedir +  name + '.tif' ) , crop_image.astype('float32'))\n",
    "                            imwrite((savelabeldir +  name +  '.tif' ) , crop_label.astype('uint16'))"
   ]
  },
  {
   "cell_type": "code",
   "execution_count": null,
   "id": "cd87ad49",
   "metadata": {},
   "outputs": [],
   "source": []
  }
 ],
 "metadata": {
  "kernelspec": {
   "display_name": "Python 3",
   "language": "python",
   "name": "python3"
  },
  "language_info": {
   "codemirror_mode": {
    "name": "ipython",
    "version": 3
   },
   "file_extension": ".py",
   "mimetype": "text/x-python",
   "name": "python",
   "nbconvert_exporter": "python",
   "pygments_lexer": "ipython3",
   "version": "3.6.10"
  }
 },
 "nbformat": 4,
 "nbformat_minor": 5
}
