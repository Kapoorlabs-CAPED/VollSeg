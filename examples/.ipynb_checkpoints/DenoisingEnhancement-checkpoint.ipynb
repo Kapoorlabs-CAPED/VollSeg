{
 "cells": [
  {
   "cell_type": "code",
   "execution_count": null,
   "metadata": {
    "colab": {
     "base_uri": "https://localhost:8080/"
    },
    "id": "EEkqi2RJImkO",
    "outputId": "356bdf5f-7034-40ac-bfc6-6b08cfe2046f"
   },
   "outputs": [],
   "source": [
    "import os\n",
    "import glob\n",
    "import numpy as np\n",
    "from tqdm import tqdm\n",
    "from csbdeep.models import Config, CARE\n",
    "from tifffile import imread, imwrite\n",
    "os.environ[\"HDF5_USE_FILE_LOCKING\"] = \"FALSE\"\n",
    "from pathlib import Path\n"
   ]
  },
  {
   "cell_type": "code",
   "execution_count": null,
   "metadata": {
    "colab": {
     "base_uri": "https://localhost:8080/"
    },
    "id": "Zt7mw-ZRImkP",
    "outputId": "00626ca4-fac6-41af-bb14-3bea2cdff7c3"
   },
   "outputs": [],
   "source": [
    "ImageDir = '/data/u934/service_imagerie/v_kapoor/CurieTrainingDatasets/GreenCell3D/AllSeasonCells/WinterDenoisedRaw/'\n",
    "BinaryImageDir = '/data/u934/service_imagerie/v_kapoor/CurieTrainingDatasets/GreenCell3D/AllSeasonCells/WinterBinaryMask/'\n",
    "RealImageDir = '/data/u934/service_imagerie/v_kapoor/CurieTrainingDatasets/GreenCell3D/AllSeasonCells/WinterRealMask/'\n",
    "Model_Dir = '/data/u934/service_imagerie/v_kapoor/CurieDeepLearningModels/'\n",
    "\n",
    "DenoiseResults = ImageDir \n",
    "BinaryDenoiseResults = BinaryImageDir\n",
    "RealDenoiseResults = RealImageDir\n",
    "\n",
    "\n",
    "NoiseModelName = '3DDenoisingModel'\n",
    "\n",
    "#display results after these many images\n",
    "NoiseModel = CARE(config = None, name = NoiseModelName, basedir = Model_Dir)\n"
   ]
  },
  {
   "cell_type": "code",
   "execution_count": null,
   "metadata": {
    "colab": {
     "base_uri": "https://localhost:8080/"
    },
    "id": "2sypFfttImkP",
    "outputId": "6cd28d0c-371c-4ecc-94d4-3c7c3ccde106"
   },
   "outputs": [],
   "source": [
    "Raw_path = os.path.join(ImageDir, '*tif')\n",
    "Path(DenoiseResults).mkdir(exist_ok = True)\n",
    "filesRaw = glob.glob(Raw_path)\n",
    "filesRaw.sort\n",
    "\n",
    "BinaryRaw_path = os.path.join(BinaryImageDir, '*tif')\n",
    "Path(BinaryDenoiseResults).mkdir(exist_ok = True)\n",
    "BinaryfilesRaw = glob.glob(BinaryRaw_path)\n",
    "BinaryfilesRaw.sort\n",
    "\n",
    "RealRaw_path = os.path.join(RealImageDir, '*tif')\n",
    "Path(RealDenoiseResults).mkdir(exist_ok = True)\n",
    "RealfilesRaw = glob.glob(RealRaw_path)\n",
    "RealfilesRaw.sort\n",
    "\n",
    "for fname in filesRaw:\n",
    "\n",
    "     for Binaryfname in BinaryfilesRaw:\n",
    "\n",
    "           for Realfname in RealfilesRaw:\n",
    "\n",
    "                  Name = os.path.basename(os.path.splitext(fname)[0])\n",
    "                  BinaryName = os.path.basename(os.path.splitext(Binaryfname)[0])\n",
    "                  RealName = os.path.basename(os.path.splitext(Realfname)[0])\n",
    "\n",
    "                  if (Name == BinaryName and Name == RealName): \n",
    "\n",
    "                            #Read image        \n",
    "                            image = imread(fname)\n",
    "                            Binaryimage = imread(Binaryfname)\n",
    "                            Realimage = imread(Realfname)\n",
    "                            print(image.shape)\n",
    "                            #Get Name\n",
    "                            x = image\n",
    "                            x = NoiseModel.predict(x,'ZYX', n_tiles=(1,4,4))\n",
    "                            #Save different method segmentation\n",
    "                            imwrite((DenoiseResults + 'Denoised' +  Name+ '.tif' ) , x.astype('float32'))\n",
    "                            imwrite((BinaryDenoiseResults + 'Denoised' +  Name+ '.tif' ) , Binaryimage.astype('float8'))\n",
    "                            imwrite((RealDenoiseResults + 'Denoised' +  Name+ '.tif' ) , Realimage.astype('float16'))\n",
    "                "
   ]
  },
  {
   "cell_type": "code",
   "execution_count": null,
   "metadata": {
    "id": "4SScUuFsJM_B"
   },
   "outputs": [],
   "source": []
  }
 ],
 "metadata": {
  "accelerator": "GPU",
  "colab": {
   "collapsed_sections": [],
   "machine_shape": "hm",
   "name": "SingleImageDenoising.ipynb",
   "provenance": []
  },
  "kernelspec": {
   "display_name": "Python 3",
   "language": "python",
   "name": "python3"
  },
  "language_info": {
   "codemirror_mode": {
    "name": "ipython",
    "version": 3
   },
   "file_extension": ".py",
   "mimetype": "text/x-python",
   "name": "python",
   "nbconvert_exporter": "python",
   "pygments_lexer": "ipython3",
   "version": "3.6.10"
  }
 },
 "nbformat": 4,
 "nbformat_minor": 1
}
