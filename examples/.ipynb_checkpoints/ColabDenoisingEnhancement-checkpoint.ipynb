{
 "cells": [
  {
   "cell_type": "code",
   "execution_count": 1,
   "metadata": {
    "colab": {
     "base_uri": "https://localhost:8080/"
    },
    "id": "md83zZ-LImkM",
    "outputId": "6eaf6684-41f0-4f3d-ed6f-e60e6483c5c1"
   },
   "outputs": [
    {
     "name": "stdout",
     "output_type": "stream",
     "text": [
      "Mounted at /content/drive\n",
      "TensorFlow 1.x selected.\n"
     ]
    }
   ],
   "source": [
    "from google.colab import drive\n",
    "drive.mount('/content/drive', force_remount = True)\n",
    "%tensorflow_version 1.x"
   ]
  },
  {
   "cell_type": "code",
   "execution_count": 2,
   "metadata": {
    "colab": {
     "base_uri": "https://localhost:8080/"
    },
    "id": "-qP3oH6xImkO",
    "outputId": "89da3202-41e6-4ff7-d890-c4a6a55fa899"
   },
   "outputs": [
    {
     "name": "stdout",
     "output_type": "stream",
     "text": [
      "Collecting tiffile\n",
      "  Downloading https://files.pythonhosted.org/packages/86/d7/d8fdfc8da77fde224e7f21d0c6612614852242b9631e31ca3366edb0d3f2/tiffile-2018.10.18-py2.py3-none-any.whl\n",
      "Requirement already satisfied: tifffile in /usr/local/lib/python3.6/dist-packages (from tiffile) (2020.9.3)\n",
      "Requirement already satisfied: numpy>=1.15.1 in /usr/local/lib/python3.6/dist-packages (from tifffile->tiffile) (1.18.5)\n",
      "Installing collected packages: tiffile\n",
      "Successfully installed tiffile-2018.10.18\n",
      "Collecting elasticdeform\n",
      "  Downloading https://files.pythonhosted.org/packages/22/6b/fd4693892a2035326c79363f05b6380e46d2f70d11e94d3e1f667c797084/elasticdeform-0.4.7.tar.gz\n",
      "Requirement already satisfied: numpy in /usr/local/lib/python3.6/dist-packages (from elasticdeform) (1.18.5)\n",
      "Requirement already satisfied: scipy in /usr/local/lib/python3.6/dist-packages (from elasticdeform) (1.4.1)\n",
      "Building wheels for collected packages: elasticdeform\n",
      "  Building wheel for elasticdeform (setup.py) ... \u001b[?25l\u001b[?25hdone\n",
      "  Created wheel for elasticdeform: filename=elasticdeform-0.4.7-cp36-cp36m-linux_x86_64.whl size=72527 sha256=7c5c7906f42d6000a029a5f80e489c36659a9215af8ef123b383fcf1dd3bdfa6\n",
      "  Stored in directory: /root/.cache/pip/wheels/1d/5e/8a/890fbf14dc7f26d5da56968248eb7b85fd7e72870462e2c3e3\n",
      "Successfully built elasticdeform\n",
      "Installing collected packages: elasticdeform\n",
      "Successfully installed elasticdeform-0.4.7\n",
      "Collecting keras==2.2.5\n",
      "\u001b[?25l  Downloading https://files.pythonhosted.org/packages/f8/ba/2d058dcf1b85b9c212cc58264c98a4a7dd92c989b798823cc5690d062bb2/Keras-2.2.5-py2.py3-none-any.whl (336kB)\n",
      "\u001b[K     |████████████████████████████████| 337kB 5.8MB/s \n",
      "\u001b[?25hRequirement already satisfied: keras-applications>=1.0.8 in /tensorflow-1.15.2/python3.6 (from keras==2.2.5) (1.0.8)\n",
      "Requirement already satisfied: scipy>=0.14 in /usr/local/lib/python3.6/dist-packages (from keras==2.2.5) (1.4.1)\n",
      "Requirement already satisfied: keras-preprocessing>=1.1.0 in /usr/local/lib/python3.6/dist-packages (from keras==2.2.5) (1.1.2)\n",
      "Requirement already satisfied: h5py in /usr/local/lib/python3.6/dist-packages (from keras==2.2.5) (2.10.0)\n",
      "Requirement already satisfied: pyyaml in /usr/local/lib/python3.6/dist-packages (from keras==2.2.5) (3.13)\n",
      "Requirement already satisfied: six>=1.9.0 in /usr/local/lib/python3.6/dist-packages (from keras==2.2.5) (1.15.0)\n",
      "Requirement already satisfied: numpy>=1.9.1 in /usr/local/lib/python3.6/dist-packages (from keras==2.2.5) (1.18.5)\n",
      "Installing collected packages: keras\n",
      "  Found existing installation: Keras 2.3.1\n",
      "    Uninstalling Keras-2.3.1:\n",
      "      Successfully uninstalled Keras-2.3.1\n",
      "Successfully installed keras-2.4.3\n",
      "Collecting csbdeep\n",
      "\u001b[?25l  Downloading https://files.pythonhosted.org/packages/28/4b/f0c9c85114c7660309903ec987128d31c6aef8e3d3ab35a8d30d1c947d5d/csbdeep-0.6.1-py2.py3-none-any.whl (68kB)\n",
      "\u001b[K     |████████████████████████████████| 71kB 3.3MB/s \n",
      "\u001b[?25hRequirement already satisfied: numpy in /usr/local/lib/python3.6/dist-packages (from csbdeep) (1.18.5)\n",
      "Collecting keras<2.4,>=2.1.2\n",
      "\u001b[?25l  Downloading https://files.pythonhosted.org/packages/ad/fd/6bfe87920d7f4fd475acd28500a42482b6b84479832bdc0fe9e589a60ceb/Keras-2.3.1-py2.py3-none-any.whl (377kB)\n",
      "\u001b[K     |████████████████████████████████| 378kB 6.2MB/s \n",
      "\u001b[?25hRequirement already satisfied: matplotlib in /usr/local/lib/python3.6/dist-packages (from csbdeep) (3.2.2)\n",
      "Requirement already satisfied: tqdm in /usr/local/lib/python3.6/dist-packages (from csbdeep) (4.41.1)\n",
      "Requirement already satisfied: h5py<3 in /usr/local/lib/python3.6/dist-packages (from csbdeep) (2.10.0)\n",
      "Requirement already satisfied: six in /usr/local/lib/python3.6/dist-packages (from csbdeep) (1.15.0)\n",
      "Requirement already satisfied: tifffile in /usr/local/lib/python3.6/dist-packages (from csbdeep) (2020.9.3)\n",
      "Requirement already satisfied: scipy in /usr/local/lib/python3.6/dist-packages (from csbdeep) (1.4.1)\n",
      "Requirement already satisfied: keras-preprocessing>=1.0.5 in /usr/local/lib/python3.6/dist-packages (from keras<2.4,>=2.1.2->csbdeep) (1.1.2)\n",
      "Requirement already satisfied: keras-applications>=1.0.6 in /tensorflow-1.15.2/python3.6 (from keras<2.4,>=2.1.2->csbdeep) (1.0.8)\n",
      "Requirement already satisfied: pyyaml in /usr/local/lib/python3.6/dist-packages (from keras<2.4,>=2.1.2->csbdeep) (3.13)\n",
      "Requirement already satisfied: kiwisolver>=1.0.1 in /usr/local/lib/python3.6/dist-packages (from matplotlib->csbdeep) (1.3.1)\n",
      "Requirement already satisfied: python-dateutil>=2.1 in /usr/local/lib/python3.6/dist-packages (from matplotlib->csbdeep) (2.8.1)\n",
      "Requirement already satisfied: cycler>=0.10 in /usr/local/lib/python3.6/dist-packages (from matplotlib->csbdeep) (0.10.0)\n",
      "Requirement already satisfied: pyparsing!=2.0.4,!=2.1.2,!=2.1.6,>=2.0.1 in /usr/local/lib/python3.6/dist-packages (from matplotlib->csbdeep) (2.4.7)\n",
      "Installing collected packages: keras, csbdeep\n",
      "  Found existing installation: Keras 2.4.3\n",
      "    Uninstalling Keras-2.4.3:\n",
      "      Successfully uninstalled Keras-2.4.3\n",
      "Successfully installed csbdeep-0.6.1 keras-2.3.1\n",
      "Collecting stardist\n",
      "\u001b[?25l  Downloading https://files.pythonhosted.org/packages/ea/79/04cf6656a7270b6a46055f7feee38acf62fc5d3384f9bfef7bb6e4d35783/stardist-0.6.1.tar.gz (410kB)\n",
      "\u001b[K     |████████████████████████████████| 419kB 5.6MB/s \n",
      "\u001b[?25h  Installing build dependencies ... \u001b[?25l\u001b[?25hdone\n",
      "  Getting requirements to build wheel ... \u001b[?25l\u001b[?25hdone\n",
      "    Preparing wheel metadata ... \u001b[?25l\u001b[?25hdone\n",
      "Requirement already satisfied: numba in /usr/local/lib/python3.6/dist-packages (from stardist) (0.48.0)\n",
      "Requirement already satisfied: scikit-image in /usr/local/lib/python3.6/dist-packages (from stardist) (0.16.2)\n",
      "Requirement already satisfied: csbdeep>=0.6.0 in /usr/local/lib/python3.6/dist-packages (from stardist) (0.6.1)\n",
      "Requirement already satisfied: numpy>=1.15 in /usr/local/lib/python3.6/dist-packages (from numba->stardist) (1.18.5)\n",
      "Requirement already satisfied: llvmlite<0.32.0,>=0.31.0dev0 in /usr/local/lib/python3.6/dist-packages (from numba->stardist) (0.31.0)\n",
      "Requirement already satisfied: setuptools in /usr/local/lib/python3.6/dist-packages (from numba->stardist) (50.3.2)\n",
      "Requirement already satisfied: matplotlib!=3.0.0,>=2.0.0 in /usr/local/lib/python3.6/dist-packages (from scikit-image->stardist) (3.2.2)\n",
      "Requirement already satisfied: scipy>=0.19.0 in /usr/local/lib/python3.6/dist-packages (from scikit-image->stardist) (1.4.1)\n",
      "Requirement already satisfied: PyWavelets>=0.4.0 in /usr/local/lib/python3.6/dist-packages (from scikit-image->stardist) (1.1.1)\n",
      "Requirement already satisfied: imageio>=2.3.0 in /usr/local/lib/python3.6/dist-packages (from scikit-image->stardist) (2.4.1)\n",
      "Requirement already satisfied: networkx>=2.0 in /usr/local/lib/python3.6/dist-packages (from scikit-image->stardist) (2.5)\n",
      "Requirement already satisfied: pillow>=4.3.0 in /usr/local/lib/python3.6/dist-packages (from scikit-image->stardist) (7.0.0)\n",
      "Requirement already satisfied: h5py<3 in /usr/local/lib/python3.6/dist-packages (from csbdeep>=0.6.0->stardist) (2.10.0)\n",
      "Requirement already satisfied: six in /usr/local/lib/python3.6/dist-packages (from csbdeep>=0.6.0->stardist) (1.15.0)\n",
      "Requirement already satisfied: tqdm in /usr/local/lib/python3.6/dist-packages (from csbdeep>=0.6.0->stardist) (4.41.1)\n",
      "Requirement already satisfied: tifffile in /usr/local/lib/python3.6/dist-packages (from csbdeep>=0.6.0->stardist) (2020.9.3)\n",
      "Requirement already satisfied: keras<2.4,>=2.1.2 in /usr/local/lib/python3.6/dist-packages (from csbdeep>=0.6.0->stardist) (2.3.1)\n",
      "Requirement already satisfied: pyparsing!=2.0.4,!=2.1.2,!=2.1.6,>=2.0.1 in /usr/local/lib/python3.6/dist-packages (from matplotlib!=3.0.0,>=2.0.0->scikit-image->stardist) (2.4.7)\n",
      "Requirement already satisfied: python-dateutil>=2.1 in /usr/local/lib/python3.6/dist-packages (from matplotlib!=3.0.0,>=2.0.0->scikit-image->stardist) (2.8.1)\n",
      "Requirement already satisfied: kiwisolver>=1.0.1 in /usr/local/lib/python3.6/dist-packages (from matplotlib!=3.0.0,>=2.0.0->scikit-image->stardist) (1.3.1)\n",
      "Requirement already satisfied: cycler>=0.10 in /usr/local/lib/python3.6/dist-packages (from matplotlib!=3.0.0,>=2.0.0->scikit-image->stardist) (0.10.0)\n",
      "Requirement already satisfied: decorator>=4.3.0 in /usr/local/lib/python3.6/dist-packages (from networkx>=2.0->scikit-image->stardist) (4.4.2)\n",
      "Requirement already satisfied: keras-preprocessing>=1.0.5 in /usr/local/lib/python3.6/dist-packages (from keras<2.4,>=2.1.2->csbdeep>=0.6.0->stardist) (1.1.2)\n",
      "Requirement already satisfied: pyyaml in /usr/local/lib/python3.6/dist-packages (from keras<2.4,>=2.1.2->csbdeep>=0.6.0->stardist) (3.13)\n",
      "Requirement already satisfied: keras-applications>=1.0.6 in /tensorflow-1.15.2/python3.6 (from keras<2.4,>=2.1.2->csbdeep>=0.6.0->stardist) (1.0.8)\n",
      "Building wheels for collected packages: stardist\n",
      "  Building wheel for stardist (PEP 517) ... \u001b[?25l\u001b[?25hdone\n",
      "  Created wheel for stardist: filename=stardist-0.6.1-cp36-cp36m-linux_x86_64.whl size=1859806 sha256=605f18998f062fb7ebf1e19b8025fa26ab751f8649980317d5fb3b1643370e11\n",
      "  Stored in directory: /root/.cache/pip/wheels/4e/55/87/80ee468f9edba45cc39668e66e822f1af40e6a68516eb38b51\n",
      "Successfully built stardist\n",
      "Installing collected packages: stardist\n",
      "Successfully installed stardist-0.6.1\n",
      "Collecting gputools\n",
      "\u001b[?25l  Downloading https://files.pythonhosted.org/packages/8c/55/c6b9b63bd97bf09ccc42e01cb1b4e455378ac947a2b1e383d9c64eb15faa/gputools-0.2.9-py3-none-any.whl (152kB)\n",
      "\u001b[K     |████████████████████████████████| 153kB 5.7MB/s \n",
      "\u001b[?25hCollecting configparser\n",
      "  Downloading https://files.pythonhosted.org/packages/08/b2/ef713e0e67f6e7ec7d59aea3ee78d05b39c15930057e724cc6d362a8c3bb/configparser-5.0.1-py3-none-any.whl\n",
      "Collecting scikit-tensor-py3; python_version >= \"3.0\"\n",
      "\u001b[?25l  Downloading https://files.pythonhosted.org/packages/33/91/28aa13c7c056c37d53677881cdff1c7e8da097aea5c0e4cb4faafb44ce4f/scikit_tensor_py3-0.4.1-py3-none-any.whl (48kB)\n",
      "\u001b[K     |████████████████████████████████| 51kB 5.6MB/s \n",
      "\u001b[?25hCollecting reikna>=0.6.7\n",
      "\u001b[?25l  Downloading https://files.pythonhosted.org/packages/fd/05/e8643dd1efc302291692286fc4fc8cefe277eb7de8a3d95a0e48e7dba2ef/reikna-0.7.5.tar.gz (189kB)\n",
      "\u001b[K     |████████████████████████████████| 194kB 11.9MB/s \n",
      "\u001b[?25hRequirement already satisfied: scipy in /usr/local/lib/python3.6/dist-packages (from gputools) (1.4.1)\n",
      "Requirement already satisfied: numpy>=1.11.0 in /usr/local/lib/python3.6/dist-packages (from gputools) (1.18.5)\n",
      "Collecting pyopencl>=2016.1\n",
      "\u001b[?25l  Downloading https://files.pythonhosted.org/packages/7a/12/7d4171ecfaf61bafdc4a628263d086b8e75ff89f4ada5458ff1fd16d953c/pyopencl-2020.3.1-cp36-cp36m-manylinux1_x86_64.whl (738kB)\n",
      "\u001b[K     |████████████████████████████████| 747kB 14.4MB/s \n",
      "\u001b[?25hCollecting mako>=0.8.0\n",
      "\u001b[?25l  Downloading https://files.pythonhosted.org/packages/a6/37/0e706200d22172eb8fa17d68a7ae22dec7631a0a92266634fb518a88a5b2/Mako-1.1.3-py2.py3-none-any.whl (75kB)\n",
      "\u001b[K     |████████████████████████████████| 81kB 7.2MB/s \n",
      "\u001b[?25hCollecting funcsigs>=0.3\n",
      "  Downloading https://files.pythonhosted.org/packages/69/cb/f5be453359271714c01b9bd06126eaf2e368f1fddfff30818754b5ac2328/funcsigs-1.0.2-py2.py3-none-any.whl\n",
      "Requirement already satisfied: decorator>=3.2.0 in /usr/local/lib/python3.6/dist-packages (from pyopencl>=2016.1->gputools) (4.4.2)\n",
      "Collecting pytools>=2017.6\n",
      "\u001b[?25l  Downloading https://files.pythonhosted.org/packages/16/ed/f4b298876b9b624150cc01830075f7cb0b9e09c1abfc46daef14811f3eed/pytools-2020.4.4.tar.gz (61kB)\n",
      "\u001b[K     |████████████████████████████████| 61kB 6.4MB/s \n",
      "\u001b[?25hCollecting appdirs>=1.4.0\n",
      "  Downloading https://files.pythonhosted.org/packages/3b/00/2344469e2084fb287c2e0b57b72910309874c3245463acd6cf5e3db69324/appdirs-1.4.4-py2.py3-none-any.whl\n",
      "Requirement already satisfied: MarkupSafe>=0.9.2 in /usr/local/lib/python3.6/dist-packages (from mako>=0.8.0->reikna>=0.6.7->gputools) (1.1.1)\n",
      "Requirement already satisfied: dataclasses>=0.7 in /usr/local/lib/python3.6/dist-packages (from pytools>=2017.6->pyopencl>=2016.1->gputools) (0.8)\n",
      "Building wheels for collected packages: reikna, pytools\n",
      "  Building wheel for reikna (setup.py) ... \u001b[?25l\u001b[?25hdone\n",
      "  Created wheel for reikna: filename=reikna-0.7.5-cp36-none-any.whl size=122266 sha256=227bca22f698fa69b3c79e362faa1218b06c51b65b124019db63b9c06c3e5acd\n",
      "  Stored in directory: /root/.cache/pip/wheels/82/2d/ba/12c9ba3637183463c471bcf352f5bc1703ab7dfbec9842f04a\n",
      "  Building wheel for pytools (setup.py) ... \u001b[?25l\u001b[?25hdone\n",
      "  Created wheel for pytools: filename=pytools-2020.4.4-py2.py3-none-any.whl size=59110 sha256=67b363d13d4bd4a0847baee5b2ccc0e10885f7c15b073d359f09f74bdb0176c4\n",
      "  Stored in directory: /root/.cache/pip/wheels/6f/2a/6e/0b210d900f2b6caca133395d2fa153d8a9c03ad42c3c5d55bf\n",
      "Successfully built reikna pytools\n",
      "\u001b[31mERROR: scikit-tensor-py3 0.4.1 has requirement numpy==1.16.*, but you'll have numpy 1.18.5 which is incompatible.\u001b[0m\n",
      "\u001b[31mERROR: scikit-tensor-py3 0.4.1 has requirement scipy==1.3.*, but you'll have scipy 1.4.1 which is incompatible.\u001b[0m\n",
      "Installing collected packages: configparser, scikit-tensor-py3, mako, funcsigs, reikna, appdirs, pytools, pyopencl, gputools\n",
      "Successfully installed appdirs-1.4.4 configparser-5.0.1 funcsigs-1.0.2 gputools-0.2.9 mako-1.1.3 pyopencl-2020.3.1 pytools-2020.4.4 reikna-0.7.5 scikit-tensor-py3-0.4.1\n",
      "Collecting btrack\n",
      "\u001b[?25l  Downloading https://files.pythonhosted.org/packages/9b/a9/9dabc5937dc5b096b00369ef3517c8f92592c92e490da85c8e653db42dc8/btrack-0.4.0-py3-none-any.whl (1.2MB)\n",
      "\u001b[K     |████████████████████████████████| 1.2MB 4.3MB/s \n",
      "\u001b[?25hRequirement already satisfied: scipy>=1.3.1 in /usr/local/lib/python3.6/dist-packages (from btrack) (1.4.1)\n",
      "Requirement already satisfied: cvxopt>=1.2.0 in /usr/local/lib/python3.6/dist-packages (from btrack) (1.2.5)\n",
      "Requirement already satisfied: numpy>=1.17.3 in /usr/local/lib/python3.6/dist-packages (from btrack) (1.18.5)\n",
      "Requirement already satisfied: matplotlib>=3.1.1 in /usr/local/lib/python3.6/dist-packages (from btrack) (3.2.2)\n",
      "Requirement already satisfied: h5py>=2.10.0 in /usr/local/lib/python3.6/dist-packages (from btrack) (2.10.0)\n",
      "Requirement already satisfied: cycler>=0.10 in /usr/local/lib/python3.6/dist-packages (from matplotlib>=3.1.1->btrack) (0.10.0)\n",
      "Requirement already satisfied: python-dateutil>=2.1 in /usr/local/lib/python3.6/dist-packages (from matplotlib>=3.1.1->btrack) (2.8.1)\n",
      "Requirement already satisfied: pyparsing!=2.0.4,!=2.1.2,!=2.1.6,>=2.0.1 in /usr/local/lib/python3.6/dist-packages (from matplotlib>=3.1.1->btrack) (2.4.7)\n",
      "Requirement already satisfied: kiwisolver>=1.0.1 in /usr/local/lib/python3.6/dist-packages (from matplotlib>=3.1.1->btrack) (1.3.1)\n",
      "Requirement already satisfied: six in /usr/local/lib/python3.6/dist-packages (from h5py>=2.10.0->btrack) (1.15.0)\n",
      "Installing collected packages: btrack\n",
      "Successfully installed btrack-0.4.0\n"
     ]
    }
   ],
   "source": [
    "!pip install tiffile\n",
    "!pip install elasticdeform\n",
    "!pip install keras==2.2.5\n",
    "!pip install csbdeep\n",
    "!pip install stardist\n",
    "!pip install gputools\n",
    "!pip install btrack"
   ]
  },
  {
   "cell_type": "code",
   "execution_count": 6,
   "metadata": {
    "colab": {
     "base_uri": "https://localhost:8080/"
    },
    "id": "EEkqi2RJImkO",
    "outputId": "356bdf5f-7034-40ac-bfc6-6b08cfe2046f"
   },
   "outputs": [
    {
     "name": "stdout",
     "output_type": "stream",
     "text": [
      "/content/drive/My Drive/BTrack/SmartSeeds\n"
     ]
    }
   ],
   "source": [
    "%cd '/content/drive/My Drive/BTrack/SmartSeeds/'\n",
    "import os\n",
    "import glob\n",
    "import sys\n",
    "sys.path.append('../../')\n",
    "import glob\n",
    "import cv2\n",
    "import numpy as np\n",
    "from tqdm import tqdm\n",
    "from stardist.models import StarDist2D\n",
    "from csbdeep.models import Config, CARE\n",
    "from Utils.helpers import multiplot, doubleplot, WatershedwithMask, zero_pad, MaxProjectDist, fill_label_holes, WatershedSmartCorrection, merge_labels_across_volume, RelabelZ\n",
    "from tifffile import imread, imwrite\n",
    "from skimage.filters import threshold_otsu\n",
    "from scipy.ndimage.morphology import binary_fill_holes\n",
    "from skimage.morphology import remove_small_objects\n",
    "from skimage.segmentation import  relabel_sequential\n",
    "from csbdeep.utils import normalize\n",
    "os.environ[\"HDF5_USE_FILE_LOCKING\"] = \"FALSE\"\n",
    "try:\n",
    "    from pathlib import Path\n",
    "    Path().expanduser()\n",
    "except (ImportError,AttributeError):\n",
    "    from pathlib2 import Path\n",
    "\n",
    "try:\n",
    "    import tempfile\n",
    "    tempfile.TemporaryDirectory\n",
    "\n",
    "except (ImportError,AttributeError):\n",
    "    from backports import tempfile"
   ]
  },
  {
   "cell_type": "code",
   "execution_count": 7,
   "metadata": {
    "colab": {
     "base_uri": "https://localhost:8080/"
    },
    "id": "Zt7mw-ZRImkP",
    "outputId": "00626ca4-fac6-41af-bb14-3bea2cdff7c3"
   },
   "outputs": [
    {
     "name": "stdout",
     "output_type": "stream",
     "text": [
      "WARNING:tensorflow:From /tensorflow-1.15.2/python3.6/tensorflow_core/python/ops/resource_variable_ops.py:1630: calling BaseResourceVariable.__init__ (from tensorflow.python.ops.resource_variable_ops) with constraint is deprecated and will be removed in a future version.\n",
      "Instructions for updating:\n",
      "If using Keras pass *_constraint arguments to layers.\n",
      "Loading network weights from 'weights_best.h5'.\n"
     ]
    }
   ],
   "source": [
    "ImageDir = '/content/drive/My Drive/BTrack/TrainingDatas/GreenCell3D/WinterDenoisedRaw/'\n",
    "BinaryImageDir = '/content/drive/My Drive/BTrack/TrainingDatas/GreenCell3D/WinterBinaryMask/'\n",
    "RealImageDir = '/content/drive/My Drive/BTrack/TrainingDatas/GreenCell3D/WinterRealMask/'\n",
    "Model_Dir = '/content/drive/My Drive/BTrack/SegmentationModel/'\n",
    "\n",
    "DenoiseResults = ImageDir \n",
    "BinaryDenoiseResults = BinaryImageDir\n",
    "RealDenoiseResults = RealImageDir\n",
    "\n",
    "\n",
    "NoiseModelName = '3DDenoisingModel'\n",
    "\n",
    "#display results after these many images\n",
    "NoiseModel = CARE(config = None, name = NoiseModelName, basedir = Model_Dir)\n"
   ]
  },
  {
   "cell_type": "code",
   "execution_count": null,
   "metadata": {
    "colab": {
     "base_uri": "https://localhost:8080/"
    },
    "id": "2sypFfttImkP",
    "outputId": "6cd28d0c-371c-4ecc-94d4-3c7c3ccde106"
   },
   "outputs": [
    {
     "name": "stdout",
     "output_type": "stream",
     "text": [
      "(65, 1024, 1024)\n",
      "WARNING:tensorflow:From /usr/local/lib/python3.6/dist-packages/keras/backend/tensorflow_backend.py:422: The name tf.global_variables is deprecated. Please use tf.compat.v1.global_variables instead.\n",
      "\n"
     ]
    }
   ],
   "source": [
    "Raw_path = os.path.join(ImageDir, '*tif')\n",
    "Path(DenoiseResults).mkdir(exist_ok = True)\n",
    "filesRaw = glob.glob(Raw_path)\n",
    "filesRaw.sort\n",
    "\n",
    "BinaryRaw_path = os.path.join(BinaryImageDir, '*tif')\n",
    "Path(BinaryDenoiseResults).mkdir(exist_ok = True)\n",
    "BinaryfilesRaw = glob.glob(BinaryRaw_path)\n",
    "BinaryfilesRaw.sort\n",
    "\n",
    "RealRaw_path = os.path.join(RealImageDir, '*tif')\n",
    "Path(RealDenoiseResults).mkdir(exist_ok = True)\n",
    "RealfilesRaw = glob.glob(RealRaw_path)\n",
    "RealfilesRaw.sort\n",
    "\n",
    "for fname in filesRaw:\n",
    "\n",
    "     for Binaryfname in BinaryfilesRaw:\n",
    "\n",
    "           for Realfname in RealfilesRaw:\n",
    "\n",
    "                  Name = os.path.basename(os.path.splitext(fname)[0])\n",
    "                  BinaryName = os.path.basename(os.path.splitext(Binaryfname)[0])\n",
    "                  RealName = os.path.basename(os.path.splitext(Realfname)[0])\n",
    "\n",
    "                  if (Name == BinaryName and Name == RealName): \n",
    "\n",
    "                            #Read image        \n",
    "                            image = imread(fname)\n",
    "                            Binaryimage = imread(Binaryfname)\n",
    "                            Realimage = imread(Realfname)\n",
    "                            print(image.shape)\n",
    "                            #Get Name\n",
    "                            x = image\n",
    "                            x = NoiseModel.predict(x,'ZYX', n_tiles=(1,4,4))\n",
    "                            #Save different method segmentation\n",
    "                            imwrite((DenoiseResults + 'Denoised' +  Name+ '.tif' ) , x.astype('float32'))\n",
    "                            imwrite((BinaryDenoiseResults + 'Denoised' +  Name+ '.tif' ) , Binaryimage.astype('float8'))\n",
    "                            imwrite((RealDenoiseResults + 'Denoised' +  Name+ '.tif' ) , Realimage.astype('float16'))\n",
    "                "
   ]
  },
  {
   "cell_type": "code",
   "execution_count": null,
   "metadata": {
    "id": "4SScUuFsJM_B"
   },
   "outputs": [],
   "source": []
  }
 ],
 "metadata": {
  "accelerator": "GPU",
  "colab": {
   "collapsed_sections": [],
   "machine_shape": "hm",
   "name": "SingleImageDenoising.ipynb",
   "provenance": []
  },
  "kernelspec": {
   "display_name": "Python 3",
   "language": "python",
   "name": "python3"
  },
  "language_info": {
   "codemirror_mode": {
    "name": "ipython",
    "version": 3
   },
   "file_extension": ".py",
   "mimetype": "text/x-python",
   "name": "python",
   "nbconvert_exporter": "python",
   "pygments_lexer": "ipython3",
   "version": "3.7.0"
  }
 },
 "nbformat": 4,
 "nbformat_minor": 1
}
