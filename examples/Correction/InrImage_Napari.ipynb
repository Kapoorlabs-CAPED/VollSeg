{
 "cells": [
  {
   "cell_type": "code",
   "execution_count": 2,
   "metadata": {},
   "outputs": [],
   "source": [
    "\n",
    "from vollseg import inrimage\n",
    "import napari\n",
    "import os\n",
    "import numpy as np\n",
    "import glob\n",
    "from pathlib import Path\n",
    "\n",
    "from tifffile import imread, imwrite\n",
    "%gui qt"
   ]
  },
  {
   "cell_type": "code",
   "execution_count": 3,
   "metadata": {},
   "outputs": [],
   "source": [
    "sourcedir = 'D:/LightSheetRaw/Astec-half-Pm1/POST/POST_RELEASE/'\n",
    "savedir = 'D:/LightSheetRaw/Astec-half-Pm1/RealMask/'\n",
    "Path(savedir).mkdir(exist_ok=True)\n",
    "Raw_path = os.path.join(sourcedir, '*.gz')\n",
    "filesRaw = glob.glob(Raw_path)\n",
    "\n",
    "for fname in filesRaw:\n",
    "    image = inrimage.read_inrimage(fname)\n",
    "    image = np.subtract(image, 1)\n",
    "    Name = os.path.basename(os.path.splitext(fname)[0]) \n",
    "    imwrite(savedir + '/' + Name + '.tif', image.astype('uint16') )\n"
   ]
  },
  {
   "cell_type": "code",
   "execution_count": 4,
   "metadata": {},
   "outputs": [
    {
     "name": "stdout",
     "output_type": "stream",
     "text": [
      "(502, 355, 770)\n"
     ]
    }
   ],
   "source": [
    "print(image.shape)"
   ]
  },
  {
   "cell_type": "code",
   "execution_count": 5,
   "metadata": {},
   "outputs": [
    {
     "name": "stderr",
     "output_type": "stream",
     "text": [
      "__init__.py (165): Public access to Window.qt_viewer is deprecated and will be removed in\n",
      "v0.5.0. It is considered an \"implementation detail\" of the napari\n",
      "application, not part of the napari viewer model. If your use case\n",
      "requires access to qt_viewer, please open an issue to discuss.\n"
     ]
    },
    {
     "data": {
      "text/plain": [
       "<Image layer 'image' at 0x1aa4af0f0d0>"
      ]
     },
     "execution_count": 5,
     "metadata": {},
     "output_type": "execute_result"
    }
   ],
   "source": [
    "viewer = napari.Viewer()\n",
    "viewer.dims.ndisplay = 3\n",
    "viewer.add_image(image)"
   ]
  },
  {
   "cell_type": "code",
   "execution_count": 6,
   "metadata": {},
   "outputs": [],
   "source": [
    "sourcedir = 'D:/LightSheetRaw/Astec-Pm11/Astec-Pm11/POST/POST_RELEASE/'\n",
    "savedir = 'D:/LightSheetRaw/Astec-Pm11/Astec-Pm11/RealMask/'\n",
    "Path(savedir).mkdir(exist_ok=True)\n",
    "Raw_path = os.path.join(sourcedir, '*.gz')\n",
    "filesRaw = glob.glob(Raw_path)\n",
    "\n",
    "for fname in filesRaw:\n",
    "    image = inrimage.read_inrimage(fname)\n",
    "    image = np.subtract(image, 1)\n",
    "    Name = os.path.basename(os.path.splitext(fname)[0]) \n",
    "    imwrite(savedir + '/' + Name + '.tif', image.astype('uint16') )\n"
   ]
  },
  {
   "cell_type": "code",
   "execution_count": 7,
   "metadata": {},
   "outputs": [],
   "source": [
    "sourcedir = 'D:/LightSheetRaw/Astec-Pm7/Astec-Pm7/POST/POST_RELEASE/'\n",
    "savedir = 'D:/LightSheetRaw/Astec-Pm7/Astec-Pm7/RealMask/'\n",
    "Path(savedir).mkdir(exist_ok=True)\n",
    "Raw_path = os.path.join(sourcedir, '*.gz')\n",
    "filesRaw = glob.glob(Raw_path)\n",
    "\n",
    "for fname in filesRaw:\n",
    "    image = inrimage.read_inrimage(fname)\n",
    "    image = np.subtract(image, 1)\n",
    "    Name = os.path.basename(os.path.splitext(fname)[0]) \n",
    "    imwrite(savedir + '/' + Name + '.tif', image.astype('uint16') )"
   ]
  },
  {
   "cell_type": "code",
   "execution_count": 8,
   "metadata": {},
   "outputs": [],
   "source": [
    "\n",
    "sourcedir = 'D:/LightSheetRaw/Astec-Pm8/Astec-pm8/POST/POST_RELEASE/'\n",
    "savedir = 'D:/LightSheetRaw/Astec-Pm8/Astec-pm8/RealMask/'\n",
    "Path(savedir).mkdir(exist_ok=True)\n",
    "Raw_path = os.path.join(sourcedir, '*.gz')\n",
    "filesRaw = glob.glob(Raw_path)\n",
    "\n",
    "for fname in filesRaw:\n",
    "    image = inrimage.read_inrimage(fname)\n",
    "    image = np.subtract(image, 1)\n",
    "    Name = os.path.basename(os.path.splitext(fname)[0]) \n",
    "    imwrite(savedir + '/' + Name + '.tif', image.astype('uint16') )"
   ]
  },
  {
   "cell_type": "code",
   "execution_count": null,
   "metadata": {},
   "outputs": [],
   "source": []
  }
 ],
 "metadata": {
  "kernelspec": {
   "display_name": "Python 3 (ipykernel)",
   "language": "python",
   "name": "python3"
  },
  "language_info": {
   "codemirror_mode": {
    "name": "ipython",
    "version": 3
   },
   "file_extension": ".py",
   "mimetype": "text/x-python",
   "name": "python",
   "nbconvert_exporter": "python",
   "pygments_lexer": "ipython3",
   "version": "3.9.0"
  }
 },
 "nbformat": 4,
 "nbformat_minor": 4
}
