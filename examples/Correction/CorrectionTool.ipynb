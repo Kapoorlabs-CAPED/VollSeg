{
 "cells": [
  {
   "cell_type": "code",
   "execution_count": 1,
   "metadata": {},
   "outputs": [],
   "source": [
    "import sys\n",
    "import numpy as np\n",
    "import glob\n",
    "import os\n",
    "from tifffile import imread, imwrite\n",
    "import napari\n",
    "from pathlib import Path\n"
   ]
  },
  {
   "cell_type": "markdown",
   "metadata": {},
   "source": [
    "In the cell below select the raw image and the labelled image directory, the filenames in both the folders should be the same"
   ]
  },
  {
   "cell_type": "code",
   "execution_count": 2,
   "metadata": {},
   "outputs": [],
   "source": [
    "Imagedir = 'D:/TrainingData/Drosophila_Segmentation/TrainingData/Raw/'\n",
    "\n",
    "\n",
    "SegmentationDir = 'D:/TrainingData/Drosophila_Segmentation/TrainingData/real_mask/'\n",
    "\n"
   ]
  },
  {
   "cell_type": "code",
   "execution_count": null,
   "metadata": {},
   "outputs": [
    {
     "name": "stdout",
     "output_type": "stream",
     "text": [
      "D:/TrainingData/Drosophila_Segmentation/TrainingData/Raw\\C1-2018_03_08_cad_cic_LSM0.tif\n",
      "1562\n"
     ]
    }
   ],
   "source": [
    "Raw_path = os.path.join(Imagedir, '*tif')\n",
    "\n",
    "Seg_path = os.path.join(SegmentationDir, '*tif')\n",
    "\n",
    "\n",
    "filesRaw = glob.glob(Raw_path)\n",
    "filesRaw.sort\n",
    "filesSeg = glob.glob(Seg_path)\n",
    "filesSeg.sort\n",
    "\n",
    "\n",
    "RawImages = []\n",
    "SegImages = []\n",
    "Name = []\n",
    "\n",
    "viewer = napari.Viewer()\n",
    "for fname in filesRaw:\n",
    "  for secondname in filesSeg:\n",
    "    \n",
    "    if os.path.basename(os.path.splitext(secondname)[0]) == os.path.basename(os.path.splitext(fname)[0]):\n",
    "            print(fname)\n",
    "            image = imread(fname)\n",
    "            \n",
    "            Segimage = imread(secondname)\n",
    "            \n",
    "            Name = (os.path.basename(os.path.splitext(fname)[0]))\n",
    "            image_layer = viewer.add_image(image, name='Raw')\n",
    "                \n",
    "            label_layer = viewer.add_labels(Segimage, name= 'Segmentation') \n",
    "            print(np.max(Segimage))\n",
    "            #Block viewer\n",
    "        \n",
    "            viewer.show(block=True)\n",
    "            \n",
    "            ModifiedArray = viewer.layers['Segmentation'].data \n",
    "            imwrite((SegmentationDir   +   Name + '.tif' ) , (ModifiedArray.astype('uint16')))   \n",
    "   "
   ]
  },
  {
   "cell_type": "code",
   "execution_count": null,
   "metadata": {},
   "outputs": [],
   "source": []
  }
 ],
 "metadata": {
  "kernelspec": {
   "display_name": "Python 3 (ipykernel)",
   "language": "python",
   "name": "python3"
  },
  "language_info": {
   "codemirror_mode": {
    "name": "ipython",
    "version": 3
   },
   "file_extension": ".py",
   "mimetype": "text/x-python",
   "name": "python",
   "nbconvert_exporter": "python",
   "pygments_lexer": "ipython3",
   "version": "3.9.0"
  }
 },
 "nbformat": 4,
 "nbformat_minor": 4
}
