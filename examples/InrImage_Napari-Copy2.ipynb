{
 "cells": [
  {
   "cell_type": "code",
   "execution_count": 1,
   "metadata": {},
   "outputs": [
    {
     "name": "stdout",
     "output_type": "stream",
     "text": [
      "Requirement already satisfied: natsort in /home/varunkapoor/anaconda3/envs/naparienv/lib/python3.9/site-packages (8.0.2)\n",
      "DIPlib -- a quantitative image analysis library\n",
      "Version 3.1.0 (Sep 24 2021)\n",
      "For more information see https://diplib.org\n"
     ]
    }
   ],
   "source": [
    "!pip install natsort\n",
    "from vollseg import inrimage\n",
    "import napari\n",
    "import os\n",
    "import numpy as np\n",
    "import glob\n",
    "from pathlib import Path\n",
    "from natsort import natsorted\n",
    "from tifffile import imread, imwrite\n",
    "%gui qt"
   ]
  },
  {
   "cell_type": "code",
   "execution_count": 2,
   "metadata": {},
   "outputs": [],
   "source": [
    "sourcedir = '/mnt/d/LightSheetRaw/Astec-half-Pm1/FUSE/FUSE_ERK/'\n",
    "savedir = '/mnt/d/LightSheetRaw/Astec-half-Pm1/FUSE/FUSE_ERK/Tif_files/'\n",
    "Path(savedir).mkdir(exist_ok=True)\n",
    "Raw_path = os.path.join(sourcedir, '*.gz')\n",
    "filesRaw = glob.glob(Raw_path)\n",
    "filesRaw = natsorted(filesRaw)\n",
    "for fname in filesRaw:\n",
    "    image = inrimage.read_inrimage(fname)\n",
    "   \n",
    "    Name = os.path.basename(os.path.splitext(fname)[0]) \n",
    "    imwrite(savedir + '/' + Name + '.tif', image.astype('float32') )\n"
   ]
  },
  {
   "cell_type": "code",
   "execution_count": 3,
   "metadata": {},
   "outputs": [
    {
     "name": "stdout",
     "output_type": "stream",
     "text": [
      "(532, 344, 770)\n"
     ]
    }
   ],
   "source": [
    "print(image.shape)"
   ]
  },
  {
   "cell_type": "code",
   "execution_count": null,
   "metadata": {},
   "outputs": [],
   "source": [
    "viewer = napari.Viewer()\n",
    "viewer.dims.ndisplay = 3\n",
    "viewer.add_image(image)"
   ]
  },
  {
   "cell_type": "code",
   "execution_count": null,
   "metadata": {},
   "outputs": [],
   "source": []
  },
  {
   "cell_type": "code",
   "execution_count": null,
   "metadata": {},
   "outputs": [],
   "source": []
  }
 ],
 "metadata": {
  "kernelspec": {
   "display_name": "Python [conda env:naparienv] *",
   "language": "python",
   "name": "conda-env-naparienv-py"
  },
  "language_info": {
   "codemirror_mode": {
    "name": "ipython",
    "version": 3
   },
   "file_extension": ".py",
   "mimetype": "text/x-python",
   "name": "python",
   "nbconvert_exporter": "python",
   "pygments_lexer": "ipython3",
   "version": "3.9.0"
  }
 },
 "nbformat": 4,
 "nbformat_minor": 4
}
