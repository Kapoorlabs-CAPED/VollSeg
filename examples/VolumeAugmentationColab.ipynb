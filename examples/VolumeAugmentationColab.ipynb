{
 "cells": [
  {
   "cell_type": "code",
   "execution_count": null,
   "metadata": {
    "colab": {
     "base_uri": "https://localhost:8080/"
    },
    "id": "qSfH07pvo1Ik",
    "outputId": "bfc18d35-2067-49f8-c872-fa64d9c54ed3"
   },
   "outputs": [],
   "source": [
    "from google.colab import drive\n",
    "drive.mount('/content/drive', force_remount = True)\n",
    "%tensorflow_version 1.x"
   ]
  },
  {
   "cell_type": "code",
   "execution_count": null,
   "metadata": {
    "colab": {
     "base_uri": "https://localhost:8080/"
    },
    "id": "d5GU79QApAT5",
    "outputId": "56f41840-8dcb-4fcf-9ac0-1a3bf5e3d5d0"
   },
   "outputs": [],
   "source": [
    "!pip install tiffile\n",
    "!pip install elasticdeform\n",
    "!pip install keras==2.2.5\n",
    "!pip install csbdeep\n",
    "!pip install stardist\n",
    "!pip install gputools\n",
    "!pip install btrack"
   ]
  },
  {
   "cell_type": "code",
   "execution_count": null,
   "metadata": {
    "colab": {
     "base_uri": "https://localhost:8080/"
    },
    "id": "ymhvicg_o8mz",
    "outputId": "2dc00503-2463-4ab9-b3ec-48f4c1ba37e1"
   },
   "outputs": [],
   "source": [
    "%cd '/content/drive/My Drive/BTrack/SmartSeeds/Utils/'\n",
    "import os\n",
    "import glob\n",
    "import sys\n",
    "\n",
    "from tifffile import imread, imwrite\n",
    "import numpy as np\n",
    "from tqdm import tqdm\n",
    "from Augmentation import Augmentation3D\n",
    "from helpers import Resizer3D\n",
    "from pathlib import Path"
   ]
  },
  {
   "cell_type": "code",
   "execution_count": null,
   "metadata": {
    "id": "h-jLiXOMo1Im"
   },
   "outputs": [],
   "source": [
    "ImageDir =  '/content/drive/My Drive/BTrack/TrainingDatas/GreenCell3D/WinterPatchRaw/'\n",
    "LabelDir = '/content/drive/My Drive/BTrack/TrainingDatas/GreenCell3D/WinterPatchMask/'\n",
    "\n",
    "ResizeImageDir =  '/content/drive/My Drive/BTrack/TrainingDatas/GreenCell3D/WinterDenoisedRaw/'\n",
    "ResizeLabelDir = '/content/drive/My Drive/BTrack/TrainingDatas/GreenCell3D/WinterRealMask/'\n",
    "\n",
    "Resize = False"
   ]
  },
  {
   "cell_type": "code",
   "execution_count": null,
   "metadata": {
    "colab": {
     "base_uri": "https://localhost:8080/"
    },
    "id": "s_yuRRDYo1Im",
    "outputId": "37a749db-a3ff-4c5b-d407-2d2c36ab277f"
   },
   "outputs": [],
   "source": [
    "if Resize:\n",
    "        Raw_path = os.path.join(ImageDir, '*tif')\n",
    "        filesRaw = glob.glob(Raw_path)\n",
    "        filesRaw.sort\n",
    "\n",
    "        Label_path = os.path.join(LabelDir, '*tif')\n",
    "        filesLabel = glob.glob(Label_path)\n",
    "        filesLabel.sort\n",
    "\n",
    "        SizeX = 1024\n",
    "        SizeY = 1024\n",
    "        SizeZ = 65\n",
    "        Data = []\n",
    "        Label = []\n",
    "        for fname in filesRaw:\n",
    "            \n",
    "            for secondfname in filesLabel:\n",
    "                \n",
    "                Name = os.path.basename(os.path.splitext(fname)[0])\n",
    "                LabelName = os.path.basename(os.path.splitext(secondfname)[0])\n",
    "                if Name == LabelName:\n",
    "                    image = Resizer3D(imread(fname), SizeX, SizeY, SizeZ)\n",
    "                    Data.append(image)\n",
    "                    labelimage = Resizer3D(imread(secondfname), SizeX, SizeY, SizeZ)\n",
    "                    Label.append(labelimage)   \n",
    "            \n",
    "        Data = np.asarray(Data)\n",
    "        Label = np.asarray(Label)\n",
    "        print(Data.shape, Label.shape)    \n",
    "else:\n",
    "\n",
    "        Raw_path = os.path.join(ResizeImageDir, '*tif')\n",
    "        filesRaw = glob.glob(Raw_path)\n",
    "        filesRaw.sort\n",
    "\n",
    "        Label_path = os.path.join(ResizeLabelDir, '*tif')\n",
    "        filesLabel = glob.glob(Label_path)\n",
    "        filesLabel.sort\n",
    "\n",
    "        Data = []\n",
    "        Label = []\n",
    "        for fname in filesRaw:\n",
    "            \n",
    "            for secondfname in filesLabel:\n",
    "                \n",
    "                Name = os.path.basename(os.path.splitext(fname)[0])\n",
    "                LabelName = os.path.basename(os.path.splitext(secondfname)[0])\n",
    "                if Name == LabelName:\n",
    "                    image = imread(fname)\n",
    "                    Data.append(image)\n",
    "                    labelimage = imread(secondfname)\n",
    "                    Label.append(labelimage)   \n",
    "            \n",
    "        Data = np.asarray(Data)\n",
    "        Label = np.asarray(Label)\n",
    "        print(Data.shape, Label.shape)   \n",
    "\n"
   ]
  },
  {
   "cell_type": "code",
   "execution_count": null,
   "metadata": {
    "id": "618QlmtGuIBz"
   },
   "outputs": [],
   "source": [
    "if Resize:\n",
    "\n",
    "        Path(ResizeImageDir).mkdir(exist_ok=True)\n",
    "        Path(ResizeLabelDir).mkdir(exist_ok=True)\n",
    "        Count = 0\n",
    "        for i in range(0, Data.shape[0]):\n",
    "          Name = 'GreenCellsClaudia' + str(Count)\n",
    "          imwrite(ResizeImageDir + '/' + Name + '.tif', Data[i].astype('float16'))\n",
    "          imwrite(ResizeLabelDir + '/' + Name + '.tif', Label[i].astype('uint16'))\n",
    "          Count = Count + 1"
   ]
  },
  {
   "cell_type": "code",
   "execution_count": null,
   "metadata": {
    "id": "D92VnV5qo1In"
   },
   "outputs": [],
   "source": [
    "AugmentImageDir =  '/content/drive/My Drive/BTrack/TrainingDatas/GreenCell3D/WinterDenoisedRaw/'\n",
    "AugmentLabelDir = '/content/drive/My Drive/BTrack/TrainingDatas/GreenCell3D/WinterRealMask/'\n",
    "Path(AugmentImageDir).mkdir(exist_ok=True)\n",
    "Path(AugmentLabelDir).mkdir(exist_ok=True)"
   ]
  },
  {
   "cell_type": "code",
   "execution_count": null,
   "metadata": {
    "id": "VdsuZ78Vry1X"
   },
   "outputs": [],
   "source": [
    "#Shift the image and label pair along axis 1 (z axis)\n",
    "AugmentData = Augmentation3D(shift_axis=1, shift_range = 1)\n",
    "AugImageLabel = AugmentData.build(data=Data, label=Label, batch_size = Data.shape[0])\n",
    "\n"
   ]
  },
  {
   "cell_type": "code",
   "execution_count": null,
   "metadata": {
    "id": "xlyZwWM7sbxa"
   },
   "outputs": [],
   "source": [
    "#Save the shifts\n",
    "AugPair = np.asarray(next(AugImageLabel))\n",
    "Count = 0\n",
    "for i in range(0, AugPair.shape[1]):\n",
    "     Name = 'GreenCellsClaudiaShiftedPos' + str(Count)\n",
    "     imwrite(AugmentImageDir + '/' + Name + '.tif', AugPair[0,i,:,:].astype('float32'))\n",
    "     imwrite(AugmentLabelDir + '/' + Name + '.tif', AugPair[1,i,:,:].astype('uint16'))\n",
    "     Count = Count + 1"
   ]
  },
  {
   "cell_type": "code",
   "execution_count": null,
   "metadata": {
    "id": "XYOA7cGx1SI2"
   },
   "outputs": [],
   "source": [
    "#Shift the image and label pair along axis 1 (z axis)\n",
    "AugmentData = Augmentation3D(shift_axis=1, shift_range = -1)\n",
    "AugImageLabel = AugmentData.build(data=Data, label=Label, batch_size = Data.shape[0])"
   ]
  },
  {
   "cell_type": "code",
   "execution_count": null,
   "metadata": {
    "id": "wtdoIsLi6KE3"
   },
   "outputs": [],
   "source": [
    "#Save the shifts\n",
    "AugPair = np.asarray(next(AugImageLabel))\n",
    "Count = 0\n",
    "for i in range(0, AugPair.shape[1]):\n",
    "     Name = 'GreenCellsClaudiaShiftedNeg' + str(Count)\n",
    "     imwrite(AugmentImageDir + '/' + Name + '.tif', AugPair[0,i,:,:].astype('float32'))\n",
    "     imwrite(AugmentLabelDir + '/' + Name + '.tif', AugPair[1,i,:,:].astype('uint16'))\n",
    "     Count = Count + 1"
   ]
  },
  {
   "cell_type": "code",
   "execution_count": null,
   "metadata": {
    "id": "Fy5ZjOTR6bYa"
   },
   "outputs": [],
   "source": [
    "#Flip the image and label pair along axis 1 (z axis)\n",
    "AugmentData = Augmentation3D(flip_axis=1)\n",
    "AugImageLabel = AugmentData.build(data=Data, label=Label, batch_size = Data.shape[0])\n"
   ]
  },
  {
   "cell_type": "code",
   "execution_count": null,
   "metadata": {
    "id": "Q9jaJuSV6zGg"
   },
   "outputs": [],
   "source": [
    "#Save the flips\n",
    "AugPair = np.asarray(next(AugImageLabel))\n",
    "Count = 0\n",
    "for i in range(0, AugPair.shape[1]):\n",
    "     Name = 'GreenCellsClaudiaFlip' + str(Count)\n",
    "     imwrite(AugmentImageDir + '/' + Name + '.tif', AugPair[0,i,:,:].astype('float32'))\n",
    "     imwrite(AugmentLabelDir + '/' + Name + '.tif', AugPair[1,i,:,:].astype('uint16'))\n",
    "     Count = Count + 1"
   ]
  },
  {
   "cell_type": "code",
   "execution_count": null,
   "metadata": {
    "id": "abjVyvFmF4yu"
   },
   "outputs": [],
   "source": []
  }
 ],
 "metadata": {
  "colab": {
   "collapsed_sections": [],
   "machine_shape": "hm",
   "name": "VolumeAugmentation.ipynb",
   "provenance": []
  },
  "kernelspec": {
   "display_name": "Python 3",
   "language": "python",
   "name": "python3"
  },
  "language_info": {
   "codemirror_mode": {
    "name": "ipython",
    "version": 3
   },
   "file_extension": ".py",
   "mimetype": "text/x-python",
   "name": "python",
   "nbconvert_exporter": "python",
   "pygments_lexer": "ipython3",
   "version": "3.8.5"
  }
 },
 "nbformat": 4,
 "nbformat_minor": 1
}
